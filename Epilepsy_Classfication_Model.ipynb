{
  "nbformat": 4,
  "nbformat_minor": 0,
  "metadata": {
    "colab": {
      "provenance": [],
      "collapsed_sections": [],
      "authorship_tag": "ABX9TyMz7J/mIORrAukHzneaPW3l",
      "include_colab_link": true
    },
    "kernelspec": {
      "name": "python3",
      "display_name": "Python 3"
    },
    "language_info": {
      "name": "python"
    }
  },
  "cells": [
    {
      "cell_type": "markdown",
      "metadata": {
        "id": "view-in-github",
        "colab_type": "text"
      },
      "source": [
        "<a href=\"https://colab.research.google.com/github/KEDAR30/Data_Science_Exam_Q.2/blob/main/Epilepsy_Classfication_Model.ipynb\" target=\"_parent\"><img src=\"https://colab.research.google.com/assets/colab-badge.svg\" alt=\"Open In Colab\"/></a>"
      ]
    },
    {
      "cell_type": "code",
      "execution_count": 1,
      "metadata": {
        "id": "SD9ebznQqK4Z"
      },
      "outputs": [],
      "source": [
        "import pandas as pd\n",
        "import numpy as np\n",
        "import matplotlib.pyplot as plt\n",
        "import seaborn as sns"
      ]
    },
    {
      "cell_type": "code",
      "source": [
        "df=pd.read_csv('https://raw.githubusercontent.com/edyoda/data-science-complete-tutorial/master/Data/epilepsy.data')\n",
        "df.head()"
      ],
      "metadata": {
        "colab": {
          "base_uri": "https://localhost:8080/",
          "height": 299
        },
        "id": "U3hfN0rAqmrM",
        "outputId": "64b734a7-639f-4464-e672-f1e4912aae46"
      },
      "execution_count": 2,
      "outputs": [
        {
          "output_type": "execute_result",
          "data": {
            "text/plain": [
              "             name  MDVP:Fo(Hz)  MDVP:Fhi(Hz)  MDVP:Flo(Hz)  MDVP:Jitter(%)  \\\n",
              "0  phon_R01_S01_1      119.992       157.302        74.997         0.00784   \n",
              "1  phon_R01_S01_2      122.400       148.650       113.819         0.00968   \n",
              "2  phon_R01_S01_3      116.682       131.111       111.555         0.01050   \n",
              "3  phon_R01_S01_4      116.676       137.871       111.366         0.00997   \n",
              "4  phon_R01_S01_5      116.014       141.781       110.655         0.01284   \n",
              "\n",
              "   MDVP:Jitter(Abs)  MDVP:RAP  MDVP:PPQ  Jitter:DDP  MDVP:Shimmer  ...  \\\n",
              "0           0.00007   0.00370   0.00554     0.01109       0.04374  ...   \n",
              "1           0.00008   0.00465   0.00696     0.01394       0.06134  ...   \n",
              "2           0.00009   0.00544   0.00781     0.01633       0.05233  ...   \n",
              "3           0.00009   0.00502   0.00698     0.01505       0.05492  ...   \n",
              "4           0.00011   0.00655   0.00908     0.01966       0.06425  ...   \n",
              "\n",
              "   Shimmer:DDA      NHR     HNR  status      RPDE       DFA   spread1  \\\n",
              "0      0.06545  0.02211  21.033       1  0.414783  0.815285 -4.813031   \n",
              "1      0.09403  0.01929  19.085       1  0.458359  0.819521 -4.075192   \n",
              "2      0.08270  0.01309  20.651       1  0.429895  0.825288 -4.443179   \n",
              "3      0.08771  0.01353  20.644       1  0.434969  0.819235 -4.117501   \n",
              "4      0.10470  0.01767  19.649       1  0.417356  0.823484 -3.747787   \n",
              "\n",
              "    spread2        D2       PPE  \n",
              "0  0.266482  2.301442  0.284654  \n",
              "1  0.335590  2.486855  0.368674  \n",
              "2  0.311173  2.342259  0.332634  \n",
              "3  0.334147  2.405554  0.368975  \n",
              "4  0.234513  2.332180  0.410335  \n",
              "\n",
              "[5 rows x 24 columns]"
            ],
            "text/html": [
              "\n",
              "  <div id=\"df-93badd33-fa72-44df-bce9-f0501fc4c96f\">\n",
              "    <div class=\"colab-df-container\">\n",
              "      <div>\n",
              "<style scoped>\n",
              "    .dataframe tbody tr th:only-of-type {\n",
              "        vertical-align: middle;\n",
              "    }\n",
              "\n",
              "    .dataframe tbody tr th {\n",
              "        vertical-align: top;\n",
              "    }\n",
              "\n",
              "    .dataframe thead th {\n",
              "        text-align: right;\n",
              "    }\n",
              "</style>\n",
              "<table border=\"1\" class=\"dataframe\">\n",
              "  <thead>\n",
              "    <tr style=\"text-align: right;\">\n",
              "      <th></th>\n",
              "      <th>name</th>\n",
              "      <th>MDVP:Fo(Hz)</th>\n",
              "      <th>MDVP:Fhi(Hz)</th>\n",
              "      <th>MDVP:Flo(Hz)</th>\n",
              "      <th>MDVP:Jitter(%)</th>\n",
              "      <th>MDVP:Jitter(Abs)</th>\n",
              "      <th>MDVP:RAP</th>\n",
              "      <th>MDVP:PPQ</th>\n",
              "      <th>Jitter:DDP</th>\n",
              "      <th>MDVP:Shimmer</th>\n",
              "      <th>...</th>\n",
              "      <th>Shimmer:DDA</th>\n",
              "      <th>NHR</th>\n",
              "      <th>HNR</th>\n",
              "      <th>status</th>\n",
              "      <th>RPDE</th>\n",
              "      <th>DFA</th>\n",
              "      <th>spread1</th>\n",
              "      <th>spread2</th>\n",
              "      <th>D2</th>\n",
              "      <th>PPE</th>\n",
              "    </tr>\n",
              "  </thead>\n",
              "  <tbody>\n",
              "    <tr>\n",
              "      <th>0</th>\n",
              "      <td>phon_R01_S01_1</td>\n",
              "      <td>119.992</td>\n",
              "      <td>157.302</td>\n",
              "      <td>74.997</td>\n",
              "      <td>0.00784</td>\n",
              "      <td>0.00007</td>\n",
              "      <td>0.00370</td>\n",
              "      <td>0.00554</td>\n",
              "      <td>0.01109</td>\n",
              "      <td>0.04374</td>\n",
              "      <td>...</td>\n",
              "      <td>0.06545</td>\n",
              "      <td>0.02211</td>\n",
              "      <td>21.033</td>\n",
              "      <td>1</td>\n",
              "      <td>0.414783</td>\n",
              "      <td>0.815285</td>\n",
              "      <td>-4.813031</td>\n",
              "      <td>0.266482</td>\n",
              "      <td>2.301442</td>\n",
              "      <td>0.284654</td>\n",
              "    </tr>\n",
              "    <tr>\n",
              "      <th>1</th>\n",
              "      <td>phon_R01_S01_2</td>\n",
              "      <td>122.400</td>\n",
              "      <td>148.650</td>\n",
              "      <td>113.819</td>\n",
              "      <td>0.00968</td>\n",
              "      <td>0.00008</td>\n",
              "      <td>0.00465</td>\n",
              "      <td>0.00696</td>\n",
              "      <td>0.01394</td>\n",
              "      <td>0.06134</td>\n",
              "      <td>...</td>\n",
              "      <td>0.09403</td>\n",
              "      <td>0.01929</td>\n",
              "      <td>19.085</td>\n",
              "      <td>1</td>\n",
              "      <td>0.458359</td>\n",
              "      <td>0.819521</td>\n",
              "      <td>-4.075192</td>\n",
              "      <td>0.335590</td>\n",
              "      <td>2.486855</td>\n",
              "      <td>0.368674</td>\n",
              "    </tr>\n",
              "    <tr>\n",
              "      <th>2</th>\n",
              "      <td>phon_R01_S01_3</td>\n",
              "      <td>116.682</td>\n",
              "      <td>131.111</td>\n",
              "      <td>111.555</td>\n",
              "      <td>0.01050</td>\n",
              "      <td>0.00009</td>\n",
              "      <td>0.00544</td>\n",
              "      <td>0.00781</td>\n",
              "      <td>0.01633</td>\n",
              "      <td>0.05233</td>\n",
              "      <td>...</td>\n",
              "      <td>0.08270</td>\n",
              "      <td>0.01309</td>\n",
              "      <td>20.651</td>\n",
              "      <td>1</td>\n",
              "      <td>0.429895</td>\n",
              "      <td>0.825288</td>\n",
              "      <td>-4.443179</td>\n",
              "      <td>0.311173</td>\n",
              "      <td>2.342259</td>\n",
              "      <td>0.332634</td>\n",
              "    </tr>\n",
              "    <tr>\n",
              "      <th>3</th>\n",
              "      <td>phon_R01_S01_4</td>\n",
              "      <td>116.676</td>\n",
              "      <td>137.871</td>\n",
              "      <td>111.366</td>\n",
              "      <td>0.00997</td>\n",
              "      <td>0.00009</td>\n",
              "      <td>0.00502</td>\n",
              "      <td>0.00698</td>\n",
              "      <td>0.01505</td>\n",
              "      <td>0.05492</td>\n",
              "      <td>...</td>\n",
              "      <td>0.08771</td>\n",
              "      <td>0.01353</td>\n",
              "      <td>20.644</td>\n",
              "      <td>1</td>\n",
              "      <td>0.434969</td>\n",
              "      <td>0.819235</td>\n",
              "      <td>-4.117501</td>\n",
              "      <td>0.334147</td>\n",
              "      <td>2.405554</td>\n",
              "      <td>0.368975</td>\n",
              "    </tr>\n",
              "    <tr>\n",
              "      <th>4</th>\n",
              "      <td>phon_R01_S01_5</td>\n",
              "      <td>116.014</td>\n",
              "      <td>141.781</td>\n",
              "      <td>110.655</td>\n",
              "      <td>0.01284</td>\n",
              "      <td>0.00011</td>\n",
              "      <td>0.00655</td>\n",
              "      <td>0.00908</td>\n",
              "      <td>0.01966</td>\n",
              "      <td>0.06425</td>\n",
              "      <td>...</td>\n",
              "      <td>0.10470</td>\n",
              "      <td>0.01767</td>\n",
              "      <td>19.649</td>\n",
              "      <td>1</td>\n",
              "      <td>0.417356</td>\n",
              "      <td>0.823484</td>\n",
              "      <td>-3.747787</td>\n",
              "      <td>0.234513</td>\n",
              "      <td>2.332180</td>\n",
              "      <td>0.410335</td>\n",
              "    </tr>\n",
              "  </tbody>\n",
              "</table>\n",
              "<p>5 rows × 24 columns</p>\n",
              "</div>\n",
              "      <button class=\"colab-df-convert\" onclick=\"convertToInteractive('df-93badd33-fa72-44df-bce9-f0501fc4c96f')\"\n",
              "              title=\"Convert this dataframe to an interactive table.\"\n",
              "              style=\"display:none;\">\n",
              "        \n",
              "  <svg xmlns=\"http://www.w3.org/2000/svg\" height=\"24px\"viewBox=\"0 0 24 24\"\n",
              "       width=\"24px\">\n",
              "    <path d=\"M0 0h24v24H0V0z\" fill=\"none\"/>\n",
              "    <path d=\"M18.56 5.44l.94 2.06.94-2.06 2.06-.94-2.06-.94-.94-2.06-.94 2.06-2.06.94zm-11 1L8.5 8.5l.94-2.06 2.06-.94-2.06-.94L8.5 2.5l-.94 2.06-2.06.94zm10 10l.94 2.06.94-2.06 2.06-.94-2.06-.94-.94-2.06-.94 2.06-2.06.94z\"/><path d=\"M17.41 7.96l-1.37-1.37c-.4-.4-.92-.59-1.43-.59-.52 0-1.04.2-1.43.59L10.3 9.45l-7.72 7.72c-.78.78-.78 2.05 0 2.83L4 21.41c.39.39.9.59 1.41.59.51 0 1.02-.2 1.41-.59l7.78-7.78 2.81-2.81c.8-.78.8-2.07 0-2.86zM5.41 20L4 18.59l7.72-7.72 1.47 1.35L5.41 20z\"/>\n",
              "  </svg>\n",
              "      </button>\n",
              "      \n",
              "  <style>\n",
              "    .colab-df-container {\n",
              "      display:flex;\n",
              "      flex-wrap:wrap;\n",
              "      gap: 12px;\n",
              "    }\n",
              "\n",
              "    .colab-df-convert {\n",
              "      background-color: #E8F0FE;\n",
              "      border: none;\n",
              "      border-radius: 50%;\n",
              "      cursor: pointer;\n",
              "      display: none;\n",
              "      fill: #1967D2;\n",
              "      height: 32px;\n",
              "      padding: 0 0 0 0;\n",
              "      width: 32px;\n",
              "    }\n",
              "\n",
              "    .colab-df-convert:hover {\n",
              "      background-color: #E2EBFA;\n",
              "      box-shadow: 0px 1px 2px rgba(60, 64, 67, 0.3), 0px 1px 3px 1px rgba(60, 64, 67, 0.15);\n",
              "      fill: #174EA6;\n",
              "    }\n",
              "\n",
              "    [theme=dark] .colab-df-convert {\n",
              "      background-color: #3B4455;\n",
              "      fill: #D2E3FC;\n",
              "    }\n",
              "\n",
              "    [theme=dark] .colab-df-convert:hover {\n",
              "      background-color: #434B5C;\n",
              "      box-shadow: 0px 1px 3px 1px rgba(0, 0, 0, 0.15);\n",
              "      filter: drop-shadow(0px 1px 2px rgba(0, 0, 0, 0.3));\n",
              "      fill: #FFFFFF;\n",
              "    }\n",
              "  </style>\n",
              "\n",
              "      <script>\n",
              "        const buttonEl =\n",
              "          document.querySelector('#df-93badd33-fa72-44df-bce9-f0501fc4c96f button.colab-df-convert');\n",
              "        buttonEl.style.display =\n",
              "          google.colab.kernel.accessAllowed ? 'block' : 'none';\n",
              "\n",
              "        async function convertToInteractive(key) {\n",
              "          const element = document.querySelector('#df-93badd33-fa72-44df-bce9-f0501fc4c96f');\n",
              "          const dataTable =\n",
              "            await google.colab.kernel.invokeFunction('convertToInteractive',\n",
              "                                                     [key], {});\n",
              "          if (!dataTable) return;\n",
              "\n",
              "          const docLinkHtml = 'Like what you see? Visit the ' +\n",
              "            '<a target=\"_blank\" href=https://colab.research.google.com/notebooks/data_table.ipynb>data table notebook</a>'\n",
              "            + ' to learn more about interactive tables.';\n",
              "          element.innerHTML = '';\n",
              "          dataTable['output_type'] = 'display_data';\n",
              "          await google.colab.output.renderOutput(dataTable, element);\n",
              "          const docLink = document.createElement('div');\n",
              "          docLink.innerHTML = docLinkHtml;\n",
              "          element.appendChild(docLink);\n",
              "        }\n",
              "      </script>\n",
              "    </div>\n",
              "  </div>\n",
              "  "
            ]
          },
          "metadata": {},
          "execution_count": 2
        }
      ]
    },
    {
      "cell_type": "code",
      "source": [
        "df.info()"
      ],
      "metadata": {
        "colab": {
          "base_uri": "https://localhost:8080/"
        },
        "id": "TmcXBZiKqmux",
        "outputId": "d6ce3c82-d52c-4fbf-f245-33583960025c"
      },
      "execution_count": 3,
      "outputs": [
        {
          "output_type": "stream",
          "name": "stdout",
          "text": [
            "<class 'pandas.core.frame.DataFrame'>\n",
            "RangeIndex: 195 entries, 0 to 194\n",
            "Data columns (total 24 columns):\n",
            " #   Column            Non-Null Count  Dtype  \n",
            "---  ------            --------------  -----  \n",
            " 0   name              195 non-null    object \n",
            " 1   MDVP:Fo(Hz)       195 non-null    float64\n",
            " 2   MDVP:Fhi(Hz)      195 non-null    float64\n",
            " 3   MDVP:Flo(Hz)      195 non-null    float64\n",
            " 4   MDVP:Jitter(%)    195 non-null    float64\n",
            " 5   MDVP:Jitter(Abs)  195 non-null    float64\n",
            " 6   MDVP:RAP          195 non-null    float64\n",
            " 7   MDVP:PPQ          193 non-null    float64\n",
            " 8   Jitter:DDP        194 non-null    float64\n",
            " 9   MDVP:Shimmer      195 non-null    float64\n",
            " 10  MDVP:Shimmer(dB)  195 non-null    float64\n",
            " 11  Shimmer:APQ3      195 non-null    float64\n",
            " 12  Shimmer:APQ5      195 non-null    float64\n",
            " 13  MDVP:APQ          195 non-null    float64\n",
            " 14  Shimmer:DDA       195 non-null    float64\n",
            " 15  NHR               195 non-null    float64\n",
            " 16  HNR               195 non-null    float64\n",
            " 17  status            195 non-null    int64  \n",
            " 18  RPDE              195 non-null    float64\n",
            " 19  DFA               195 non-null    float64\n",
            " 20  spread1           195 non-null    float64\n",
            " 21  spread2           195 non-null    float64\n",
            " 22  D2                195 non-null    float64\n",
            " 23  PPE               195 non-null    float64\n",
            "dtypes: float64(22), int64(1), object(1)\n",
            "memory usage: 36.7+ KB\n"
          ]
        }
      ]
    },
    {
      "cell_type": "code",
      "source": [
        "df[['MDVP:PPQ','Jitter:DDP']].describe()"
      ],
      "metadata": {
        "colab": {
          "base_uri": "https://localhost:8080/",
          "height": 300
        },
        "id": "iNsbhZXVqmzc",
        "outputId": "b15fc459-eb8c-4135-af6d-33827ea958a9"
      },
      "execution_count": 4,
      "outputs": [
        {
          "output_type": "execute_result",
          "data": {
            "text/plain": [
              "         MDVP:PPQ  Jitter:DDP\n",
              "count  193.000000  194.000000\n",
              "mean     0.003468    0.009932\n",
              "std      0.002765    0.008925\n",
              "min      0.000920    0.002040\n",
              "25%      0.001880    0.004982\n",
              "50%      0.002700    0.007455\n",
              "75%      0.003960    0.011558\n",
              "max      0.019580    0.064330"
            ],
            "text/html": [
              "\n",
              "  <div id=\"df-ba63c141-b429-4e24-910a-7c4f39849ac7\">\n",
              "    <div class=\"colab-df-container\">\n",
              "      <div>\n",
              "<style scoped>\n",
              "    .dataframe tbody tr th:only-of-type {\n",
              "        vertical-align: middle;\n",
              "    }\n",
              "\n",
              "    .dataframe tbody tr th {\n",
              "        vertical-align: top;\n",
              "    }\n",
              "\n",
              "    .dataframe thead th {\n",
              "        text-align: right;\n",
              "    }\n",
              "</style>\n",
              "<table border=\"1\" class=\"dataframe\">\n",
              "  <thead>\n",
              "    <tr style=\"text-align: right;\">\n",
              "      <th></th>\n",
              "      <th>MDVP:PPQ</th>\n",
              "      <th>Jitter:DDP</th>\n",
              "    </tr>\n",
              "  </thead>\n",
              "  <tbody>\n",
              "    <tr>\n",
              "      <th>count</th>\n",
              "      <td>193.000000</td>\n",
              "      <td>194.000000</td>\n",
              "    </tr>\n",
              "    <tr>\n",
              "      <th>mean</th>\n",
              "      <td>0.003468</td>\n",
              "      <td>0.009932</td>\n",
              "    </tr>\n",
              "    <tr>\n",
              "      <th>std</th>\n",
              "      <td>0.002765</td>\n",
              "      <td>0.008925</td>\n",
              "    </tr>\n",
              "    <tr>\n",
              "      <th>min</th>\n",
              "      <td>0.000920</td>\n",
              "      <td>0.002040</td>\n",
              "    </tr>\n",
              "    <tr>\n",
              "      <th>25%</th>\n",
              "      <td>0.001880</td>\n",
              "      <td>0.004982</td>\n",
              "    </tr>\n",
              "    <tr>\n",
              "      <th>50%</th>\n",
              "      <td>0.002700</td>\n",
              "      <td>0.007455</td>\n",
              "    </tr>\n",
              "    <tr>\n",
              "      <th>75%</th>\n",
              "      <td>0.003960</td>\n",
              "      <td>0.011558</td>\n",
              "    </tr>\n",
              "    <tr>\n",
              "      <th>max</th>\n",
              "      <td>0.019580</td>\n",
              "      <td>0.064330</td>\n",
              "    </tr>\n",
              "  </tbody>\n",
              "</table>\n",
              "</div>\n",
              "      <button class=\"colab-df-convert\" onclick=\"convertToInteractive('df-ba63c141-b429-4e24-910a-7c4f39849ac7')\"\n",
              "              title=\"Convert this dataframe to an interactive table.\"\n",
              "              style=\"display:none;\">\n",
              "        \n",
              "  <svg xmlns=\"http://www.w3.org/2000/svg\" height=\"24px\"viewBox=\"0 0 24 24\"\n",
              "       width=\"24px\">\n",
              "    <path d=\"M0 0h24v24H0V0z\" fill=\"none\"/>\n",
              "    <path d=\"M18.56 5.44l.94 2.06.94-2.06 2.06-.94-2.06-.94-.94-2.06-.94 2.06-2.06.94zm-11 1L8.5 8.5l.94-2.06 2.06-.94-2.06-.94L8.5 2.5l-.94 2.06-2.06.94zm10 10l.94 2.06.94-2.06 2.06-.94-2.06-.94-.94-2.06-.94 2.06-2.06.94z\"/><path d=\"M17.41 7.96l-1.37-1.37c-.4-.4-.92-.59-1.43-.59-.52 0-1.04.2-1.43.59L10.3 9.45l-7.72 7.72c-.78.78-.78 2.05 0 2.83L4 21.41c.39.39.9.59 1.41.59.51 0 1.02-.2 1.41-.59l7.78-7.78 2.81-2.81c.8-.78.8-2.07 0-2.86zM5.41 20L4 18.59l7.72-7.72 1.47 1.35L5.41 20z\"/>\n",
              "  </svg>\n",
              "      </button>\n",
              "      \n",
              "  <style>\n",
              "    .colab-df-container {\n",
              "      display:flex;\n",
              "      flex-wrap:wrap;\n",
              "      gap: 12px;\n",
              "    }\n",
              "\n",
              "    .colab-df-convert {\n",
              "      background-color: #E8F0FE;\n",
              "      border: none;\n",
              "      border-radius: 50%;\n",
              "      cursor: pointer;\n",
              "      display: none;\n",
              "      fill: #1967D2;\n",
              "      height: 32px;\n",
              "      padding: 0 0 0 0;\n",
              "      width: 32px;\n",
              "    }\n",
              "\n",
              "    .colab-df-convert:hover {\n",
              "      background-color: #E2EBFA;\n",
              "      box-shadow: 0px 1px 2px rgba(60, 64, 67, 0.3), 0px 1px 3px 1px rgba(60, 64, 67, 0.15);\n",
              "      fill: #174EA6;\n",
              "    }\n",
              "\n",
              "    [theme=dark] .colab-df-convert {\n",
              "      background-color: #3B4455;\n",
              "      fill: #D2E3FC;\n",
              "    }\n",
              "\n",
              "    [theme=dark] .colab-df-convert:hover {\n",
              "      background-color: #434B5C;\n",
              "      box-shadow: 0px 1px 3px 1px rgba(0, 0, 0, 0.15);\n",
              "      filter: drop-shadow(0px 1px 2px rgba(0, 0, 0, 0.3));\n",
              "      fill: #FFFFFF;\n",
              "    }\n",
              "  </style>\n",
              "\n",
              "      <script>\n",
              "        const buttonEl =\n",
              "          document.querySelector('#df-ba63c141-b429-4e24-910a-7c4f39849ac7 button.colab-df-convert');\n",
              "        buttonEl.style.display =\n",
              "          google.colab.kernel.accessAllowed ? 'block' : 'none';\n",
              "\n",
              "        async function convertToInteractive(key) {\n",
              "          const element = document.querySelector('#df-ba63c141-b429-4e24-910a-7c4f39849ac7');\n",
              "          const dataTable =\n",
              "            await google.colab.kernel.invokeFunction('convertToInteractive',\n",
              "                                                     [key], {});\n",
              "          if (!dataTable) return;\n",
              "\n",
              "          const docLinkHtml = 'Like what you see? Visit the ' +\n",
              "            '<a target=\"_blank\" href=https://colab.research.google.com/notebooks/data_table.ipynb>data table notebook</a>'\n",
              "            + ' to learn more about interactive tables.';\n",
              "          element.innerHTML = '';\n",
              "          dataTable['output_type'] = 'display_data';\n",
              "          await google.colab.output.renderOutput(dataTable, element);\n",
              "          const docLink = document.createElement('div');\n",
              "          docLink.innerHTML = docLinkHtml;\n",
              "          element.appendChild(docLink);\n",
              "        }\n",
              "      </script>\n",
              "    </div>\n",
              "  </div>\n",
              "  "
            ]
          },
          "metadata": {},
          "execution_count": 4
        }
      ]
    },
    {
      "cell_type": "code",
      "source": [
        "df[df['MDVP:PPQ'].isnull()]"
      ],
      "metadata": {
        "colab": {
          "base_uri": "https://localhost:8080/",
          "height": 205
        },
        "id": "HizD6of5qm27",
        "outputId": "aaf50d5a-a678-40a3-8290-2a4e092a6c90"
      },
      "execution_count": 5,
      "outputs": [
        {
          "output_type": "execute_result",
          "data": {
            "text/plain": [
              "              name  MDVP:Fo(Hz)  MDVP:Fhi(Hz)  MDVP:Flo(Hz)  MDVP:Jitter(%)  \\\n",
              "32  phon_R01_S07_3      198.383       215.203       193.104         0.00212   \n",
              "65  phon_R01_S17_6      228.969       239.541       113.201         0.00238   \n",
              "\n",
              "    MDVP:Jitter(Abs)  MDVP:RAP  MDVP:PPQ  Jitter:DDP  MDVP:Shimmer  ...  \\\n",
              "32           0.00001   0.00113       NaN     0.00339       0.01263  ...   \n",
              "65           0.00001   0.00136       NaN     0.00408       0.01745  ...   \n",
              "\n",
              "    Shimmer:DDA      NHR     HNR  status      RPDE       DFA   spread1  \\\n",
              "32      0.01919  0.00119  30.775       0  0.465946  0.738703 -7.067931   \n",
              "65      0.02827  0.00420  24.547       0  0.305429  0.681811 -7.314237   \n",
              "\n",
              "     spread2        D2       PPE  \n",
              "32  0.175181  1.512275  0.096320  \n",
              "65  0.006274  2.118596  0.091546  \n",
              "\n",
              "[2 rows x 24 columns]"
            ],
            "text/html": [
              "\n",
              "  <div id=\"df-5ce336f8-d62d-46cd-a289-c84cc63b9886\">\n",
              "    <div class=\"colab-df-container\">\n",
              "      <div>\n",
              "<style scoped>\n",
              "    .dataframe tbody tr th:only-of-type {\n",
              "        vertical-align: middle;\n",
              "    }\n",
              "\n",
              "    .dataframe tbody tr th {\n",
              "        vertical-align: top;\n",
              "    }\n",
              "\n",
              "    .dataframe thead th {\n",
              "        text-align: right;\n",
              "    }\n",
              "</style>\n",
              "<table border=\"1\" class=\"dataframe\">\n",
              "  <thead>\n",
              "    <tr style=\"text-align: right;\">\n",
              "      <th></th>\n",
              "      <th>name</th>\n",
              "      <th>MDVP:Fo(Hz)</th>\n",
              "      <th>MDVP:Fhi(Hz)</th>\n",
              "      <th>MDVP:Flo(Hz)</th>\n",
              "      <th>MDVP:Jitter(%)</th>\n",
              "      <th>MDVP:Jitter(Abs)</th>\n",
              "      <th>MDVP:RAP</th>\n",
              "      <th>MDVP:PPQ</th>\n",
              "      <th>Jitter:DDP</th>\n",
              "      <th>MDVP:Shimmer</th>\n",
              "      <th>...</th>\n",
              "      <th>Shimmer:DDA</th>\n",
              "      <th>NHR</th>\n",
              "      <th>HNR</th>\n",
              "      <th>status</th>\n",
              "      <th>RPDE</th>\n",
              "      <th>DFA</th>\n",
              "      <th>spread1</th>\n",
              "      <th>spread2</th>\n",
              "      <th>D2</th>\n",
              "      <th>PPE</th>\n",
              "    </tr>\n",
              "  </thead>\n",
              "  <tbody>\n",
              "    <tr>\n",
              "      <th>32</th>\n",
              "      <td>phon_R01_S07_3</td>\n",
              "      <td>198.383</td>\n",
              "      <td>215.203</td>\n",
              "      <td>193.104</td>\n",
              "      <td>0.00212</td>\n",
              "      <td>0.00001</td>\n",
              "      <td>0.00113</td>\n",
              "      <td>NaN</td>\n",
              "      <td>0.00339</td>\n",
              "      <td>0.01263</td>\n",
              "      <td>...</td>\n",
              "      <td>0.01919</td>\n",
              "      <td>0.00119</td>\n",
              "      <td>30.775</td>\n",
              "      <td>0</td>\n",
              "      <td>0.465946</td>\n",
              "      <td>0.738703</td>\n",
              "      <td>-7.067931</td>\n",
              "      <td>0.175181</td>\n",
              "      <td>1.512275</td>\n",
              "      <td>0.096320</td>\n",
              "    </tr>\n",
              "    <tr>\n",
              "      <th>65</th>\n",
              "      <td>phon_R01_S17_6</td>\n",
              "      <td>228.969</td>\n",
              "      <td>239.541</td>\n",
              "      <td>113.201</td>\n",
              "      <td>0.00238</td>\n",
              "      <td>0.00001</td>\n",
              "      <td>0.00136</td>\n",
              "      <td>NaN</td>\n",
              "      <td>0.00408</td>\n",
              "      <td>0.01745</td>\n",
              "      <td>...</td>\n",
              "      <td>0.02827</td>\n",
              "      <td>0.00420</td>\n",
              "      <td>24.547</td>\n",
              "      <td>0</td>\n",
              "      <td>0.305429</td>\n",
              "      <td>0.681811</td>\n",
              "      <td>-7.314237</td>\n",
              "      <td>0.006274</td>\n",
              "      <td>2.118596</td>\n",
              "      <td>0.091546</td>\n",
              "    </tr>\n",
              "  </tbody>\n",
              "</table>\n",
              "<p>2 rows × 24 columns</p>\n",
              "</div>\n",
              "      <button class=\"colab-df-convert\" onclick=\"convertToInteractive('df-5ce336f8-d62d-46cd-a289-c84cc63b9886')\"\n",
              "              title=\"Convert this dataframe to an interactive table.\"\n",
              "              style=\"display:none;\">\n",
              "        \n",
              "  <svg xmlns=\"http://www.w3.org/2000/svg\" height=\"24px\"viewBox=\"0 0 24 24\"\n",
              "       width=\"24px\">\n",
              "    <path d=\"M0 0h24v24H0V0z\" fill=\"none\"/>\n",
              "    <path d=\"M18.56 5.44l.94 2.06.94-2.06 2.06-.94-2.06-.94-.94-2.06-.94 2.06-2.06.94zm-11 1L8.5 8.5l.94-2.06 2.06-.94-2.06-.94L8.5 2.5l-.94 2.06-2.06.94zm10 10l.94 2.06.94-2.06 2.06-.94-2.06-.94-.94-2.06-.94 2.06-2.06.94z\"/><path d=\"M17.41 7.96l-1.37-1.37c-.4-.4-.92-.59-1.43-.59-.52 0-1.04.2-1.43.59L10.3 9.45l-7.72 7.72c-.78.78-.78 2.05 0 2.83L4 21.41c.39.39.9.59 1.41.59.51 0 1.02-.2 1.41-.59l7.78-7.78 2.81-2.81c.8-.78.8-2.07 0-2.86zM5.41 20L4 18.59l7.72-7.72 1.47 1.35L5.41 20z\"/>\n",
              "  </svg>\n",
              "      </button>\n",
              "      \n",
              "  <style>\n",
              "    .colab-df-container {\n",
              "      display:flex;\n",
              "      flex-wrap:wrap;\n",
              "      gap: 12px;\n",
              "    }\n",
              "\n",
              "    .colab-df-convert {\n",
              "      background-color: #E8F0FE;\n",
              "      border: none;\n",
              "      border-radius: 50%;\n",
              "      cursor: pointer;\n",
              "      display: none;\n",
              "      fill: #1967D2;\n",
              "      height: 32px;\n",
              "      padding: 0 0 0 0;\n",
              "      width: 32px;\n",
              "    }\n",
              "\n",
              "    .colab-df-convert:hover {\n",
              "      background-color: #E2EBFA;\n",
              "      box-shadow: 0px 1px 2px rgba(60, 64, 67, 0.3), 0px 1px 3px 1px rgba(60, 64, 67, 0.15);\n",
              "      fill: #174EA6;\n",
              "    }\n",
              "\n",
              "    [theme=dark] .colab-df-convert {\n",
              "      background-color: #3B4455;\n",
              "      fill: #D2E3FC;\n",
              "    }\n",
              "\n",
              "    [theme=dark] .colab-df-convert:hover {\n",
              "      background-color: #434B5C;\n",
              "      box-shadow: 0px 1px 3px 1px rgba(0, 0, 0, 0.15);\n",
              "      filter: drop-shadow(0px 1px 2px rgba(0, 0, 0, 0.3));\n",
              "      fill: #FFFFFF;\n",
              "    }\n",
              "  </style>\n",
              "\n",
              "      <script>\n",
              "        const buttonEl =\n",
              "          document.querySelector('#df-5ce336f8-d62d-46cd-a289-c84cc63b9886 button.colab-df-convert');\n",
              "        buttonEl.style.display =\n",
              "          google.colab.kernel.accessAllowed ? 'block' : 'none';\n",
              "\n",
              "        async function convertToInteractive(key) {\n",
              "          const element = document.querySelector('#df-5ce336f8-d62d-46cd-a289-c84cc63b9886');\n",
              "          const dataTable =\n",
              "            await google.colab.kernel.invokeFunction('convertToInteractive',\n",
              "                                                     [key], {});\n",
              "          if (!dataTable) return;\n",
              "\n",
              "          const docLinkHtml = 'Like what you see? Visit the ' +\n",
              "            '<a target=\"_blank\" href=https://colab.research.google.com/notebooks/data_table.ipynb>data table notebook</a>'\n",
              "            + ' to learn more about interactive tables.';\n",
              "          element.innerHTML = '';\n",
              "          dataTable['output_type'] = 'display_data';\n",
              "          await google.colab.output.renderOutput(dataTable, element);\n",
              "          const docLink = document.createElement('div');\n",
              "          docLink.innerHTML = docLinkHtml;\n",
              "          element.appendChild(docLink);\n",
              "        }\n",
              "      </script>\n",
              "    </div>\n",
              "  </div>\n",
              "  "
            ]
          },
          "metadata": {},
          "execution_count": 5
        }
      ]
    },
    {
      "cell_type": "code",
      "source": [
        "df.corrwith(df['MDVP:PPQ'])"
      ],
      "metadata": {
        "colab": {
          "base_uri": "https://localhost:8080/"
        },
        "id": "TuuZxz5pqm6f",
        "outputId": "2c493c88-9e29-4c13-fabe-0289fbd88562"
      },
      "execution_count": 6,
      "outputs": [
        {
          "output_type": "execute_result",
          "data": {
            "text/plain": [
              "MDVP:Fo(Hz)        -0.102445\n",
              "MDVP:Fhi(Hz)        0.094039\n",
              "MDVP:Flo(Hz)       -0.090119\n",
              "MDVP:Jitter(%)      0.974116\n",
              "MDVP:Jitter(Abs)    0.897232\n",
              "MDVP:RAP            0.957104\n",
              "MDVP:PPQ            1.000000\n",
              "Jitter:DDP          0.957123\n",
              "MDVP:Shimmer        0.796648\n",
              "MDVP:Shimmer(dB)    0.838311\n",
              "Shimmer:APQ3        0.762234\n",
              "Shimmer:APQ5        0.785771\n",
              "MDVP:APQ            0.802967\n",
              "Shimmer:DDA         0.762247\n",
              "NHR                 0.844120\n",
              "HNR                -0.731772\n",
              "status              0.280344\n",
              "RPDE                0.328858\n",
              "DFA                 0.196105\n",
              "spread1             0.714968\n",
              "spread2             0.403919\n",
              "D2                  0.408078\n",
              "PPE                 0.768396\n",
              "dtype: float64"
            ]
          },
          "metadata": {},
          "execution_count": 6
        }
      ]
    },
    {
      "cell_type": "code",
      "source": [
        "temp_x = df[['MDVP:Jitter(%)','MDVP:RAP']].drop([32,65])\n",
        "temp_y = df['MDVP:PPQ'].drop([32,65])"
      ],
      "metadata": {
        "id": "DETNTCk7qm97"
      },
      "execution_count": 7,
      "outputs": []
    },
    {
      "cell_type": "code",
      "source": [
        "from sklearn.linear_model import LinearRegression,LogisticRegression\n",
        "from sklearn.preprocessing import MinMaxScaler\n",
        "from sklearn.model_selection import train_test_split,GridSearchCV\n",
        "from sklearn.feature_selection import mutual_info_classif,SelectKBest,f_classif\n",
        "from sklearn.tree import DecisionTreeClassifier\n",
        "from sklearn.ensemble import RandomForestClassifier\n",
        "from sklearn.naive_bayes import GaussianNB\n",
        "from sklearn.svm import SVC"
      ],
      "metadata": {
        "id": "ezU-fnWcsO8H"
      },
      "execution_count": 8,
      "outputs": []
    },
    {
      "cell_type": "code",
      "source": [
        "lr = LinearRegression()\n",
        "lr.fit(temp_x,temp_y)"
      ],
      "metadata": {
        "colab": {
          "base_uri": "https://localhost:8080/"
        },
        "id": "M-dlqorxqnBm",
        "outputId": "cdd58a3e-27e8-419c-bf4d-c149c0e80acc"
      },
      "execution_count": 9,
      "outputs": [
        {
          "output_type": "execute_result",
          "data": {
            "text/plain": [
              "LinearRegression()"
            ]
          },
          "metadata": {},
          "execution_count": 9
        }
      ]
    },
    {
      "cell_type": "code",
      "source": [
        "pp_pred = np.round(lr.predict(df[['MDVP:Jitter(%)','MDVP:RAP']].iloc[[32,65]]),5).tolist()"
      ],
      "metadata": {
        "id": "VFZBu1YnqnE4"
      },
      "execution_count": 10,
      "outputs": []
    },
    {
      "cell_type": "code",
      "source": [
        "df['MDVP:PPQ'].iloc[[32,65]] = pp_pred"
      ],
      "metadata": {
        "id": "CctqRjIPqnIB",
        "colab": {
          "base_uri": "https://localhost:8080/"
        },
        "outputId": "41a6e18f-c29d-481d-c90e-4016289cffa8"
      },
      "execution_count": 11,
      "outputs": [
        {
          "output_type": "stream",
          "name": "stderr",
          "text": [
            "/usr/local/lib/python3.7/dist-packages/pandas/core/indexing.py:1732: SettingWithCopyWarning: \n",
            "A value is trying to be set on a copy of a slice from a DataFrame\n",
            "\n",
            "See the caveats in the documentation: https://pandas.pydata.org/pandas-docs/stable/user_guide/indexing.html#returning-a-view-versus-a-copy\n",
            "  self._setitem_single_block(indexer, value, name)\n"
          ]
        }
      ]
    },
    {
      "cell_type": "code",
      "source": [
        "df[df['Jitter:DDP'].isnull()]"
      ],
      "metadata": {
        "colab": {
          "base_uri": "https://localhost:8080/",
          "height": 174
        },
        "id": "MXTHneVFqnLU",
        "outputId": "58fd916c-b8e2-4780-dc96-f58b852e150d"
      },
      "execution_count": 12,
      "outputs": [
        {
          "output_type": "execute_result",
          "data": {
            "text/plain": [
              "              name  MDVP:Fo(Hz)  MDVP:Fhi(Hz)  MDVP:Flo(Hz)  MDVP:Jitter(%)  \\\n",
              "26  phon_R01_S06_3      171.041       208.313        75.501         0.00455   \n",
              "\n",
              "    MDVP:Jitter(Abs)  MDVP:RAP  MDVP:PPQ  Jitter:DDP  MDVP:Shimmer  ...  \\\n",
              "26           0.00003    0.0025   0.00234         NaN       0.01966  ...   \n",
              "\n",
              "    Shimmer:DDA      NHR     HNR  status      RPDE       DFA  spread1  \\\n",
              "26      0.02666  0.01095  25.908       1  0.418622  0.720916 -6.18359   \n",
              "\n",
              "     spread2        D2       PPE  \n",
              "26  0.226278  2.589702  0.147403  \n",
              "\n",
              "[1 rows x 24 columns]"
            ],
            "text/html": [
              "\n",
              "  <div id=\"df-e130eca1-1d2e-4dcf-86d4-9dfc3dad5754\">\n",
              "    <div class=\"colab-df-container\">\n",
              "      <div>\n",
              "<style scoped>\n",
              "    .dataframe tbody tr th:only-of-type {\n",
              "        vertical-align: middle;\n",
              "    }\n",
              "\n",
              "    .dataframe tbody tr th {\n",
              "        vertical-align: top;\n",
              "    }\n",
              "\n",
              "    .dataframe thead th {\n",
              "        text-align: right;\n",
              "    }\n",
              "</style>\n",
              "<table border=\"1\" class=\"dataframe\">\n",
              "  <thead>\n",
              "    <tr style=\"text-align: right;\">\n",
              "      <th></th>\n",
              "      <th>name</th>\n",
              "      <th>MDVP:Fo(Hz)</th>\n",
              "      <th>MDVP:Fhi(Hz)</th>\n",
              "      <th>MDVP:Flo(Hz)</th>\n",
              "      <th>MDVP:Jitter(%)</th>\n",
              "      <th>MDVP:Jitter(Abs)</th>\n",
              "      <th>MDVP:RAP</th>\n",
              "      <th>MDVP:PPQ</th>\n",
              "      <th>Jitter:DDP</th>\n",
              "      <th>MDVP:Shimmer</th>\n",
              "      <th>...</th>\n",
              "      <th>Shimmer:DDA</th>\n",
              "      <th>NHR</th>\n",
              "      <th>HNR</th>\n",
              "      <th>status</th>\n",
              "      <th>RPDE</th>\n",
              "      <th>DFA</th>\n",
              "      <th>spread1</th>\n",
              "      <th>spread2</th>\n",
              "      <th>D2</th>\n",
              "      <th>PPE</th>\n",
              "    </tr>\n",
              "  </thead>\n",
              "  <tbody>\n",
              "    <tr>\n",
              "      <th>26</th>\n",
              "      <td>phon_R01_S06_3</td>\n",
              "      <td>171.041</td>\n",
              "      <td>208.313</td>\n",
              "      <td>75.501</td>\n",
              "      <td>0.00455</td>\n",
              "      <td>0.00003</td>\n",
              "      <td>0.0025</td>\n",
              "      <td>0.00234</td>\n",
              "      <td>NaN</td>\n",
              "      <td>0.01966</td>\n",
              "      <td>...</td>\n",
              "      <td>0.02666</td>\n",
              "      <td>0.01095</td>\n",
              "      <td>25.908</td>\n",
              "      <td>1</td>\n",
              "      <td>0.418622</td>\n",
              "      <td>0.720916</td>\n",
              "      <td>-6.18359</td>\n",
              "      <td>0.226278</td>\n",
              "      <td>2.589702</td>\n",
              "      <td>0.147403</td>\n",
              "    </tr>\n",
              "  </tbody>\n",
              "</table>\n",
              "<p>1 rows × 24 columns</p>\n",
              "</div>\n",
              "      <button class=\"colab-df-convert\" onclick=\"convertToInteractive('df-e130eca1-1d2e-4dcf-86d4-9dfc3dad5754')\"\n",
              "              title=\"Convert this dataframe to an interactive table.\"\n",
              "              style=\"display:none;\">\n",
              "        \n",
              "  <svg xmlns=\"http://www.w3.org/2000/svg\" height=\"24px\"viewBox=\"0 0 24 24\"\n",
              "       width=\"24px\">\n",
              "    <path d=\"M0 0h24v24H0V0z\" fill=\"none\"/>\n",
              "    <path d=\"M18.56 5.44l.94 2.06.94-2.06 2.06-.94-2.06-.94-.94-2.06-.94 2.06-2.06.94zm-11 1L8.5 8.5l.94-2.06 2.06-.94-2.06-.94L8.5 2.5l-.94 2.06-2.06.94zm10 10l.94 2.06.94-2.06 2.06-.94-2.06-.94-.94-2.06-.94 2.06-2.06.94z\"/><path d=\"M17.41 7.96l-1.37-1.37c-.4-.4-.92-.59-1.43-.59-.52 0-1.04.2-1.43.59L10.3 9.45l-7.72 7.72c-.78.78-.78 2.05 0 2.83L4 21.41c.39.39.9.59 1.41.59.51 0 1.02-.2 1.41-.59l7.78-7.78 2.81-2.81c.8-.78.8-2.07 0-2.86zM5.41 20L4 18.59l7.72-7.72 1.47 1.35L5.41 20z\"/>\n",
              "  </svg>\n",
              "      </button>\n",
              "      \n",
              "  <style>\n",
              "    .colab-df-container {\n",
              "      display:flex;\n",
              "      flex-wrap:wrap;\n",
              "      gap: 12px;\n",
              "    }\n",
              "\n",
              "    .colab-df-convert {\n",
              "      background-color: #E8F0FE;\n",
              "      border: none;\n",
              "      border-radius: 50%;\n",
              "      cursor: pointer;\n",
              "      display: none;\n",
              "      fill: #1967D2;\n",
              "      height: 32px;\n",
              "      padding: 0 0 0 0;\n",
              "      width: 32px;\n",
              "    }\n",
              "\n",
              "    .colab-df-convert:hover {\n",
              "      background-color: #E2EBFA;\n",
              "      box-shadow: 0px 1px 2px rgba(60, 64, 67, 0.3), 0px 1px 3px 1px rgba(60, 64, 67, 0.15);\n",
              "      fill: #174EA6;\n",
              "    }\n",
              "\n",
              "    [theme=dark] .colab-df-convert {\n",
              "      background-color: #3B4455;\n",
              "      fill: #D2E3FC;\n",
              "    }\n",
              "\n",
              "    [theme=dark] .colab-df-convert:hover {\n",
              "      background-color: #434B5C;\n",
              "      box-shadow: 0px 1px 3px 1px rgba(0, 0, 0, 0.15);\n",
              "      filter: drop-shadow(0px 1px 2px rgba(0, 0, 0, 0.3));\n",
              "      fill: #FFFFFF;\n",
              "    }\n",
              "  </style>\n",
              "\n",
              "      <script>\n",
              "        const buttonEl =\n",
              "          document.querySelector('#df-e130eca1-1d2e-4dcf-86d4-9dfc3dad5754 button.colab-df-convert');\n",
              "        buttonEl.style.display =\n",
              "          google.colab.kernel.accessAllowed ? 'block' : 'none';\n",
              "\n",
              "        async function convertToInteractive(key) {\n",
              "          const element = document.querySelector('#df-e130eca1-1d2e-4dcf-86d4-9dfc3dad5754');\n",
              "          const dataTable =\n",
              "            await google.colab.kernel.invokeFunction('convertToInteractive',\n",
              "                                                     [key], {});\n",
              "          if (!dataTable) return;\n",
              "\n",
              "          const docLinkHtml = 'Like what you see? Visit the ' +\n",
              "            '<a target=\"_blank\" href=https://colab.research.google.com/notebooks/data_table.ipynb>data table notebook</a>'\n",
              "            + ' to learn more about interactive tables.';\n",
              "          element.innerHTML = '';\n",
              "          dataTable['output_type'] = 'display_data';\n",
              "          await google.colab.output.renderOutput(dataTable, element);\n",
              "          const docLink = document.createElement('div');\n",
              "          docLink.innerHTML = docLinkHtml;\n",
              "          element.appendChild(docLink);\n",
              "        }\n",
              "      </script>\n",
              "    </div>\n",
              "  </div>\n",
              "  "
            ]
          },
          "metadata": {},
          "execution_count": 12
        }
      ]
    },
    {
      "cell_type": "code",
      "source": [
        "df.corrwith(df['Jitter:DDP'])"
      ],
      "metadata": {
        "colab": {
          "base_uri": "https://localhost:8080/"
        },
        "id": "_LkHK7WXscyt",
        "outputId": "aa9db6d2-f32f-4679-f8f8-e338d7a29c1b"
      },
      "execution_count": 13,
      "outputs": [
        {
          "output_type": "execute_result",
          "data": {
            "text/plain": [
              "MDVP:Fo(Hz)        -0.075688\n",
              "MDVP:Fhi(Hz)        0.097345\n",
              "MDVP:Flo(Hz)       -0.102061\n",
              "MDVP:Jitter(%)      0.990285\n",
              "MDVP:Jitter(Abs)    0.922909\n",
              "MDVP:RAP            1.000000\n",
              "MDVP:PPQ            0.957272\n",
              "Jitter:DDP          1.000000\n",
              "MDVP:Shimmer        0.759508\n",
              "MDVP:Shimmer(dB)    0.790576\n",
              "Shimmer:APQ3        0.744956\n",
              "Shimmer:APQ5        0.709805\n",
              "MDVP:APQ            0.737325\n",
              "Shimmer:DDA         0.744963\n",
              "NHR                 0.919522\n",
              "HNR                -0.721899\n",
              "status              0.267725\n",
              "RPDE                0.341586\n",
              "DFA                 0.064111\n",
              "spread1             0.648159\n",
              "spread2             0.324435\n",
              "D2                  0.427729\n",
              "PPE                 0.670958\n",
              "dtype: float64"
            ]
          },
          "metadata": {},
          "execution_count": 13
        }
      ]
    },
    {
      "cell_type": "code",
      "source": [
        "temp_x = df[['MDVP:RAP']].drop(26)\n",
        "temp_y = df['Jitter:DDP'].drop(26)\n",
        "lr = LinearRegression()\n",
        "lr.fit(temp_x,temp_y)\n",
        "dd_pred = np.round(lr.predict(df[['MDVP:RAP']].iloc[[26]]),5).tolist()\n",
        "df['Jitter:DDP'].iloc[[26]] = dd_pred"
      ],
      "metadata": {
        "id": "hRWahrpWsc2u",
        "colab": {
          "base_uri": "https://localhost:8080/"
        },
        "outputId": "bebcbcd0-6b4e-47bd-96aa-6c80e671f0ee"
      },
      "execution_count": 14,
      "outputs": [
        {
          "output_type": "stream",
          "name": "stderr",
          "text": [
            "/usr/local/lib/python3.7/dist-packages/pandas/core/indexing.py:1732: SettingWithCopyWarning: \n",
            "A value is trying to be set on a copy of a slice from a DataFrame\n",
            "\n",
            "See the caveats in the documentation: https://pandas.pydata.org/pandas-docs/stable/user_guide/indexing.html#returning-a-view-versus-a-copy\n",
            "  self._setitem_single_block(indexer, value, name)\n"
          ]
        }
      ]
    },
    {
      "cell_type": "code",
      "source": [
        "df.describe()"
      ],
      "metadata": {
        "colab": {
          "base_uri": "https://localhost:8080/",
          "height": 394
        },
        "id": "b-w-7bEusc6i",
        "outputId": "6ec3de57-5332-416b-96f8-7939ee82bdce"
      },
      "execution_count": 15,
      "outputs": [
        {
          "output_type": "execute_result",
          "data": {
            "text/plain": [
              "       MDVP:Fo(Hz)  MDVP:Fhi(Hz)  MDVP:Flo(Hz)  MDVP:Jitter(%)  \\\n",
              "count   195.000000    195.000000    195.000000      195.000000   \n",
              "mean    154.228641    197.104918    116.324631        0.006220   \n",
              "std      41.390065     91.491548     43.521413        0.004848   \n",
              "min      88.333000    102.145000     65.476000        0.001680   \n",
              "25%     117.572000    134.862500     84.291000        0.003460   \n",
              "50%     148.790000    175.829000    104.315000        0.004940   \n",
              "75%     182.769000    224.205500    140.018500        0.007365   \n",
              "max     260.105000    592.030000    239.170000        0.033160   \n",
              "\n",
              "       MDVP:Jitter(Abs)    MDVP:RAP    MDVP:PPQ  Jitter:DDP  MDVP:Shimmer  \\\n",
              "count        195.000000  195.000000  195.000000  195.000000    195.000000   \n",
              "mean           0.000044    0.003306    0.003444    0.009920      0.029709   \n",
              "std            0.000035    0.002968    0.002761    0.008903      0.018857   \n",
              "min            0.000007    0.000680    0.000920    0.002040      0.009540   \n",
              "25%            0.000020    0.001660    0.001860    0.004985      0.016505   \n",
              "50%            0.000030    0.002500    0.002690    0.007490      0.022970   \n",
              "75%            0.000060    0.003835    0.003955    0.011505      0.037885   \n",
              "max            0.000260    0.021440    0.019580    0.064330      0.119080   \n",
              "\n",
              "       MDVP:Shimmer(dB)  ...  Shimmer:DDA         NHR         HNR      status  \\\n",
              "count        195.000000  ...   195.000000  195.000000  195.000000  195.000000   \n",
              "mean           0.282251  ...     0.046993    0.024847   21.885974    0.753846   \n",
              "std            0.194877  ...     0.030459    0.040418    4.425764    0.431878   \n",
              "min            0.085000  ...     0.013640    0.000650    8.441000    0.000000   \n",
              "25%            0.148500  ...     0.024735    0.005925   19.198000    1.000000   \n",
              "50%            0.221000  ...     0.038360    0.011660   22.085000    1.000000   \n",
              "75%            0.350000  ...     0.060795    0.025640   25.075500    1.000000   \n",
              "max            1.302000  ...     0.169420    0.314820   33.047000    1.000000   \n",
              "\n",
              "             RPDE         DFA     spread1     spread2          D2         PPE  \n",
              "count  195.000000  195.000000  195.000000  195.000000  195.000000  195.000000  \n",
              "mean     0.498536    0.718099   -5.684397    0.226510    2.381826    0.206552  \n",
              "std      0.103942    0.055336    1.090208    0.083406    0.382799    0.090119  \n",
              "min      0.256570    0.574282   -7.964984    0.006274    1.423287    0.044539  \n",
              "25%      0.421306    0.674758   -6.450096    0.174351    2.099125    0.137451  \n",
              "50%      0.495954    0.722254   -5.720868    0.218885    2.361532    0.194052  \n",
              "75%      0.587562    0.761881   -5.046192    0.279234    2.636456    0.252980  \n",
              "max      0.685151    0.825288   -2.434031    0.450493    3.671155    0.527367  \n",
              "\n",
              "[8 rows x 23 columns]"
            ],
            "text/html": [
              "\n",
              "  <div id=\"df-988fda7c-2a21-47f4-b89d-92c75cb0a96f\">\n",
              "    <div class=\"colab-df-container\">\n",
              "      <div>\n",
              "<style scoped>\n",
              "    .dataframe tbody tr th:only-of-type {\n",
              "        vertical-align: middle;\n",
              "    }\n",
              "\n",
              "    .dataframe tbody tr th {\n",
              "        vertical-align: top;\n",
              "    }\n",
              "\n",
              "    .dataframe thead th {\n",
              "        text-align: right;\n",
              "    }\n",
              "</style>\n",
              "<table border=\"1\" class=\"dataframe\">\n",
              "  <thead>\n",
              "    <tr style=\"text-align: right;\">\n",
              "      <th></th>\n",
              "      <th>MDVP:Fo(Hz)</th>\n",
              "      <th>MDVP:Fhi(Hz)</th>\n",
              "      <th>MDVP:Flo(Hz)</th>\n",
              "      <th>MDVP:Jitter(%)</th>\n",
              "      <th>MDVP:Jitter(Abs)</th>\n",
              "      <th>MDVP:RAP</th>\n",
              "      <th>MDVP:PPQ</th>\n",
              "      <th>Jitter:DDP</th>\n",
              "      <th>MDVP:Shimmer</th>\n",
              "      <th>MDVP:Shimmer(dB)</th>\n",
              "      <th>...</th>\n",
              "      <th>Shimmer:DDA</th>\n",
              "      <th>NHR</th>\n",
              "      <th>HNR</th>\n",
              "      <th>status</th>\n",
              "      <th>RPDE</th>\n",
              "      <th>DFA</th>\n",
              "      <th>spread1</th>\n",
              "      <th>spread2</th>\n",
              "      <th>D2</th>\n",
              "      <th>PPE</th>\n",
              "    </tr>\n",
              "  </thead>\n",
              "  <tbody>\n",
              "    <tr>\n",
              "      <th>count</th>\n",
              "      <td>195.000000</td>\n",
              "      <td>195.000000</td>\n",
              "      <td>195.000000</td>\n",
              "      <td>195.000000</td>\n",
              "      <td>195.000000</td>\n",
              "      <td>195.000000</td>\n",
              "      <td>195.000000</td>\n",
              "      <td>195.000000</td>\n",
              "      <td>195.000000</td>\n",
              "      <td>195.000000</td>\n",
              "      <td>...</td>\n",
              "      <td>195.000000</td>\n",
              "      <td>195.000000</td>\n",
              "      <td>195.000000</td>\n",
              "      <td>195.000000</td>\n",
              "      <td>195.000000</td>\n",
              "      <td>195.000000</td>\n",
              "      <td>195.000000</td>\n",
              "      <td>195.000000</td>\n",
              "      <td>195.000000</td>\n",
              "      <td>195.000000</td>\n",
              "    </tr>\n",
              "    <tr>\n",
              "      <th>mean</th>\n",
              "      <td>154.228641</td>\n",
              "      <td>197.104918</td>\n",
              "      <td>116.324631</td>\n",
              "      <td>0.006220</td>\n",
              "      <td>0.000044</td>\n",
              "      <td>0.003306</td>\n",
              "      <td>0.003444</td>\n",
              "      <td>0.009920</td>\n",
              "      <td>0.029709</td>\n",
              "      <td>0.282251</td>\n",
              "      <td>...</td>\n",
              "      <td>0.046993</td>\n",
              "      <td>0.024847</td>\n",
              "      <td>21.885974</td>\n",
              "      <td>0.753846</td>\n",
              "      <td>0.498536</td>\n",
              "      <td>0.718099</td>\n",
              "      <td>-5.684397</td>\n",
              "      <td>0.226510</td>\n",
              "      <td>2.381826</td>\n",
              "      <td>0.206552</td>\n",
              "    </tr>\n",
              "    <tr>\n",
              "      <th>std</th>\n",
              "      <td>41.390065</td>\n",
              "      <td>91.491548</td>\n",
              "      <td>43.521413</td>\n",
              "      <td>0.004848</td>\n",
              "      <td>0.000035</td>\n",
              "      <td>0.002968</td>\n",
              "      <td>0.002761</td>\n",
              "      <td>0.008903</td>\n",
              "      <td>0.018857</td>\n",
              "      <td>0.194877</td>\n",
              "      <td>...</td>\n",
              "      <td>0.030459</td>\n",
              "      <td>0.040418</td>\n",
              "      <td>4.425764</td>\n",
              "      <td>0.431878</td>\n",
              "      <td>0.103942</td>\n",
              "      <td>0.055336</td>\n",
              "      <td>1.090208</td>\n",
              "      <td>0.083406</td>\n",
              "      <td>0.382799</td>\n",
              "      <td>0.090119</td>\n",
              "    </tr>\n",
              "    <tr>\n",
              "      <th>min</th>\n",
              "      <td>88.333000</td>\n",
              "      <td>102.145000</td>\n",
              "      <td>65.476000</td>\n",
              "      <td>0.001680</td>\n",
              "      <td>0.000007</td>\n",
              "      <td>0.000680</td>\n",
              "      <td>0.000920</td>\n",
              "      <td>0.002040</td>\n",
              "      <td>0.009540</td>\n",
              "      <td>0.085000</td>\n",
              "      <td>...</td>\n",
              "      <td>0.013640</td>\n",
              "      <td>0.000650</td>\n",
              "      <td>8.441000</td>\n",
              "      <td>0.000000</td>\n",
              "      <td>0.256570</td>\n",
              "      <td>0.574282</td>\n",
              "      <td>-7.964984</td>\n",
              "      <td>0.006274</td>\n",
              "      <td>1.423287</td>\n",
              "      <td>0.044539</td>\n",
              "    </tr>\n",
              "    <tr>\n",
              "      <th>25%</th>\n",
              "      <td>117.572000</td>\n",
              "      <td>134.862500</td>\n",
              "      <td>84.291000</td>\n",
              "      <td>0.003460</td>\n",
              "      <td>0.000020</td>\n",
              "      <td>0.001660</td>\n",
              "      <td>0.001860</td>\n",
              "      <td>0.004985</td>\n",
              "      <td>0.016505</td>\n",
              "      <td>0.148500</td>\n",
              "      <td>...</td>\n",
              "      <td>0.024735</td>\n",
              "      <td>0.005925</td>\n",
              "      <td>19.198000</td>\n",
              "      <td>1.000000</td>\n",
              "      <td>0.421306</td>\n",
              "      <td>0.674758</td>\n",
              "      <td>-6.450096</td>\n",
              "      <td>0.174351</td>\n",
              "      <td>2.099125</td>\n",
              "      <td>0.137451</td>\n",
              "    </tr>\n",
              "    <tr>\n",
              "      <th>50%</th>\n",
              "      <td>148.790000</td>\n",
              "      <td>175.829000</td>\n",
              "      <td>104.315000</td>\n",
              "      <td>0.004940</td>\n",
              "      <td>0.000030</td>\n",
              "      <td>0.002500</td>\n",
              "      <td>0.002690</td>\n",
              "      <td>0.007490</td>\n",
              "      <td>0.022970</td>\n",
              "      <td>0.221000</td>\n",
              "      <td>...</td>\n",
              "      <td>0.038360</td>\n",
              "      <td>0.011660</td>\n",
              "      <td>22.085000</td>\n",
              "      <td>1.000000</td>\n",
              "      <td>0.495954</td>\n",
              "      <td>0.722254</td>\n",
              "      <td>-5.720868</td>\n",
              "      <td>0.218885</td>\n",
              "      <td>2.361532</td>\n",
              "      <td>0.194052</td>\n",
              "    </tr>\n",
              "    <tr>\n",
              "      <th>75%</th>\n",
              "      <td>182.769000</td>\n",
              "      <td>224.205500</td>\n",
              "      <td>140.018500</td>\n",
              "      <td>0.007365</td>\n",
              "      <td>0.000060</td>\n",
              "      <td>0.003835</td>\n",
              "      <td>0.003955</td>\n",
              "      <td>0.011505</td>\n",
              "      <td>0.037885</td>\n",
              "      <td>0.350000</td>\n",
              "      <td>...</td>\n",
              "      <td>0.060795</td>\n",
              "      <td>0.025640</td>\n",
              "      <td>25.075500</td>\n",
              "      <td>1.000000</td>\n",
              "      <td>0.587562</td>\n",
              "      <td>0.761881</td>\n",
              "      <td>-5.046192</td>\n",
              "      <td>0.279234</td>\n",
              "      <td>2.636456</td>\n",
              "      <td>0.252980</td>\n",
              "    </tr>\n",
              "    <tr>\n",
              "      <th>max</th>\n",
              "      <td>260.105000</td>\n",
              "      <td>592.030000</td>\n",
              "      <td>239.170000</td>\n",
              "      <td>0.033160</td>\n",
              "      <td>0.000260</td>\n",
              "      <td>0.021440</td>\n",
              "      <td>0.019580</td>\n",
              "      <td>0.064330</td>\n",
              "      <td>0.119080</td>\n",
              "      <td>1.302000</td>\n",
              "      <td>...</td>\n",
              "      <td>0.169420</td>\n",
              "      <td>0.314820</td>\n",
              "      <td>33.047000</td>\n",
              "      <td>1.000000</td>\n",
              "      <td>0.685151</td>\n",
              "      <td>0.825288</td>\n",
              "      <td>-2.434031</td>\n",
              "      <td>0.450493</td>\n",
              "      <td>3.671155</td>\n",
              "      <td>0.527367</td>\n",
              "    </tr>\n",
              "  </tbody>\n",
              "</table>\n",
              "<p>8 rows × 23 columns</p>\n",
              "</div>\n",
              "      <button class=\"colab-df-convert\" onclick=\"convertToInteractive('df-988fda7c-2a21-47f4-b89d-92c75cb0a96f')\"\n",
              "              title=\"Convert this dataframe to an interactive table.\"\n",
              "              style=\"display:none;\">\n",
              "        \n",
              "  <svg xmlns=\"http://www.w3.org/2000/svg\" height=\"24px\"viewBox=\"0 0 24 24\"\n",
              "       width=\"24px\">\n",
              "    <path d=\"M0 0h24v24H0V0z\" fill=\"none\"/>\n",
              "    <path d=\"M18.56 5.44l.94 2.06.94-2.06 2.06-.94-2.06-.94-.94-2.06-.94 2.06-2.06.94zm-11 1L8.5 8.5l.94-2.06 2.06-.94-2.06-.94L8.5 2.5l-.94 2.06-2.06.94zm10 10l.94 2.06.94-2.06 2.06-.94-2.06-.94-.94-2.06-.94 2.06-2.06.94z\"/><path d=\"M17.41 7.96l-1.37-1.37c-.4-.4-.92-.59-1.43-.59-.52 0-1.04.2-1.43.59L10.3 9.45l-7.72 7.72c-.78.78-.78 2.05 0 2.83L4 21.41c.39.39.9.59 1.41.59.51 0 1.02-.2 1.41-.59l7.78-7.78 2.81-2.81c.8-.78.8-2.07 0-2.86zM5.41 20L4 18.59l7.72-7.72 1.47 1.35L5.41 20z\"/>\n",
              "  </svg>\n",
              "      </button>\n",
              "      \n",
              "  <style>\n",
              "    .colab-df-container {\n",
              "      display:flex;\n",
              "      flex-wrap:wrap;\n",
              "      gap: 12px;\n",
              "    }\n",
              "\n",
              "    .colab-df-convert {\n",
              "      background-color: #E8F0FE;\n",
              "      border: none;\n",
              "      border-radius: 50%;\n",
              "      cursor: pointer;\n",
              "      display: none;\n",
              "      fill: #1967D2;\n",
              "      height: 32px;\n",
              "      padding: 0 0 0 0;\n",
              "      width: 32px;\n",
              "    }\n",
              "\n",
              "    .colab-df-convert:hover {\n",
              "      background-color: #E2EBFA;\n",
              "      box-shadow: 0px 1px 2px rgba(60, 64, 67, 0.3), 0px 1px 3px 1px rgba(60, 64, 67, 0.15);\n",
              "      fill: #174EA6;\n",
              "    }\n",
              "\n",
              "    [theme=dark] .colab-df-convert {\n",
              "      background-color: #3B4455;\n",
              "      fill: #D2E3FC;\n",
              "    }\n",
              "\n",
              "    [theme=dark] .colab-df-convert:hover {\n",
              "      background-color: #434B5C;\n",
              "      box-shadow: 0px 1px 3px 1px rgba(0, 0, 0, 0.15);\n",
              "      filter: drop-shadow(0px 1px 2px rgba(0, 0, 0, 0.3));\n",
              "      fill: #FFFFFF;\n",
              "    }\n",
              "  </style>\n",
              "\n",
              "      <script>\n",
              "        const buttonEl =\n",
              "          document.querySelector('#df-988fda7c-2a21-47f4-b89d-92c75cb0a96f button.colab-df-convert');\n",
              "        buttonEl.style.display =\n",
              "          google.colab.kernel.accessAllowed ? 'block' : 'none';\n",
              "\n",
              "        async function convertToInteractive(key) {\n",
              "          const element = document.querySelector('#df-988fda7c-2a21-47f4-b89d-92c75cb0a96f');\n",
              "          const dataTable =\n",
              "            await google.colab.kernel.invokeFunction('convertToInteractive',\n",
              "                                                     [key], {});\n",
              "          if (!dataTable) return;\n",
              "\n",
              "          const docLinkHtml = 'Like what you see? Visit the ' +\n",
              "            '<a target=\"_blank\" href=https://colab.research.google.com/notebooks/data_table.ipynb>data table notebook</a>'\n",
              "            + ' to learn more about interactive tables.';\n",
              "          element.innerHTML = '';\n",
              "          dataTable['output_type'] = 'display_data';\n",
              "          await google.colab.output.renderOutput(dataTable, element);\n",
              "          const docLink = document.createElement('div');\n",
              "          docLink.innerHTML = docLinkHtml;\n",
              "          element.appendChild(docLink);\n",
              "        }\n",
              "      </script>\n",
              "    </div>\n",
              "  </div>\n",
              "  "
            ]
          },
          "metadata": {},
          "execution_count": 15
        }
      ]
    },
    {
      "cell_type": "code",
      "source": [
        "import plotly.express as pl\n",
        "pl.histogram(df,x='status',color='status',text_auto=True,title='Count of status')"
      ],
      "metadata": {
        "colab": {
          "base_uri": "https://localhost:8080/",
          "height": 542
        },
        "id": "5BxqNOyisdDE",
        "outputId": "c4cee712-dedd-417e-f00e-01fef1df7dcc"
      },
      "execution_count": 16,
      "outputs": [
        {
          "output_type": "display_data",
          "data": {
            "text/html": [
              "<html>\n",
              "<head><meta charset=\"utf-8\" /></head>\n",
              "<body>\n",
              "    <div>            <script src=\"https://cdnjs.cloudflare.com/ajax/libs/mathjax/2.7.5/MathJax.js?config=TeX-AMS-MML_SVG\"></script><script type=\"text/javascript\">if (window.MathJax) {MathJax.Hub.Config({SVG: {font: \"STIX-Web\"}});}</script>                <script type=\"text/javascript\">window.PlotlyConfig = {MathJaxConfig: 'local'};</script>\n",
              "        <script src=\"https://cdn.plot.ly/plotly-2.8.3.min.js\"></script>                <div id=\"071b99da-f0dd-41a8-a686-8297e1e61a35\" class=\"plotly-graph-div\" style=\"height:525px; width:100%;\"></div>            <script type=\"text/javascript\">                                    window.PLOTLYENV=window.PLOTLYENV || {};                                    if (document.getElementById(\"071b99da-f0dd-41a8-a686-8297e1e61a35\")) {                    Plotly.newPlot(                        \"071b99da-f0dd-41a8-a686-8297e1e61a35\",                        [{\"alignmentgroup\":\"True\",\"bingroup\":\"x\",\"hovertemplate\":\"status=%{x}<br>count=%{y}<extra></extra>\",\"legendgroup\":\"1\",\"marker\":{\"color\":\"#636efa\",\"pattern\":{\"shape\":\"\"}},\"name\":\"1\",\"offsetgroup\":\"1\",\"orientation\":\"v\",\"showlegend\":true,\"texttemplate\":\"%{value}\",\"x\":[1,1,1,1,1,1,1,1,1,1,1,1,1,1,1,1,1,1,1,1,1,1,1,1,1,1,1,1,1,1,1,1,1,1,1,1,1,1,1,1,1,1,1,1,1,1,1,1,1,1,1,1,1,1,1,1,1,1,1,1,1,1,1,1,1,1,1,1,1,1,1,1,1,1,1,1,1,1,1,1,1,1,1,1,1,1,1,1,1,1,1,1,1,1,1,1,1,1,1,1,1,1,1,1,1,1,1,1,1,1,1,1,1,1,1,1,1,1,1,1,1,1,1,1,1,1,1,1,1,1,1,1,1,1,1,1,1,1,1,1,1,1,1,1,1,1,1],\"xaxis\":\"x\",\"yaxis\":\"y\",\"type\":\"histogram\"},{\"alignmentgroup\":\"True\",\"bingroup\":\"x\",\"hovertemplate\":\"status=%{x}<br>count=%{y}<extra></extra>\",\"legendgroup\":\"0\",\"marker\":{\"color\":\"#EF553B\",\"pattern\":{\"shape\":\"\"}},\"name\":\"0\",\"offsetgroup\":\"0\",\"orientation\":\"v\",\"showlegend\":true,\"texttemplate\":\"%{value}\",\"x\":[0,0,0,0,0,0,0,0,0,0,0,0,0,0,0,0,0,0,0,0,0,0,0,0,0,0,0,0,0,0,0,0,0,0,0,0,0,0,0,0,0,0,0,0,0,0,0,0],\"xaxis\":\"x\",\"yaxis\":\"y\",\"type\":\"histogram\"}],                        {\"template\":{\"data\":{\"bar\":[{\"error_x\":{\"color\":\"#2a3f5f\"},\"error_y\":{\"color\":\"#2a3f5f\"},\"marker\":{\"line\":{\"color\":\"#E5ECF6\",\"width\":0.5},\"pattern\":{\"fillmode\":\"overlay\",\"size\":10,\"solidity\":0.2}},\"type\":\"bar\"}],\"barpolar\":[{\"marker\":{\"line\":{\"color\":\"#E5ECF6\",\"width\":0.5},\"pattern\":{\"fillmode\":\"overlay\",\"size\":10,\"solidity\":0.2}},\"type\":\"barpolar\"}],\"carpet\":[{\"aaxis\":{\"endlinecolor\":\"#2a3f5f\",\"gridcolor\":\"white\",\"linecolor\":\"white\",\"minorgridcolor\":\"white\",\"startlinecolor\":\"#2a3f5f\"},\"baxis\":{\"endlinecolor\":\"#2a3f5f\",\"gridcolor\":\"white\",\"linecolor\":\"white\",\"minorgridcolor\":\"white\",\"startlinecolor\":\"#2a3f5f\"},\"type\":\"carpet\"}],\"choropleth\":[{\"colorbar\":{\"outlinewidth\":0,\"ticks\":\"\"},\"type\":\"choropleth\"}],\"contour\":[{\"colorbar\":{\"outlinewidth\":0,\"ticks\":\"\"},\"colorscale\":[[0.0,\"#0d0887\"],[0.1111111111111111,\"#46039f\"],[0.2222222222222222,\"#7201a8\"],[0.3333333333333333,\"#9c179e\"],[0.4444444444444444,\"#bd3786\"],[0.5555555555555556,\"#d8576b\"],[0.6666666666666666,\"#ed7953\"],[0.7777777777777778,\"#fb9f3a\"],[0.8888888888888888,\"#fdca26\"],[1.0,\"#f0f921\"]],\"type\":\"contour\"}],\"contourcarpet\":[{\"colorbar\":{\"outlinewidth\":0,\"ticks\":\"\"},\"type\":\"contourcarpet\"}],\"heatmap\":[{\"colorbar\":{\"outlinewidth\":0,\"ticks\":\"\"},\"colorscale\":[[0.0,\"#0d0887\"],[0.1111111111111111,\"#46039f\"],[0.2222222222222222,\"#7201a8\"],[0.3333333333333333,\"#9c179e\"],[0.4444444444444444,\"#bd3786\"],[0.5555555555555556,\"#d8576b\"],[0.6666666666666666,\"#ed7953\"],[0.7777777777777778,\"#fb9f3a\"],[0.8888888888888888,\"#fdca26\"],[1.0,\"#f0f921\"]],\"type\":\"heatmap\"}],\"heatmapgl\":[{\"colorbar\":{\"outlinewidth\":0,\"ticks\":\"\"},\"colorscale\":[[0.0,\"#0d0887\"],[0.1111111111111111,\"#46039f\"],[0.2222222222222222,\"#7201a8\"],[0.3333333333333333,\"#9c179e\"],[0.4444444444444444,\"#bd3786\"],[0.5555555555555556,\"#d8576b\"],[0.6666666666666666,\"#ed7953\"],[0.7777777777777778,\"#fb9f3a\"],[0.8888888888888888,\"#fdca26\"],[1.0,\"#f0f921\"]],\"type\":\"heatmapgl\"}],\"histogram\":[{\"marker\":{\"pattern\":{\"fillmode\":\"overlay\",\"size\":10,\"solidity\":0.2}},\"type\":\"histogram\"}],\"histogram2d\":[{\"colorbar\":{\"outlinewidth\":0,\"ticks\":\"\"},\"colorscale\":[[0.0,\"#0d0887\"],[0.1111111111111111,\"#46039f\"],[0.2222222222222222,\"#7201a8\"],[0.3333333333333333,\"#9c179e\"],[0.4444444444444444,\"#bd3786\"],[0.5555555555555556,\"#d8576b\"],[0.6666666666666666,\"#ed7953\"],[0.7777777777777778,\"#fb9f3a\"],[0.8888888888888888,\"#fdca26\"],[1.0,\"#f0f921\"]],\"type\":\"histogram2d\"}],\"histogram2dcontour\":[{\"colorbar\":{\"outlinewidth\":0,\"ticks\":\"\"},\"colorscale\":[[0.0,\"#0d0887\"],[0.1111111111111111,\"#46039f\"],[0.2222222222222222,\"#7201a8\"],[0.3333333333333333,\"#9c179e\"],[0.4444444444444444,\"#bd3786\"],[0.5555555555555556,\"#d8576b\"],[0.6666666666666666,\"#ed7953\"],[0.7777777777777778,\"#fb9f3a\"],[0.8888888888888888,\"#fdca26\"],[1.0,\"#f0f921\"]],\"type\":\"histogram2dcontour\"}],\"mesh3d\":[{\"colorbar\":{\"outlinewidth\":0,\"ticks\":\"\"},\"type\":\"mesh3d\"}],\"parcoords\":[{\"line\":{\"colorbar\":{\"outlinewidth\":0,\"ticks\":\"\"}},\"type\":\"parcoords\"}],\"pie\":[{\"automargin\":true,\"type\":\"pie\"}],\"scatter\":[{\"marker\":{\"colorbar\":{\"outlinewidth\":0,\"ticks\":\"\"}},\"type\":\"scatter\"}],\"scatter3d\":[{\"line\":{\"colorbar\":{\"outlinewidth\":0,\"ticks\":\"\"}},\"marker\":{\"colorbar\":{\"outlinewidth\":0,\"ticks\":\"\"}},\"type\":\"scatter3d\"}],\"scattercarpet\":[{\"marker\":{\"colorbar\":{\"outlinewidth\":0,\"ticks\":\"\"}},\"type\":\"scattercarpet\"}],\"scattergeo\":[{\"marker\":{\"colorbar\":{\"outlinewidth\":0,\"ticks\":\"\"}},\"type\":\"scattergeo\"}],\"scattergl\":[{\"marker\":{\"colorbar\":{\"outlinewidth\":0,\"ticks\":\"\"}},\"type\":\"scattergl\"}],\"scattermapbox\":[{\"marker\":{\"colorbar\":{\"outlinewidth\":0,\"ticks\":\"\"}},\"type\":\"scattermapbox\"}],\"scatterpolar\":[{\"marker\":{\"colorbar\":{\"outlinewidth\":0,\"ticks\":\"\"}},\"type\":\"scatterpolar\"}],\"scatterpolargl\":[{\"marker\":{\"colorbar\":{\"outlinewidth\":0,\"ticks\":\"\"}},\"type\":\"scatterpolargl\"}],\"scatterternary\":[{\"marker\":{\"colorbar\":{\"outlinewidth\":0,\"ticks\":\"\"}},\"type\":\"scatterternary\"}],\"surface\":[{\"colorbar\":{\"outlinewidth\":0,\"ticks\":\"\"},\"colorscale\":[[0.0,\"#0d0887\"],[0.1111111111111111,\"#46039f\"],[0.2222222222222222,\"#7201a8\"],[0.3333333333333333,\"#9c179e\"],[0.4444444444444444,\"#bd3786\"],[0.5555555555555556,\"#d8576b\"],[0.6666666666666666,\"#ed7953\"],[0.7777777777777778,\"#fb9f3a\"],[0.8888888888888888,\"#fdca26\"],[1.0,\"#f0f921\"]],\"type\":\"surface\"}],\"table\":[{\"cells\":{\"fill\":{\"color\":\"#EBF0F8\"},\"line\":{\"color\":\"white\"}},\"header\":{\"fill\":{\"color\":\"#C8D4E3\"},\"line\":{\"color\":\"white\"}},\"type\":\"table\"}]},\"layout\":{\"annotationdefaults\":{\"arrowcolor\":\"#2a3f5f\",\"arrowhead\":0,\"arrowwidth\":1},\"autotypenumbers\":\"strict\",\"coloraxis\":{\"colorbar\":{\"outlinewidth\":0,\"ticks\":\"\"}},\"colorscale\":{\"diverging\":[[0,\"#8e0152\"],[0.1,\"#c51b7d\"],[0.2,\"#de77ae\"],[0.3,\"#f1b6da\"],[0.4,\"#fde0ef\"],[0.5,\"#f7f7f7\"],[0.6,\"#e6f5d0\"],[0.7,\"#b8e186\"],[0.8,\"#7fbc41\"],[0.9,\"#4d9221\"],[1,\"#276419\"]],\"sequential\":[[0.0,\"#0d0887\"],[0.1111111111111111,\"#46039f\"],[0.2222222222222222,\"#7201a8\"],[0.3333333333333333,\"#9c179e\"],[0.4444444444444444,\"#bd3786\"],[0.5555555555555556,\"#d8576b\"],[0.6666666666666666,\"#ed7953\"],[0.7777777777777778,\"#fb9f3a\"],[0.8888888888888888,\"#fdca26\"],[1.0,\"#f0f921\"]],\"sequentialminus\":[[0.0,\"#0d0887\"],[0.1111111111111111,\"#46039f\"],[0.2222222222222222,\"#7201a8\"],[0.3333333333333333,\"#9c179e\"],[0.4444444444444444,\"#bd3786\"],[0.5555555555555556,\"#d8576b\"],[0.6666666666666666,\"#ed7953\"],[0.7777777777777778,\"#fb9f3a\"],[0.8888888888888888,\"#fdca26\"],[1.0,\"#f0f921\"]]},\"colorway\":[\"#636efa\",\"#EF553B\",\"#00cc96\",\"#ab63fa\",\"#FFA15A\",\"#19d3f3\",\"#FF6692\",\"#B6E880\",\"#FF97FF\",\"#FECB52\"],\"font\":{\"color\":\"#2a3f5f\"},\"geo\":{\"bgcolor\":\"white\",\"lakecolor\":\"white\",\"landcolor\":\"#E5ECF6\",\"showlakes\":true,\"showland\":true,\"subunitcolor\":\"white\"},\"hoverlabel\":{\"align\":\"left\"},\"hovermode\":\"closest\",\"mapbox\":{\"style\":\"light\"},\"paper_bgcolor\":\"white\",\"plot_bgcolor\":\"#E5ECF6\",\"polar\":{\"angularaxis\":{\"gridcolor\":\"white\",\"linecolor\":\"white\",\"ticks\":\"\"},\"bgcolor\":\"#E5ECF6\",\"radialaxis\":{\"gridcolor\":\"white\",\"linecolor\":\"white\",\"ticks\":\"\"}},\"scene\":{\"xaxis\":{\"backgroundcolor\":\"#E5ECF6\",\"gridcolor\":\"white\",\"gridwidth\":2,\"linecolor\":\"white\",\"showbackground\":true,\"ticks\":\"\",\"zerolinecolor\":\"white\"},\"yaxis\":{\"backgroundcolor\":\"#E5ECF6\",\"gridcolor\":\"white\",\"gridwidth\":2,\"linecolor\":\"white\",\"showbackground\":true,\"ticks\":\"\",\"zerolinecolor\":\"white\"},\"zaxis\":{\"backgroundcolor\":\"#E5ECF6\",\"gridcolor\":\"white\",\"gridwidth\":2,\"linecolor\":\"white\",\"showbackground\":true,\"ticks\":\"\",\"zerolinecolor\":\"white\"}},\"shapedefaults\":{\"line\":{\"color\":\"#2a3f5f\"}},\"ternary\":{\"aaxis\":{\"gridcolor\":\"white\",\"linecolor\":\"white\",\"ticks\":\"\"},\"baxis\":{\"gridcolor\":\"white\",\"linecolor\":\"white\",\"ticks\":\"\"},\"bgcolor\":\"#E5ECF6\",\"caxis\":{\"gridcolor\":\"white\",\"linecolor\":\"white\",\"ticks\":\"\"}},\"title\":{\"x\":0.05},\"xaxis\":{\"automargin\":true,\"gridcolor\":\"white\",\"linecolor\":\"white\",\"ticks\":\"\",\"title\":{\"standoff\":15},\"zerolinecolor\":\"white\",\"zerolinewidth\":2},\"yaxis\":{\"automargin\":true,\"gridcolor\":\"white\",\"linecolor\":\"white\",\"ticks\":\"\",\"title\":{\"standoff\":15},\"zerolinecolor\":\"white\",\"zerolinewidth\":2}}},\"xaxis\":{\"anchor\":\"y\",\"domain\":[0.0,1.0],\"title\":{\"text\":\"status\"},\"categoryorder\":\"array\",\"categoryarray\":[1,0]},\"yaxis\":{\"anchor\":\"x\",\"domain\":[0.0,1.0],\"title\":{\"text\":\"count\"}},\"legend\":{\"title\":{\"text\":\"status\"},\"tracegroupgap\":0},\"title\":{\"text\":\"Count of status\"},\"barmode\":\"relative\"},                        {\"responsive\": true}                    ).then(function(){\n",
              "                            \n",
              "var gd = document.getElementById('071b99da-f0dd-41a8-a686-8297e1e61a35');\n",
              "var x = new MutationObserver(function (mutations, observer) {{\n",
              "        var display = window.getComputedStyle(gd).display;\n",
              "        if (!display || display === 'none') {{\n",
              "            console.log([gd, 'removed!']);\n",
              "            Plotly.purge(gd);\n",
              "            observer.disconnect();\n",
              "        }}\n",
              "}});\n",
              "\n",
              "// Listen for the removal of the full notebook cells\n",
              "var notebookContainer = gd.closest('#notebook-container');\n",
              "if (notebookContainer) {{\n",
              "    x.observe(notebookContainer, {childList: true});\n",
              "}}\n",
              "\n",
              "// Listen for the clearing of the current output cell\n",
              "var outputEl = gd.closest('.output');\n",
              "if (outputEl) {{\n",
              "    x.observe(outputEl, {childList: true});\n",
              "}}\n",
              "\n",
              "                        })                };                            </script>        </div>\n",
              "</body>\n",
              "</html>"
            ]
          },
          "metadata": {}
        }
      ]
    },
    {
      "cell_type": "code",
      "source": [
        "pl.histogram(df,'MDVP:Fo(Hz)',color='status',barmode='group',text_auto=True,title=\"'MDVP:Fo(hz)' frequency distribution\")"
      ],
      "metadata": {
        "colab": {
          "base_uri": "https://localhost:8080/",
          "height": 542
        },
        "id": "FmN_lQkFsdGb",
        "outputId": "7acf037c-1069-46f5-8def-942c390fa4a9"
      },
      "execution_count": 17,
      "outputs": [
        {
          "output_type": "display_data",
          "data": {
            "text/html": [
              "<html>\n",
              "<head><meta charset=\"utf-8\" /></head>\n",
              "<body>\n",
              "    <div>            <script src=\"https://cdnjs.cloudflare.com/ajax/libs/mathjax/2.7.5/MathJax.js?config=TeX-AMS-MML_SVG\"></script><script type=\"text/javascript\">if (window.MathJax) {MathJax.Hub.Config({SVG: {font: \"STIX-Web\"}});}</script>                <script type=\"text/javascript\">window.PlotlyConfig = {MathJaxConfig: 'local'};</script>\n",
              "        <script src=\"https://cdn.plot.ly/plotly-2.8.3.min.js\"></script>                <div id=\"256c3a02-db6e-420d-b99d-a5799a3b662f\" class=\"plotly-graph-div\" style=\"height:525px; width:100%;\"></div>            <script type=\"text/javascript\">                                    window.PLOTLYENV=window.PLOTLYENV || {};                                    if (document.getElementById(\"256c3a02-db6e-420d-b99d-a5799a3b662f\")) {                    Plotly.newPlot(                        \"256c3a02-db6e-420d-b99d-a5799a3b662f\",                        [{\"alignmentgroup\":\"True\",\"bingroup\":\"x\",\"hovertemplate\":\"status=1<br>MDVP:Fo(Hz)=%{x}<br>count=%{y}<extra></extra>\",\"legendgroup\":\"1\",\"marker\":{\"color\":\"#636efa\",\"pattern\":{\"shape\":\"\"}},\"name\":\"1\",\"offsetgroup\":\"1\",\"orientation\":\"v\",\"showlegend\":true,\"texttemplate\":\"%{value}\",\"x\":[119.992,122.4,116.682,116.676,116.014,120.552,120.267,107.332,95.73,95.056,88.333,91.904,136.926,139.173,152.845,142.167,144.188,168.778,153.046,156.405,153.848,153.88,167.93,173.917,163.656,104.4,171.041,146.845,155.358,162.568,177.876,176.17,180.198,187.733,186.163,184.055,108.807,109.86,110.417,117.274,116.879,114.847,140.341,136.969,143.533,148.09,142.729,136.358,120.08,112.014,110.793,110.707,112.876,110.568,95.385,100.77,96.106,95.605,100.96,98.804,176.858,180.978,178.222,176.281,173.898,179.711,166.605,151.955,148.272,152.125,157.821,157.447,159.116,125.036,125.791,126.512,125.641,128.451,139.224,150.258,154.003,149.689,155.078,151.884,151.989,193.03,200.714,208.519,204.664,210.141,206.327,151.872,158.219,170.756,178.285,217.116,128.94,176.824,138.19,182.018,156.239,145.174,138.145,166.888,119.031,120.078,120.289,120.256,119.056,118.747,106.516,110.453,113.4,113.166,112.239,116.15,170.368,208.083,198.458,202.805,202.544,223.361,169.774,183.52,188.62,202.632,186.695,192.818,198.116,121.345,119.1,117.87,122.336,117.963,126.144,127.93,114.238,115.322,114.554,112.15,102.273,151.737,148.79,148.143,150.44,148.462,149.818],\"xaxis\":\"x\",\"yaxis\":\"y\",\"type\":\"histogram\"},{\"alignmentgroup\":\"True\",\"bingroup\":\"x\",\"hovertemplate\":\"status=0<br>MDVP:Fo(Hz)=%{x}<br>count=%{y}<extra></extra>\",\"legendgroup\":\"0\",\"marker\":{\"color\":\"#EF553B\",\"pattern\":{\"shape\":\"\"}},\"name\":\"0\",\"offsetgroup\":\"0\",\"orientation\":\"v\",\"showlegend\":true,\"texttemplate\":\"%{value}\",\"x\":[197.076,199.228,198.383,202.266,203.184,201.464,237.226,241.404,243.439,242.852,245.51,252.455,122.188,122.964,124.445,126.344,128.001,129.336,209.144,223.365,222.236,228.832,229.401,228.969,236.2,237.323,260.105,197.569,240.301,244.99,112.547,110.739,113.715,117.004,115.38,116.388,117.226,116.848,116.286,116.556,116.342,114.563,201.774,174.188,209.516,174.688,198.764,214.289],\"xaxis\":\"x\",\"yaxis\":\"y\",\"type\":\"histogram\"}],                        {\"template\":{\"data\":{\"bar\":[{\"error_x\":{\"color\":\"#2a3f5f\"},\"error_y\":{\"color\":\"#2a3f5f\"},\"marker\":{\"line\":{\"color\":\"#E5ECF6\",\"width\":0.5},\"pattern\":{\"fillmode\":\"overlay\",\"size\":10,\"solidity\":0.2}},\"type\":\"bar\"}],\"barpolar\":[{\"marker\":{\"line\":{\"color\":\"#E5ECF6\",\"width\":0.5},\"pattern\":{\"fillmode\":\"overlay\",\"size\":10,\"solidity\":0.2}},\"type\":\"barpolar\"}],\"carpet\":[{\"aaxis\":{\"endlinecolor\":\"#2a3f5f\",\"gridcolor\":\"white\",\"linecolor\":\"white\",\"minorgridcolor\":\"white\",\"startlinecolor\":\"#2a3f5f\"},\"baxis\":{\"endlinecolor\":\"#2a3f5f\",\"gridcolor\":\"white\",\"linecolor\":\"white\",\"minorgridcolor\":\"white\",\"startlinecolor\":\"#2a3f5f\"},\"type\":\"carpet\"}],\"choropleth\":[{\"colorbar\":{\"outlinewidth\":0,\"ticks\":\"\"},\"type\":\"choropleth\"}],\"contour\":[{\"colorbar\":{\"outlinewidth\":0,\"ticks\":\"\"},\"colorscale\":[[0.0,\"#0d0887\"],[0.1111111111111111,\"#46039f\"],[0.2222222222222222,\"#7201a8\"],[0.3333333333333333,\"#9c179e\"],[0.4444444444444444,\"#bd3786\"],[0.5555555555555556,\"#d8576b\"],[0.6666666666666666,\"#ed7953\"],[0.7777777777777778,\"#fb9f3a\"],[0.8888888888888888,\"#fdca26\"],[1.0,\"#f0f921\"]],\"type\":\"contour\"}],\"contourcarpet\":[{\"colorbar\":{\"outlinewidth\":0,\"ticks\":\"\"},\"type\":\"contourcarpet\"}],\"heatmap\":[{\"colorbar\":{\"outlinewidth\":0,\"ticks\":\"\"},\"colorscale\":[[0.0,\"#0d0887\"],[0.1111111111111111,\"#46039f\"],[0.2222222222222222,\"#7201a8\"],[0.3333333333333333,\"#9c179e\"],[0.4444444444444444,\"#bd3786\"],[0.5555555555555556,\"#d8576b\"],[0.6666666666666666,\"#ed7953\"],[0.7777777777777778,\"#fb9f3a\"],[0.8888888888888888,\"#fdca26\"],[1.0,\"#f0f921\"]],\"type\":\"heatmap\"}],\"heatmapgl\":[{\"colorbar\":{\"outlinewidth\":0,\"ticks\":\"\"},\"colorscale\":[[0.0,\"#0d0887\"],[0.1111111111111111,\"#46039f\"],[0.2222222222222222,\"#7201a8\"],[0.3333333333333333,\"#9c179e\"],[0.4444444444444444,\"#bd3786\"],[0.5555555555555556,\"#d8576b\"],[0.6666666666666666,\"#ed7953\"],[0.7777777777777778,\"#fb9f3a\"],[0.8888888888888888,\"#fdca26\"],[1.0,\"#f0f921\"]],\"type\":\"heatmapgl\"}],\"histogram\":[{\"marker\":{\"pattern\":{\"fillmode\":\"overlay\",\"size\":10,\"solidity\":0.2}},\"type\":\"histogram\"}],\"histogram2d\":[{\"colorbar\":{\"outlinewidth\":0,\"ticks\":\"\"},\"colorscale\":[[0.0,\"#0d0887\"],[0.1111111111111111,\"#46039f\"],[0.2222222222222222,\"#7201a8\"],[0.3333333333333333,\"#9c179e\"],[0.4444444444444444,\"#bd3786\"],[0.5555555555555556,\"#d8576b\"],[0.6666666666666666,\"#ed7953\"],[0.7777777777777778,\"#fb9f3a\"],[0.8888888888888888,\"#fdca26\"],[1.0,\"#f0f921\"]],\"type\":\"histogram2d\"}],\"histogram2dcontour\":[{\"colorbar\":{\"outlinewidth\":0,\"ticks\":\"\"},\"colorscale\":[[0.0,\"#0d0887\"],[0.1111111111111111,\"#46039f\"],[0.2222222222222222,\"#7201a8\"],[0.3333333333333333,\"#9c179e\"],[0.4444444444444444,\"#bd3786\"],[0.5555555555555556,\"#d8576b\"],[0.6666666666666666,\"#ed7953\"],[0.7777777777777778,\"#fb9f3a\"],[0.8888888888888888,\"#fdca26\"],[1.0,\"#f0f921\"]],\"type\":\"histogram2dcontour\"}],\"mesh3d\":[{\"colorbar\":{\"outlinewidth\":0,\"ticks\":\"\"},\"type\":\"mesh3d\"}],\"parcoords\":[{\"line\":{\"colorbar\":{\"outlinewidth\":0,\"ticks\":\"\"}},\"type\":\"parcoords\"}],\"pie\":[{\"automargin\":true,\"type\":\"pie\"}],\"scatter\":[{\"marker\":{\"colorbar\":{\"outlinewidth\":0,\"ticks\":\"\"}},\"type\":\"scatter\"}],\"scatter3d\":[{\"line\":{\"colorbar\":{\"outlinewidth\":0,\"ticks\":\"\"}},\"marker\":{\"colorbar\":{\"outlinewidth\":0,\"ticks\":\"\"}},\"type\":\"scatter3d\"}],\"scattercarpet\":[{\"marker\":{\"colorbar\":{\"outlinewidth\":0,\"ticks\":\"\"}},\"type\":\"scattercarpet\"}],\"scattergeo\":[{\"marker\":{\"colorbar\":{\"outlinewidth\":0,\"ticks\":\"\"}},\"type\":\"scattergeo\"}],\"scattergl\":[{\"marker\":{\"colorbar\":{\"outlinewidth\":0,\"ticks\":\"\"}},\"type\":\"scattergl\"}],\"scattermapbox\":[{\"marker\":{\"colorbar\":{\"outlinewidth\":0,\"ticks\":\"\"}},\"type\":\"scattermapbox\"}],\"scatterpolar\":[{\"marker\":{\"colorbar\":{\"outlinewidth\":0,\"ticks\":\"\"}},\"type\":\"scatterpolar\"}],\"scatterpolargl\":[{\"marker\":{\"colorbar\":{\"outlinewidth\":0,\"ticks\":\"\"}},\"type\":\"scatterpolargl\"}],\"scatterternary\":[{\"marker\":{\"colorbar\":{\"outlinewidth\":0,\"ticks\":\"\"}},\"type\":\"scatterternary\"}],\"surface\":[{\"colorbar\":{\"outlinewidth\":0,\"ticks\":\"\"},\"colorscale\":[[0.0,\"#0d0887\"],[0.1111111111111111,\"#46039f\"],[0.2222222222222222,\"#7201a8\"],[0.3333333333333333,\"#9c179e\"],[0.4444444444444444,\"#bd3786\"],[0.5555555555555556,\"#d8576b\"],[0.6666666666666666,\"#ed7953\"],[0.7777777777777778,\"#fb9f3a\"],[0.8888888888888888,\"#fdca26\"],[1.0,\"#f0f921\"]],\"type\":\"surface\"}],\"table\":[{\"cells\":{\"fill\":{\"color\":\"#EBF0F8\"},\"line\":{\"color\":\"white\"}},\"header\":{\"fill\":{\"color\":\"#C8D4E3\"},\"line\":{\"color\":\"white\"}},\"type\":\"table\"}]},\"layout\":{\"annotationdefaults\":{\"arrowcolor\":\"#2a3f5f\",\"arrowhead\":0,\"arrowwidth\":1},\"autotypenumbers\":\"strict\",\"coloraxis\":{\"colorbar\":{\"outlinewidth\":0,\"ticks\":\"\"}},\"colorscale\":{\"diverging\":[[0,\"#8e0152\"],[0.1,\"#c51b7d\"],[0.2,\"#de77ae\"],[0.3,\"#f1b6da\"],[0.4,\"#fde0ef\"],[0.5,\"#f7f7f7\"],[0.6,\"#e6f5d0\"],[0.7,\"#b8e186\"],[0.8,\"#7fbc41\"],[0.9,\"#4d9221\"],[1,\"#276419\"]],\"sequential\":[[0.0,\"#0d0887\"],[0.1111111111111111,\"#46039f\"],[0.2222222222222222,\"#7201a8\"],[0.3333333333333333,\"#9c179e\"],[0.4444444444444444,\"#bd3786\"],[0.5555555555555556,\"#d8576b\"],[0.6666666666666666,\"#ed7953\"],[0.7777777777777778,\"#fb9f3a\"],[0.8888888888888888,\"#fdca26\"],[1.0,\"#f0f921\"]],\"sequentialminus\":[[0.0,\"#0d0887\"],[0.1111111111111111,\"#46039f\"],[0.2222222222222222,\"#7201a8\"],[0.3333333333333333,\"#9c179e\"],[0.4444444444444444,\"#bd3786\"],[0.5555555555555556,\"#d8576b\"],[0.6666666666666666,\"#ed7953\"],[0.7777777777777778,\"#fb9f3a\"],[0.8888888888888888,\"#fdca26\"],[1.0,\"#f0f921\"]]},\"colorway\":[\"#636efa\",\"#EF553B\",\"#00cc96\",\"#ab63fa\",\"#FFA15A\",\"#19d3f3\",\"#FF6692\",\"#B6E880\",\"#FF97FF\",\"#FECB52\"],\"font\":{\"color\":\"#2a3f5f\"},\"geo\":{\"bgcolor\":\"white\",\"lakecolor\":\"white\",\"landcolor\":\"#E5ECF6\",\"showlakes\":true,\"showland\":true,\"subunitcolor\":\"white\"},\"hoverlabel\":{\"align\":\"left\"},\"hovermode\":\"closest\",\"mapbox\":{\"style\":\"light\"},\"paper_bgcolor\":\"white\",\"plot_bgcolor\":\"#E5ECF6\",\"polar\":{\"angularaxis\":{\"gridcolor\":\"white\",\"linecolor\":\"white\",\"ticks\":\"\"},\"bgcolor\":\"#E5ECF6\",\"radialaxis\":{\"gridcolor\":\"white\",\"linecolor\":\"white\",\"ticks\":\"\"}},\"scene\":{\"xaxis\":{\"backgroundcolor\":\"#E5ECF6\",\"gridcolor\":\"white\",\"gridwidth\":2,\"linecolor\":\"white\",\"showbackground\":true,\"ticks\":\"\",\"zerolinecolor\":\"white\"},\"yaxis\":{\"backgroundcolor\":\"#E5ECF6\",\"gridcolor\":\"white\",\"gridwidth\":2,\"linecolor\":\"white\",\"showbackground\":true,\"ticks\":\"\",\"zerolinecolor\":\"white\"},\"zaxis\":{\"backgroundcolor\":\"#E5ECF6\",\"gridcolor\":\"white\",\"gridwidth\":2,\"linecolor\":\"white\",\"showbackground\":true,\"ticks\":\"\",\"zerolinecolor\":\"white\"}},\"shapedefaults\":{\"line\":{\"color\":\"#2a3f5f\"}},\"ternary\":{\"aaxis\":{\"gridcolor\":\"white\",\"linecolor\":\"white\",\"ticks\":\"\"},\"baxis\":{\"gridcolor\":\"white\",\"linecolor\":\"white\",\"ticks\":\"\"},\"bgcolor\":\"#E5ECF6\",\"caxis\":{\"gridcolor\":\"white\",\"linecolor\":\"white\",\"ticks\":\"\"}},\"title\":{\"x\":0.05},\"xaxis\":{\"automargin\":true,\"gridcolor\":\"white\",\"linecolor\":\"white\",\"ticks\":\"\",\"title\":{\"standoff\":15},\"zerolinecolor\":\"white\",\"zerolinewidth\":2},\"yaxis\":{\"automargin\":true,\"gridcolor\":\"white\",\"linecolor\":\"white\",\"ticks\":\"\",\"title\":{\"standoff\":15},\"zerolinecolor\":\"white\",\"zerolinewidth\":2}}},\"xaxis\":{\"anchor\":\"y\",\"domain\":[0.0,1.0],\"title\":{\"text\":\"MDVP:Fo(Hz)\"}},\"yaxis\":{\"anchor\":\"x\",\"domain\":[0.0,1.0],\"title\":{\"text\":\"count\"}},\"legend\":{\"title\":{\"text\":\"status\"},\"tracegroupgap\":0},\"title\":{\"text\":\"'MDVP:Fo(hz)' frequency distribution\"},\"barmode\":\"group\"},                        {\"responsive\": true}                    ).then(function(){\n",
              "                            \n",
              "var gd = document.getElementById('256c3a02-db6e-420d-b99d-a5799a3b662f');\n",
              "var x = new MutationObserver(function (mutations, observer) {{\n",
              "        var display = window.getComputedStyle(gd).display;\n",
              "        if (!display || display === 'none') {{\n",
              "            console.log([gd, 'removed!']);\n",
              "            Plotly.purge(gd);\n",
              "            observer.disconnect();\n",
              "        }}\n",
              "}});\n",
              "\n",
              "// Listen for the removal of the full notebook cells\n",
              "var notebookContainer = gd.closest('#notebook-container');\n",
              "if (notebookContainer) {{\n",
              "    x.observe(notebookContainer, {childList: true});\n",
              "}}\n",
              "\n",
              "// Listen for the clearing of the current output cell\n",
              "var outputEl = gd.closest('.output');\n",
              "if (outputEl) {{\n",
              "    x.observe(outputEl, {childList: true});\n",
              "}}\n",
              "\n",
              "                        })                };                            </script>        </div>\n",
              "</body>\n",
              "</html>"
            ]
          },
          "metadata": {}
        }
      ]
    },
    {
      "cell_type": "code",
      "source": [
        "pl.histogram(df,'Jitter:DDP',color='status',barmode='group',text_auto=True,title=\"'Jitter:DDP' frequency distribution\")"
      ],
      "metadata": {
        "colab": {
          "base_uri": "https://localhost:8080/",
          "height": 542
        },
        "id": "QtnS3FVatVIA",
        "outputId": "25f41191-1c8a-4e84-9063-b8bb9647d1b6"
      },
      "execution_count": 18,
      "outputs": [
        {
          "output_type": "display_data",
          "data": {
            "text/html": [
              "<html>\n",
              "<head><meta charset=\"utf-8\" /></head>\n",
              "<body>\n",
              "    <div>            <script src=\"https://cdnjs.cloudflare.com/ajax/libs/mathjax/2.7.5/MathJax.js?config=TeX-AMS-MML_SVG\"></script><script type=\"text/javascript\">if (window.MathJax) {MathJax.Hub.Config({SVG: {font: \"STIX-Web\"}});}</script>                <script type=\"text/javascript\">window.PlotlyConfig = {MathJaxConfig: 'local'};</script>\n",
              "        <script src=\"https://cdn.plot.ly/plotly-2.8.3.min.js\"></script>                <div id=\"34648e6a-54ed-45e9-8732-ac6107266d71\" class=\"plotly-graph-div\" style=\"height:525px; width:100%;\"></div>            <script type=\"text/javascript\">                                    window.PLOTLYENV=window.PLOTLYENV || {};                                    if (document.getElementById(\"34648e6a-54ed-45e9-8732-ac6107266d71\")) {                    Plotly.newPlot(                        \"34648e6a-54ed-45e9-8732-ac6107266d71\",                        [{\"alignmentgroup\":\"True\",\"bingroup\":\"x\",\"hovertemplate\":\"status=1<br>Jitter:DDP=%{x}<br>count=%{y}<extra></extra>\",\"legendgroup\":\"1\",\"marker\":{\"color\":\"#636efa\",\"pattern\":{\"shape\":\"\"}},\"name\":\"1\",\"offsetgroup\":\"1\",\"orientation\":\"v\",\"showlegend\":true,\"texttemplate\":\"%{value}\",\"x\":[0.01109,0.01394,0.01633,0.01505,0.01966,0.01388,0.00466,0.00431,0.0088,0.00803,0.00763,0.00844,0.00355,0.00496,0.00364,0.00471,0.00632,0.00853,0.01092,0.01116,0.01285,0.00696,0.00661,0.00663,0.0114,0.00948,0.0075,0.00749,0.00476,0.00841,0.007,0.00616,0.00459,0.00504,0.00496,0.00403,0.01046,0.01193,0.01056,0.00898,0.01003,0.0112,0.01289,0.0152,0.01941,0.014,0.01407,0.01601,0.0054,0.00805,0.0078,0.00831,0.0081,0.00677,0.00994,0.01865,0.01168,0.01283,0.01053,0.00742,0.01254,0.00659,0.00488,0.00862,0.0071,0.01172,0.01161,0.00672,0.0075,0.00574,0.00587,0.00602,0.00535,0.02228,0.02478,0.03476,0.06433,0.02716,0.05563,0.00315,0.00229,0.00349,0.00204,0.00346,0.00225,0.01351,0.01112,0.01105,0.01506,0.00964,0.00905,0.01211,0.00642,0.00731,0.00472,0.00381,0.00723,0.00628,0.01218,0.01517,0.01209,0.01242,0.00883,0.01104,0.00641,0.00349,0.00808,0.00671,0.00508,0.00504,0.00873,0.00731,0.00658,0.00772,0.00715,0.00542,0.00696,0.01285,0.00546,0.00568,0.00301,0.00506,0.02589,0.02546,0.02987,0.02756,0.03225,0.05401,0.04705,0.01164,0.01179,0.01067,0.01246,0.03351,0.01778,0.00962,0.00896,0.01057,0.01097,0.00873,0.0148,0.00406,0.00456,0.00612,0.00619,0.00605,0.00521],\"xaxis\":\"x\",\"yaxis\":\"y\",\"type\":\"histogram\"},{\"alignmentgroup\":\"True\",\"bingroup\":\"x\",\"hovertemplate\":\"status=0<br>Jitter:DDP=%{x}<br>count=%{y}<extra></extra>\",\"legendgroup\":\"0\",\"marker\":{\"color\":\"#EF553B\",\"pattern\":{\"shape\":\"\"}},\"name\":\"0\",\"offsetgroup\":\"0\",\"orientation\":\"v\",\"showlegend\":true,\"texttemplate\":\"%{value}\",\"x\":[0.00498,0.00402,0.00339,0.00278,0.00283,0.00314,0.00507,0.0047,0.00327,0.0035,0.0038,0.00276,0.00507,0.00373,0.00422,0.00393,0.00411,0.00495,0.00442,0.00461,0.00457,0.00526,0.00342,0.00408,0.00462,0.00519,0.00616,0.0147,0.00949,0.00837,0.00499,0.0051,0.00514,0.00528,0.0048,0.00507,0.00558,0.0078,0.00403,0.00762,0.00345,0.00439,0.01235,0.0079,0.00994,0.01873,0.01109,0.00885],\"xaxis\":\"x\",\"yaxis\":\"y\",\"type\":\"histogram\"}],                        {\"template\":{\"data\":{\"bar\":[{\"error_x\":{\"color\":\"#2a3f5f\"},\"error_y\":{\"color\":\"#2a3f5f\"},\"marker\":{\"line\":{\"color\":\"#E5ECF6\",\"width\":0.5},\"pattern\":{\"fillmode\":\"overlay\",\"size\":10,\"solidity\":0.2}},\"type\":\"bar\"}],\"barpolar\":[{\"marker\":{\"line\":{\"color\":\"#E5ECF6\",\"width\":0.5},\"pattern\":{\"fillmode\":\"overlay\",\"size\":10,\"solidity\":0.2}},\"type\":\"barpolar\"}],\"carpet\":[{\"aaxis\":{\"endlinecolor\":\"#2a3f5f\",\"gridcolor\":\"white\",\"linecolor\":\"white\",\"minorgridcolor\":\"white\",\"startlinecolor\":\"#2a3f5f\"},\"baxis\":{\"endlinecolor\":\"#2a3f5f\",\"gridcolor\":\"white\",\"linecolor\":\"white\",\"minorgridcolor\":\"white\",\"startlinecolor\":\"#2a3f5f\"},\"type\":\"carpet\"}],\"choropleth\":[{\"colorbar\":{\"outlinewidth\":0,\"ticks\":\"\"},\"type\":\"choropleth\"}],\"contour\":[{\"colorbar\":{\"outlinewidth\":0,\"ticks\":\"\"},\"colorscale\":[[0.0,\"#0d0887\"],[0.1111111111111111,\"#46039f\"],[0.2222222222222222,\"#7201a8\"],[0.3333333333333333,\"#9c179e\"],[0.4444444444444444,\"#bd3786\"],[0.5555555555555556,\"#d8576b\"],[0.6666666666666666,\"#ed7953\"],[0.7777777777777778,\"#fb9f3a\"],[0.8888888888888888,\"#fdca26\"],[1.0,\"#f0f921\"]],\"type\":\"contour\"}],\"contourcarpet\":[{\"colorbar\":{\"outlinewidth\":0,\"ticks\":\"\"},\"type\":\"contourcarpet\"}],\"heatmap\":[{\"colorbar\":{\"outlinewidth\":0,\"ticks\":\"\"},\"colorscale\":[[0.0,\"#0d0887\"],[0.1111111111111111,\"#46039f\"],[0.2222222222222222,\"#7201a8\"],[0.3333333333333333,\"#9c179e\"],[0.4444444444444444,\"#bd3786\"],[0.5555555555555556,\"#d8576b\"],[0.6666666666666666,\"#ed7953\"],[0.7777777777777778,\"#fb9f3a\"],[0.8888888888888888,\"#fdca26\"],[1.0,\"#f0f921\"]],\"type\":\"heatmap\"}],\"heatmapgl\":[{\"colorbar\":{\"outlinewidth\":0,\"ticks\":\"\"},\"colorscale\":[[0.0,\"#0d0887\"],[0.1111111111111111,\"#46039f\"],[0.2222222222222222,\"#7201a8\"],[0.3333333333333333,\"#9c179e\"],[0.4444444444444444,\"#bd3786\"],[0.5555555555555556,\"#d8576b\"],[0.6666666666666666,\"#ed7953\"],[0.7777777777777778,\"#fb9f3a\"],[0.8888888888888888,\"#fdca26\"],[1.0,\"#f0f921\"]],\"type\":\"heatmapgl\"}],\"histogram\":[{\"marker\":{\"pattern\":{\"fillmode\":\"overlay\",\"size\":10,\"solidity\":0.2}},\"type\":\"histogram\"}],\"histogram2d\":[{\"colorbar\":{\"outlinewidth\":0,\"ticks\":\"\"},\"colorscale\":[[0.0,\"#0d0887\"],[0.1111111111111111,\"#46039f\"],[0.2222222222222222,\"#7201a8\"],[0.3333333333333333,\"#9c179e\"],[0.4444444444444444,\"#bd3786\"],[0.5555555555555556,\"#d8576b\"],[0.6666666666666666,\"#ed7953\"],[0.7777777777777778,\"#fb9f3a\"],[0.8888888888888888,\"#fdca26\"],[1.0,\"#f0f921\"]],\"type\":\"histogram2d\"}],\"histogram2dcontour\":[{\"colorbar\":{\"outlinewidth\":0,\"ticks\":\"\"},\"colorscale\":[[0.0,\"#0d0887\"],[0.1111111111111111,\"#46039f\"],[0.2222222222222222,\"#7201a8\"],[0.3333333333333333,\"#9c179e\"],[0.4444444444444444,\"#bd3786\"],[0.5555555555555556,\"#d8576b\"],[0.6666666666666666,\"#ed7953\"],[0.7777777777777778,\"#fb9f3a\"],[0.8888888888888888,\"#fdca26\"],[1.0,\"#f0f921\"]],\"type\":\"histogram2dcontour\"}],\"mesh3d\":[{\"colorbar\":{\"outlinewidth\":0,\"ticks\":\"\"},\"type\":\"mesh3d\"}],\"parcoords\":[{\"line\":{\"colorbar\":{\"outlinewidth\":0,\"ticks\":\"\"}},\"type\":\"parcoords\"}],\"pie\":[{\"automargin\":true,\"type\":\"pie\"}],\"scatter\":[{\"marker\":{\"colorbar\":{\"outlinewidth\":0,\"ticks\":\"\"}},\"type\":\"scatter\"}],\"scatter3d\":[{\"line\":{\"colorbar\":{\"outlinewidth\":0,\"ticks\":\"\"}},\"marker\":{\"colorbar\":{\"outlinewidth\":0,\"ticks\":\"\"}},\"type\":\"scatter3d\"}],\"scattercarpet\":[{\"marker\":{\"colorbar\":{\"outlinewidth\":0,\"ticks\":\"\"}},\"type\":\"scattercarpet\"}],\"scattergeo\":[{\"marker\":{\"colorbar\":{\"outlinewidth\":0,\"ticks\":\"\"}},\"type\":\"scattergeo\"}],\"scattergl\":[{\"marker\":{\"colorbar\":{\"outlinewidth\":0,\"ticks\":\"\"}},\"type\":\"scattergl\"}],\"scattermapbox\":[{\"marker\":{\"colorbar\":{\"outlinewidth\":0,\"ticks\":\"\"}},\"type\":\"scattermapbox\"}],\"scatterpolar\":[{\"marker\":{\"colorbar\":{\"outlinewidth\":0,\"ticks\":\"\"}},\"type\":\"scatterpolar\"}],\"scatterpolargl\":[{\"marker\":{\"colorbar\":{\"outlinewidth\":0,\"ticks\":\"\"}},\"type\":\"scatterpolargl\"}],\"scatterternary\":[{\"marker\":{\"colorbar\":{\"outlinewidth\":0,\"ticks\":\"\"}},\"type\":\"scatterternary\"}],\"surface\":[{\"colorbar\":{\"outlinewidth\":0,\"ticks\":\"\"},\"colorscale\":[[0.0,\"#0d0887\"],[0.1111111111111111,\"#46039f\"],[0.2222222222222222,\"#7201a8\"],[0.3333333333333333,\"#9c179e\"],[0.4444444444444444,\"#bd3786\"],[0.5555555555555556,\"#d8576b\"],[0.6666666666666666,\"#ed7953\"],[0.7777777777777778,\"#fb9f3a\"],[0.8888888888888888,\"#fdca26\"],[1.0,\"#f0f921\"]],\"type\":\"surface\"}],\"table\":[{\"cells\":{\"fill\":{\"color\":\"#EBF0F8\"},\"line\":{\"color\":\"white\"}},\"header\":{\"fill\":{\"color\":\"#C8D4E3\"},\"line\":{\"color\":\"white\"}},\"type\":\"table\"}]},\"layout\":{\"annotationdefaults\":{\"arrowcolor\":\"#2a3f5f\",\"arrowhead\":0,\"arrowwidth\":1},\"autotypenumbers\":\"strict\",\"coloraxis\":{\"colorbar\":{\"outlinewidth\":0,\"ticks\":\"\"}},\"colorscale\":{\"diverging\":[[0,\"#8e0152\"],[0.1,\"#c51b7d\"],[0.2,\"#de77ae\"],[0.3,\"#f1b6da\"],[0.4,\"#fde0ef\"],[0.5,\"#f7f7f7\"],[0.6,\"#e6f5d0\"],[0.7,\"#b8e186\"],[0.8,\"#7fbc41\"],[0.9,\"#4d9221\"],[1,\"#276419\"]],\"sequential\":[[0.0,\"#0d0887\"],[0.1111111111111111,\"#46039f\"],[0.2222222222222222,\"#7201a8\"],[0.3333333333333333,\"#9c179e\"],[0.4444444444444444,\"#bd3786\"],[0.5555555555555556,\"#d8576b\"],[0.6666666666666666,\"#ed7953\"],[0.7777777777777778,\"#fb9f3a\"],[0.8888888888888888,\"#fdca26\"],[1.0,\"#f0f921\"]],\"sequentialminus\":[[0.0,\"#0d0887\"],[0.1111111111111111,\"#46039f\"],[0.2222222222222222,\"#7201a8\"],[0.3333333333333333,\"#9c179e\"],[0.4444444444444444,\"#bd3786\"],[0.5555555555555556,\"#d8576b\"],[0.6666666666666666,\"#ed7953\"],[0.7777777777777778,\"#fb9f3a\"],[0.8888888888888888,\"#fdca26\"],[1.0,\"#f0f921\"]]},\"colorway\":[\"#636efa\",\"#EF553B\",\"#00cc96\",\"#ab63fa\",\"#FFA15A\",\"#19d3f3\",\"#FF6692\",\"#B6E880\",\"#FF97FF\",\"#FECB52\"],\"font\":{\"color\":\"#2a3f5f\"},\"geo\":{\"bgcolor\":\"white\",\"lakecolor\":\"white\",\"landcolor\":\"#E5ECF6\",\"showlakes\":true,\"showland\":true,\"subunitcolor\":\"white\"},\"hoverlabel\":{\"align\":\"left\"},\"hovermode\":\"closest\",\"mapbox\":{\"style\":\"light\"},\"paper_bgcolor\":\"white\",\"plot_bgcolor\":\"#E5ECF6\",\"polar\":{\"angularaxis\":{\"gridcolor\":\"white\",\"linecolor\":\"white\",\"ticks\":\"\"},\"bgcolor\":\"#E5ECF6\",\"radialaxis\":{\"gridcolor\":\"white\",\"linecolor\":\"white\",\"ticks\":\"\"}},\"scene\":{\"xaxis\":{\"backgroundcolor\":\"#E5ECF6\",\"gridcolor\":\"white\",\"gridwidth\":2,\"linecolor\":\"white\",\"showbackground\":true,\"ticks\":\"\",\"zerolinecolor\":\"white\"},\"yaxis\":{\"backgroundcolor\":\"#E5ECF6\",\"gridcolor\":\"white\",\"gridwidth\":2,\"linecolor\":\"white\",\"showbackground\":true,\"ticks\":\"\",\"zerolinecolor\":\"white\"},\"zaxis\":{\"backgroundcolor\":\"#E5ECF6\",\"gridcolor\":\"white\",\"gridwidth\":2,\"linecolor\":\"white\",\"showbackground\":true,\"ticks\":\"\",\"zerolinecolor\":\"white\"}},\"shapedefaults\":{\"line\":{\"color\":\"#2a3f5f\"}},\"ternary\":{\"aaxis\":{\"gridcolor\":\"white\",\"linecolor\":\"white\",\"ticks\":\"\"},\"baxis\":{\"gridcolor\":\"white\",\"linecolor\":\"white\",\"ticks\":\"\"},\"bgcolor\":\"#E5ECF6\",\"caxis\":{\"gridcolor\":\"white\",\"linecolor\":\"white\",\"ticks\":\"\"}},\"title\":{\"x\":0.05},\"xaxis\":{\"automargin\":true,\"gridcolor\":\"white\",\"linecolor\":\"white\",\"ticks\":\"\",\"title\":{\"standoff\":15},\"zerolinecolor\":\"white\",\"zerolinewidth\":2},\"yaxis\":{\"automargin\":true,\"gridcolor\":\"white\",\"linecolor\":\"white\",\"ticks\":\"\",\"title\":{\"standoff\":15},\"zerolinecolor\":\"white\",\"zerolinewidth\":2}}},\"xaxis\":{\"anchor\":\"y\",\"domain\":[0.0,1.0],\"title\":{\"text\":\"Jitter:DDP\"}},\"yaxis\":{\"anchor\":\"x\",\"domain\":[0.0,1.0],\"title\":{\"text\":\"count\"}},\"legend\":{\"title\":{\"text\":\"status\"},\"tracegroupgap\":0},\"title\":{\"text\":\"'Jitter:DDP' frequency distribution\"},\"barmode\":\"group\"},                        {\"responsive\": true}                    ).then(function(){\n",
              "                            \n",
              "var gd = document.getElementById('34648e6a-54ed-45e9-8732-ac6107266d71');\n",
              "var x = new MutationObserver(function (mutations, observer) {{\n",
              "        var display = window.getComputedStyle(gd).display;\n",
              "        if (!display || display === 'none') {{\n",
              "            console.log([gd, 'removed!']);\n",
              "            Plotly.purge(gd);\n",
              "            observer.disconnect();\n",
              "        }}\n",
              "}});\n",
              "\n",
              "// Listen for the removal of the full notebook cells\n",
              "var notebookContainer = gd.closest('#notebook-container');\n",
              "if (notebookContainer) {{\n",
              "    x.observe(notebookContainer, {childList: true});\n",
              "}}\n",
              "\n",
              "// Listen for the clearing of the current output cell\n",
              "var outputEl = gd.closest('.output');\n",
              "if (outputEl) {{\n",
              "    x.observe(outputEl, {childList: true});\n",
              "}}\n",
              "\n",
              "                        })                };                            </script>        </div>\n",
              "</body>\n",
              "</html>"
            ]
          },
          "metadata": {}
        }
      ]
    },
    {
      "cell_type": "code",
      "source": [
        "hov_data = df.columns.to_list()\n",
        "pl.bar(df,x='name',y='MDVP:Shimmer',color='status',hover_data=hov_data,title=\"'MDVP:Shimmer' of each individual with additional data\")"
      ],
      "metadata": {
        "colab": {
          "base_uri": "https://localhost:8080/",
          "height": 542
        },
        "id": "JoRxMKRctVLz",
        "outputId": "1745b20b-adc1-4f61-c2e6-b6204a343219"
      },
      "execution_count": 19,
      "outputs": [
        {
          "output_type": "display_data",
          "data": {
            "text/html": [
              "<html>\n",
              "<head><meta charset=\"utf-8\" /></head>\n",
              "<body>\n",
              "    <div>            <script src=\"https://cdnjs.cloudflare.com/ajax/libs/mathjax/2.7.5/MathJax.js?config=TeX-AMS-MML_SVG\"></script><script type=\"text/javascript\">if (window.MathJax) {MathJax.Hub.Config({SVG: {font: \"STIX-Web\"}});}</script>                <script type=\"text/javascript\">window.PlotlyConfig = {MathJaxConfig: 'local'};</script>\n",
              "        <script src=\"https://cdn.plot.ly/plotly-2.8.3.min.js\"></script>                <div id=\"70c2497c-30e6-4a9d-8777-63db1d63a8d9\" class=\"plotly-graph-div\" style=\"height:525px; width:100%;\"></div>            <script type=\"text/javascript\">                                    window.PLOTLYENV=window.PLOTLYENV || {};                                    if (document.getElementById(\"70c2497c-30e6-4a9d-8777-63db1d63a8d9\")) {                    Plotly.newPlot(                        \"70c2497c-30e6-4a9d-8777-63db1d63a8d9\",                        [{\"alignmentgroup\":\"True\",\"customdata\":[[119.992,157.302,74.997,0.00784,7e-05,0.0037,0.00554,0.01109,0.426,0.02182,0.0313,0.02971,0.06545,0.02211,21.033,1.0,0.414783,0.815285,-4.813031,0.266482,2.301442,0.284654],[122.4,148.65,113.819,0.00968,8e-05,0.00465,0.00696,0.01394,0.626,0.03134,0.04518,0.04368,0.09403,0.01929,19.085,1.0,0.458359,0.819521,-4.075192,0.33559,2.486855,0.368674],[116.682,131.111,111.555,0.0105,9e-05,0.00544,0.00781,0.01633,0.482,0.02757,0.03858,0.0359,0.0827,0.01309,20.651,1.0,0.429895,0.825288,-4.443179,0.311173,2.342259,0.332634],[116.676,137.871,111.366,0.00997,9e-05,0.00502,0.00698,0.01505,0.517,0.02924,0.04005,0.03772,0.08771,0.01353,20.644,1.0,0.434969,0.819235,-4.117501,0.334147,2.405554,0.368975],[116.014,141.781,110.655,0.01284,0.00011,0.00655,0.00908,0.01966,0.584,0.0349,0.04825,0.04465,0.1047,0.01767,19.649,1.0,0.417356,0.823484,-3.747787,0.234513,2.33218,0.410335],[120.552,131.162,113.787,0.00968,8e-05,0.00463,0.0075,0.01388,0.456,0.02328,0.03526,0.03243,0.06985,0.01222,21.378,1.0,0.415564,0.825069,-4.242867,0.299111,2.18756,0.357775],[120.267,137.244,114.82,0.00333,3e-05,0.00155,0.00202,0.00466,0.14,0.00779,0.00937,0.01351,0.02337,0.00607,24.886,1.0,0.59604,0.764112,-5.634322,0.257682,1.854785,0.211756],[107.332,113.84,104.315,0.0029,3e-05,0.00144,0.00182,0.00431,0.134,0.00829,0.00946,0.01256,0.02487,0.00344,26.892,1.0,0.63742,0.763262,-6.167603,0.183721,2.064693,0.163755],[95.73,132.068,91.754,0.00551,6e-05,0.00293,0.00332,0.0088,0.191,0.01073,0.01277,0.01717,0.03218,0.0107,21.812,1.0,0.615551,0.773587,-5.498678,0.327769,2.322511,0.231571],[95.056,120.103,91.226,0.00532,6e-05,0.00268,0.00332,0.00803,0.255,0.01441,0.01725,0.02444,0.04324,0.01022,21.862,1.0,0.547037,0.798463,-5.011879,0.325996,2.432792,0.271362],[88.333,112.24,84.072,0.00505,6e-05,0.00254,0.0033,0.00763,0.197,0.01079,0.01342,0.01892,0.03237,0.01166,21.118,1.0,0.611137,0.776156,-5.24977,0.391002,2.407313,0.24974],[91.904,115.871,86.292,0.0054,6e-05,0.00281,0.00336,0.00844,0.249,0.01424,0.01641,0.02214,0.04272,0.01141,21.414,1.0,0.58339,0.79252,-4.960234,0.363566,2.642476,0.275931],[136.926,159.866,131.276,0.00293,2e-05,0.00118,0.00153,0.00355,0.112,0.00656,0.00717,0.0114,0.01968,0.00581,25.703,1.0,0.4606,0.646846,-6.547148,0.152813,2.041277,0.138512],[139.173,179.139,76.556,0.0039,3e-05,0.00165,0.00208,0.00496,0.154,0.00728,0.00932,0.01797,0.02184,0.01041,24.889,1.0,0.430166,0.665833,-5.660217,0.254989,2.519422,0.199889],[152.845,163.305,75.836,0.00294,2e-05,0.00121,0.00149,0.00364,0.158,0.01064,0.00972,0.01246,0.03191,0.00609,24.922,1.0,0.474791,0.654027,-6.105098,0.203653,2.125618,0.1701],[142.167,217.455,83.159,0.00369,3e-05,0.00157,0.00203,0.00471,0.126,0.00772,0.00888,0.01359,0.02316,0.00839,25.175,1.0,0.565924,0.658245,-5.340115,0.210185,2.205546,0.234589],[144.188,349.259,82.764,0.00544,4e-05,0.00211,0.00292,0.00632,0.192,0.00969,0.012,0.02074,0.02908,0.01859,22.333,1.0,0.56738,0.644692,-5.44004,0.239764,2.264501,0.218164],[168.778,232.181,75.603,0.00718,4e-05,0.00284,0.00387,0.00853,0.348,0.01441,0.01893,0.0343,0.04322,0.02919,20.376,1.0,0.631099,0.605417,-2.93107,0.434326,3.007463,0.430788],[153.046,175.829,68.623,0.00742,5e-05,0.00364,0.00432,0.01092,0.542,0.02471,0.03572,0.05767,0.07413,0.0316,17.28,1.0,0.665318,0.719467,-3.949079,0.35787,3.10901,0.377429],[156.405,189.398,142.822,0.00768,5e-05,0.00372,0.00399,0.01116,0.348,0.01721,0.02374,0.0431,0.05164,0.03365,17.153,1.0,0.649554,0.68608,-4.554466,0.340176,2.856676,0.322111],[153.848,165.738,65.782,0.0084,5e-05,0.00428,0.0045,0.01285,0.328,0.01667,0.02383,0.04055,0.05,0.03871,17.536,1.0,0.660125,0.704087,-4.095442,0.262564,2.73971,0.365391],[153.88,172.86,78.128,0.0048,3e-05,0.00232,0.00267,0.00696,0.37,0.02021,0.02591,0.04525,0.06062,0.01849,19.493,1.0,0.629017,0.698951,-5.18696,0.237622,2.557536,0.259765],[167.93,193.221,79.068,0.00442,3e-05,0.0022,0.00247,0.00661,0.377,0.02228,0.0254,0.04246,0.06685,0.0128,22.468,1.0,0.61906,0.679834,-4.330956,0.262384,2.916777,0.285695],[173.917,192.735,86.18,0.00476,3e-05,0.00221,0.00258,0.00663,0.364,0.02187,0.0247,0.03772,0.06562,0.0184,20.422,1.0,0.537264,0.686894,-5.248776,0.210279,2.547508,0.253556],[163.656,200.841,76.779,0.00742,5e-05,0.0038,0.0039,0.0114,0.164,0.00738,0.00948,0.01497,0.02214,0.01778,23.831,1.0,0.397937,0.732479,-5.557447,0.22089,2.692176,0.215961],[104.4,206.002,77.968,0.00633,6e-05,0.00316,0.00375,0.00948,0.381,0.01732,0.02245,0.0378,0.05197,0.02887,22.066,1.0,0.522746,0.737948,-5.571843,0.236853,2.846369,0.219514],[171.041,208.313,75.501,0.00455,3e-05,0.0025,0.00234,0.0075,0.186,0.00889,0.01169,0.01872,0.02666,0.01095,25.908,1.0,0.418622,0.720916,-6.18359,0.226278,2.589702,0.147403],[146.845,208.701,81.737,0.00496,3e-05,0.0025,0.00275,0.00749,0.198,0.00883,0.01144,0.01826,0.0265,0.01328,25.119,1.0,0.358773,0.726652,-6.27169,0.196102,2.314209,0.162999],[155.358,227.383,80.055,0.0031,2e-05,0.00159,0.00176,0.00476,0.161,0.00769,0.01012,0.01661,0.02307,0.00677,25.97,1.0,0.470478,0.676258,-7.120925,0.279789,2.241742,0.108514],[162.568,198.346,77.63,0.00502,3e-05,0.0028,0.00253,0.00841,0.168,0.00793,0.01057,0.01799,0.0238,0.0117,25.678,1.0,0.427785,0.723797,-6.635729,0.209866,1.957961,0.135242],[197.076,206.896,192.055,0.00289,1e-05,0.00166,0.00168,0.00498,0.097,0.00563,0.0068,0.00802,0.01689,0.00339,26.775,0.0,0.422229,0.741367,-7.3483,0.177551,1.743867,0.085569],[199.228,209.512,192.091,0.00241,1e-05,0.00134,0.00138,0.00402,0.089,0.00504,0.00641,0.00762,0.01513,0.00167,30.94,0.0,0.432439,0.742055,-7.682587,0.173319,2.103106,0.068501],[198.383,215.203,193.104,0.00212,1e-05,0.00113,0.00106,0.00339,0.111,0.0064,0.00825,0.00951,0.01919,0.00119,30.775,0.0,0.465946,0.738703,-7.067931,0.175181,1.512275,0.09632],[202.266,211.604,197.079,0.0018,9e-06,0.00093,0.00107,0.00278,0.085,0.00469,0.00606,0.00719,0.01407,0.00072,32.684,0.0,0.368535,0.742133,-7.695734,0.17854,1.544609,0.056141],[203.184,211.526,196.16,0.00178,9e-06,0.00094,0.00106,0.00283,0.085,0.00468,0.0061,0.00726,0.01403,0.00065,33.047,0.0,0.340068,0.741899,-7.964984,0.163519,1.423287,0.044539],[201.464,210.565,195.708,0.00198,1e-05,0.00105,0.00115,0.00314,0.107,0.00586,0.0076,0.00957,0.01758,0.00135,31.732,0.0,0.344252,0.742737,-7.777685,0.170183,2.447064,0.05761],[177.876,192.921,168.013,0.00411,2e-05,0.00233,0.00241,0.007,0.189,0.01154,0.01347,0.01612,0.03463,0.00586,23.216,1.0,0.360148,0.778834,-6.149653,0.218037,2.477082,0.165827],[176.17,185.604,163.564,0.00369,2e-05,0.00205,0.00218,0.00616,0.168,0.00938,0.0116,0.01491,0.02814,0.0034,24.951,1.0,0.341435,0.783626,-6.006414,0.196371,2.536527,0.173218],[180.198,201.249,175.456,0.00284,2e-05,0.00153,0.00166,0.00459,0.131,0.00726,0.00885,0.0119,0.02177,0.00231,26.738,1.0,0.403884,0.766209,-6.452058,0.212294,2.269398,0.141929],[187.733,202.324,173.015,0.00316,2e-05,0.00168,0.00182,0.00504,0.151,0.00829,0.01003,0.01366,0.02488,0.00265,26.31,1.0,0.396793,0.758324,-6.006647,0.266892,2.382544,0.160691],[186.163,197.724,177.584,0.00298,2e-05,0.00165,0.00175,0.00496,0.135,0.00774,0.00941,0.01233,0.02321,0.00231,26.822,1.0,0.32648,0.765623,-6.647379,0.201095,2.374073,0.130554],[184.055,196.537,166.977,0.00258,1e-05,0.00134,0.00147,0.00403,0.132,0.00742,0.00901,0.01234,0.02226,0.00257,26.453,1.0,0.306443,0.759203,-7.044105,0.063412,2.361532,0.11573],[237.226,247.326,225.227,0.00298,1e-05,0.00169,0.00182,0.00507,0.164,0.01035,0.01024,0.01133,0.03104,0.0074,22.736,0.0,0.305062,0.654172,-7.31055,0.098648,2.416838,0.095032],[241.404,248.834,232.483,0.00281,1e-05,0.00157,0.00173,0.0047,0.154,0.01006,0.01038,0.01251,0.03017,0.00675,23.145,0.0,0.457702,0.634267,-6.793547,0.158266,2.256699,0.117399],[243.439,250.912,232.435,0.0021,9e-06,0.00109,0.00137,0.00327,0.126,0.00777,0.00898,0.01033,0.0233,0.00454,25.368,0.0,0.438296,0.635285,-7.057869,0.091608,2.330716,0.09147],[242.852,255.034,227.911,0.00225,9e-06,0.00117,0.00139,0.0035,0.134,0.00847,0.00879,0.01014,0.02542,0.00476,25.032,0.0,0.431285,0.638928,-6.99582,0.102083,2.3658,0.102706],[245.51,262.09,231.848,0.00235,1e-05,0.00127,0.00148,0.0038,0.141,0.00906,0.00977,0.01149,0.02719,0.00476,24.602,0.0,0.467489,0.631653,-7.156076,0.127642,2.392122,0.097336],[252.455,261.487,182.786,0.00185,7e-06,0.00092,0.00113,0.00276,0.103,0.00614,0.0073,0.0086,0.01841,0.00432,26.805,0.0,0.610367,0.635204,-7.31951,0.200873,2.028612,0.086398],[122.188,128.611,115.765,0.00524,4e-05,0.00169,0.00203,0.00507,0.143,0.00855,0.00776,0.01433,0.02566,0.00839,23.162,0.0,0.579597,0.733659,-6.439398,0.266392,2.079922,0.133867],[122.964,130.049,114.676,0.00428,3e-05,0.00124,0.00155,0.00373,0.154,0.0093,0.00802,0.014,0.02789,0.00462,24.971,0.0,0.538688,0.754073,-6.482096,0.264967,2.054419,0.128872],[124.445,135.069,117.495,0.00431,3e-05,0.00141,0.00167,0.00422,0.197,0.01241,0.01024,0.01685,0.03724,0.00479,25.135,0.0,0.553134,0.775933,-6.650471,0.254498,1.840198,0.103561],[126.344,134.231,112.773,0.00448,4e-05,0.00131,0.00169,0.00393,0.185,0.01143,0.00959,0.01614,0.03429,0.00474,25.03,0.0,0.507504,0.760361,-6.689151,0.291954,2.431854,0.105993],[128.001,138.052,122.08,0.00436,3e-05,0.00137,0.00166,0.00411,0.21,0.01323,0.01072,0.01677,0.03969,0.00481,24.692,0.0,0.459766,0.766204,-7.072419,0.220434,1.972297,0.119308],[129.336,139.867,118.604,0.0049,4e-05,0.00165,0.00183,0.00495,0.228,0.01396,0.01219,0.01947,0.04188,0.00484,25.429,0.0,0.420383,0.785714,-6.836811,0.269866,2.223719,0.147491],[108.807,134.656,102.874,0.00761,7e-05,0.00349,0.00486,0.01046,0.255,0.01483,0.01609,0.02067,0.0445,0.01036,21.028,1.0,0.536009,0.819032,-4.649573,0.205558,1.986899,0.3167],[109.86,126.358,104.437,0.00874,8e-05,0.00398,0.00539,0.01193,0.307,0.01789,0.01992,0.02454,0.05368,0.0118,20.767,1.0,0.558586,0.811843,-4.333543,0.221727,2.014606,0.344834],[110.417,131.067,103.37,0.00784,7e-05,0.00352,0.00514,0.01056,0.334,0.02032,0.02302,0.02802,0.06097,0.00969,21.422,1.0,0.541781,0.821364,-4.438453,0.238298,1.92294,0.335041],[117.274,129.916,110.402,0.00752,6e-05,0.00299,0.00469,0.00898,0.221,0.01189,0.01459,0.01948,0.03568,0.00681,22.817,1.0,0.530529,0.817756,-4.60826,0.290024,2.021591,0.314464],[116.879,131.897,108.153,0.00788,7e-05,0.00334,0.00493,0.01003,0.265,0.01394,0.01625,0.02137,0.04183,0.00786,22.603,1.0,0.540049,0.813432,-4.476755,0.262633,1.827012,0.326197],[114.847,271.314,104.68,0.00867,8e-05,0.00373,0.0052,0.0112,0.35,0.01805,0.01974,0.02519,0.05414,0.01143,21.66,1.0,0.547975,0.817396,-4.609161,0.221711,1.831691,0.316395],[209.144,237.494,109.379,0.00282,1e-05,0.00147,0.00152,0.00442,0.17,0.00975,0.01258,0.01382,0.02925,0.00871,25.554,0.0,0.341788,0.678874,-7.040508,0.066994,2.460791,0.101516],[223.365,238.987,98.664,0.00264,1e-05,0.00154,0.00151,0.00461,0.165,0.01013,0.01296,0.0134,0.03039,0.00301,26.138,0.0,0.447979,0.686264,-7.293801,0.086372,2.32156,0.098555],[222.236,231.345,205.495,0.00266,1e-05,0.00152,0.00144,0.00457,0.145,0.00867,0.01108,0.012,0.02602,0.0034,25.856,0.0,0.364867,0.694399,-6.966321,0.095882,2.278687,0.103224],[228.832,234.619,223.634,0.00296,1e-05,0.00175,0.00155,0.00526,0.145,0.00882,0.01075,0.01179,0.02647,0.00351,25.964,0.0,0.25657,0.683296,-7.24562,0.018689,2.498224,0.093534],[229.401,252.221,221.156,0.00205,9e-06,0.00114,0.00113,0.00342,0.129,0.00769,0.00957,0.01016,0.02308,0.003,26.415,0.0,0.27685,0.673636,-7.496264,0.056844,2.003032,0.073581],[228.969,239.541,113.201,0.00238,1e-05,0.00136,0.00117,0.00408,0.154,0.00942,0.0116,0.01234,0.02827,0.0042,24.547,0.0,0.305429,0.681811,-7.314237,0.006274,2.118596,0.091546],[140.341,159.774,67.021,0.00817,6e-05,0.0043,0.0044,0.01289,0.313,0.0183,0.0181,0.02428,0.0549,0.02183,19.56,1.0,0.460139,0.720908,-5.409423,0.22685,2.359973,0.226156],[136.969,166.607,66.004,0.00923,7e-05,0.00507,0.00463,0.0152,0.308,0.01638,0.01759,0.02603,0.04914,0.02659,19.979,1.0,0.498133,0.729067,-5.324574,0.20566,2.291558,0.226247],[143.533,162.215,65.809,0.01101,8e-05,0.00647,0.00467,0.01941,0.478,0.03152,0.02422,0.03392,0.09455,0.04882,20.338,1.0,0.513237,0.731444,-5.86975,0.151814,2.118496,0.18558],[148.09,162.824,67.343,0.00762,5e-05,0.00467,0.00354,0.014,0.497,0.03357,0.02494,0.03635,0.1007,0.02431,21.718,1.0,0.487407,0.727313,-6.261141,0.120956,2.137075,0.141958],[142.729,162.408,65.476,0.00831,6e-05,0.00469,0.00419,0.01407,0.365,0.01868,0.01906,0.02949,0.05605,0.02599,20.264,1.0,0.489345,0.730387,-5.720868,0.15883,2.277927,0.180828],[136.358,176.595,65.75,0.00971,7e-05,0.00534,0.00478,0.01601,0.483,0.02749,0.02466,0.03736,0.08247,0.03361,18.57,1.0,0.543299,0.733232,-5.207985,0.224852,2.642276,0.242981],[120.08,139.71,111.208,0.00405,3e-05,0.0018,0.0022,0.0054,0.152,0.00974,0.00925,0.01345,0.02921,0.00442,25.742,1.0,0.495954,0.762959,-5.79182,0.329066,2.205024,0.18818],[112.014,588.518,107.024,0.00533,5e-05,0.00268,0.00329,0.00805,0.226,0.01373,0.01375,0.01956,0.0412,0.00623,24.178,1.0,0.509127,0.789532,-5.389129,0.306636,1.928708,0.225461],[110.793,128.101,107.316,0.00494,4e-05,0.0026,0.00283,0.0078,0.216,0.01432,0.01325,0.01831,0.04295,0.00479,25.438,1.0,0.437031,0.815908,-5.31336,0.201861,2.225815,0.244512],[110.707,122.611,105.007,0.00516,5e-05,0.00277,0.00289,0.00831,0.206,0.01284,0.01219,0.01715,0.03851,0.00472,25.197,1.0,0.463514,0.807217,-5.477592,0.315074,1.862092,0.228624],[112.876,148.826,106.981,0.005,4e-05,0.0027,0.00289,0.0081,0.35,0.02413,0.02231,0.02704,0.07238,0.00905,23.37,1.0,0.489538,0.789977,-5.775966,0.341169,2.007923,0.193918],[110.568,125.394,106.821,0.00462,4e-05,0.00226,0.0028,0.00677,0.197,0.01284,0.01199,0.01636,0.03852,0.0042,25.82,1.0,0.429484,0.81634,-5.391029,0.250572,1.777901,0.232744],[95.385,102.145,90.264,0.00608,6e-05,0.00331,0.00332,0.00994,0.263,0.01803,0.01886,0.02455,0.05408,0.01062,21.875,1.0,0.644954,0.779612,-5.115212,0.249494,2.017753,0.260015],[100.77,115.697,85.545,0.01038,0.0001,0.00622,0.00576,0.01865,0.361,0.01773,0.01783,0.02139,0.0532,0.0222,19.2,1.0,0.594387,0.790117,-4.913885,0.265699,2.398422,0.277948],[96.106,108.664,84.51,0.00694,7e-05,0.00389,0.00415,0.01168,0.364,0.02266,0.02451,0.02876,0.06799,0.01823,19.055,1.0,0.544805,0.770466,-4.441519,0.155097,2.645959,0.327978],[95.605,107.715,87.549,0.00702,7e-05,0.00428,0.00371,0.01283,0.296,0.01792,0.01841,0.0219,0.05377,0.01825,19.659,1.0,0.576084,0.778747,-5.132032,0.210458,2.232576,0.260633],[100.96,110.019,95.628,0.00606,6e-05,0.00351,0.00348,0.01053,0.216,0.01371,0.01421,0.01751,0.04114,0.01237,20.536,1.0,0.55461,0.787896,-5.022288,0.146948,2.428306,0.264666],[98.804,102.305,87.804,0.00432,4e-05,0.00247,0.00258,0.00742,0.202,0.01277,0.01343,0.01552,0.03831,0.00882,22.244,1.0,0.576644,0.772416,-6.025367,0.078202,2.053601,0.177275],[176.858,205.56,75.344,0.00747,4e-05,0.00418,0.0042,0.01254,0.435,0.02679,0.03022,0.0351,0.08037,0.0547,13.893,1.0,0.556494,0.729586,-5.288912,0.343073,3.099301,0.242119],[180.978,200.125,155.495,0.00406,2e-05,0.0022,0.00244,0.00659,0.331,0.02107,0.02493,0.02877,0.06321,0.02782,16.176,1.0,0.583574,0.727747,-5.657899,0.315903,3.098256,0.200423],[178.222,202.45,141.047,0.00321,2e-05,0.00163,0.00194,0.00488,0.327,0.02073,0.02415,0.02784,0.06219,0.03151,15.924,1.0,0.598714,0.712199,-6.366916,0.335753,2.654271,0.144614],[176.281,227.381,125.61,0.0052,3e-05,0.00287,0.00312,0.00862,0.58,0.03671,0.04159,0.04683,0.11012,0.04824,13.922,1.0,0.602874,0.740837,-5.515071,0.299549,3.13655,0.220968],[173.898,211.35,74.677,0.00448,3e-05,0.00237,0.00254,0.0071,0.65,0.03788,0.04254,0.04802,0.11363,0.04214,14.739,1.0,0.599371,0.743937,-5.783272,0.299793,3.007096,0.194052],[179.711,225.93,144.878,0.00709,4e-05,0.00391,0.00419,0.01172,0.442,0.02297,0.02768,0.03455,0.06892,0.07223,11.866,1.0,0.590951,0.745526,-4.379411,0.375531,3.671155,0.332086],[166.605,206.008,78.032,0.00742,4e-05,0.00387,0.00453,0.01161,0.634,0.0365,0.04282,0.05114,0.10949,0.08725,11.744,1.0,0.65341,0.733165,-4.508984,0.389232,3.317586,0.301952],[151.955,163.335,147.226,0.00419,3e-05,0.00224,0.00227,0.00672,0.772,0.04421,0.04962,0.0569,0.13262,0.01658,19.664,1.0,0.501037,0.71436,-6.411497,0.207156,2.344876,0.13412],[148.272,164.989,142.299,0.00459,3e-05,0.0025,0.00256,0.0075,0.383,0.02383,0.02521,0.03051,0.0715,0.01914,18.78,1.0,0.454444,0.734504,-5.952058,0.08784,2.344336,0.186489],[152.125,161.469,76.596,0.00382,3e-05,0.00191,0.00226,0.00574,0.637,0.03341,0.03794,0.04398,0.10024,0.01211,20.969,1.0,0.447456,0.69779,-6.152551,0.17352,2.080121,0.160809],[157.821,172.975,68.401,0.00358,2e-05,0.00196,0.00196,0.00587,0.307,0.02062,0.02321,0.02764,0.06185,0.0085,22.219,1.0,0.50238,0.71217,-6.251425,0.188056,2.143851,0.160812],[157.447,163.267,149.605,0.00369,2e-05,0.00201,0.00197,0.00602,0.283,0.01813,0.01909,0.02571,0.05439,0.01018,21.693,1.0,0.447285,0.705658,-6.247076,0.180528,2.344348,0.164916],[159.116,168.913,144.811,0.00342,2e-05,0.00178,0.00184,0.00535,0.307,0.01806,0.02024,0.02809,0.05417,0.00852,22.663,1.0,0.366329,0.693429,-6.41744,0.194627,2.473239,0.151709],[125.036,143.946,116.187,0.0128,0.0001,0.00743,0.00623,0.02228,0.342,0.02135,0.02174,0.03088,0.06406,0.08151,15.338,1.0,0.629574,0.714485,-4.020042,0.265315,2.671825,0.340623],[125.791,140.557,96.206,0.01378,0.00011,0.00826,0.00655,0.02478,0.422,0.02542,0.0263,0.03908,0.07625,0.10323,15.433,1.0,0.57101,0.690892,-5.159169,0.202146,2.441612,0.260375],[126.512,141.756,99.77,0.01936,0.00015,0.01159,0.0099,0.03476,0.659,0.03611,0.03963,0.05783,0.10833,0.16744,12.435,1.0,0.638545,0.674953,-3.760348,0.242861,2.634633,0.378483],[125.641,141.068,116.346,0.03316,0.00026,0.02144,0.01522,0.06433,0.891,0.05358,0.04791,0.06196,0.16074,0.31482,8.867,1.0,0.671299,0.656846,-3.700544,0.260481,2.991063,0.370961],[128.451,150.449,75.632,0.01551,0.00012,0.00905,0.00909,0.02716,0.584,0.03223,0.03672,0.05174,0.09669,0.11843,15.06,1.0,0.639808,0.643327,-4.20273,0.310163,2.638279,0.356881],[139.224,586.567,66.157,0.03011,0.00022,0.01854,0.01628,0.05563,0.93,0.05551,0.05005,0.06023,0.16654,0.2593,10.489,1.0,0.596362,0.641418,-3.269487,0.270641,2.690917,0.444774],[150.258,154.609,75.349,0.00248,2e-05,0.00105,0.00136,0.00315,0.107,0.00522,0.00659,0.01009,0.01567,0.00495,26.759,1.0,0.296888,0.722356,-6.878393,0.089267,2.004055,0.113942],[154.003,160.267,128.621,0.00183,1e-05,0.00076,0.001,0.00229,0.094,0.00469,0.00582,0.00871,0.01406,0.00243,28.409,1.0,0.263654,0.691483,-7.111576,0.14478,2.065477,0.093193],[149.689,160.368,133.608,0.00257,2e-05,0.00116,0.00134,0.00349,0.126,0.0066,0.00818,0.01059,0.01979,0.00578,27.421,1.0,0.365488,0.719974,-6.997403,0.210279,1.994387,0.112878],[155.078,163.736,144.148,0.00168,1e-05,0.00068,0.00092,0.00204,0.097,0.00522,0.00632,0.00928,0.01567,0.00233,29.746,1.0,0.334171,0.67793,-6.981201,0.18455,2.129924,0.106802],[151.884,157.765,133.751,0.00258,2e-05,0.00115,0.00122,0.00346,0.137,0.00633,0.00788,0.01267,0.01898,0.00659,26.833,1.0,0.393563,0.700246,-6.600023,0.249172,2.499148,0.105306],[151.989,157.339,132.857,0.00174,1e-05,0.00075,0.00096,0.00225,0.093,0.00455,0.00576,0.00993,0.01364,0.00238,29.928,1.0,0.311369,0.676066,-6.739151,0.160686,2.296873,0.11513],[193.03,208.9,80.297,0.00766,4e-05,0.0045,0.00389,0.01351,0.275,0.01771,0.01815,0.02084,0.05312,0.00947,21.934,1.0,0.497554,0.740539,-5.845099,0.278679,2.608749,0.185668],[200.714,223.982,89.686,0.00621,3e-05,0.00371,0.00337,0.01112,0.207,0.01192,0.01439,0.01852,0.03576,0.00704,23.239,1.0,0.436084,0.727863,-5.25832,0.256454,2.550961,0.23252],[208.519,220.315,199.02,0.00609,3e-05,0.00368,0.00339,0.01105,0.155,0.00952,0.01058,0.01307,0.02855,0.0083,22.407,1.0,0.338097,0.712466,-6.471427,0.184378,2.502336,0.13639],[204.664,221.3,189.621,0.00841,4e-05,0.00502,0.00485,0.01506,0.21,0.01277,0.01483,0.01767,0.03831,0.01316,21.305,1.0,0.498877,0.722085,-4.876336,0.212054,2.376749,0.268144],[210.141,232.706,185.258,0.00534,3e-05,0.00321,0.0028,0.00964,0.149,0.00861,0.01017,0.01301,0.02583,0.0062,23.671,1.0,0.441097,0.722254,-5.96304,0.250283,2.489191,0.177807],[206.327,226.355,92.02,0.00495,2e-05,0.00302,0.00246,0.00905,0.209,0.01107,0.01284,0.01604,0.0332,0.01048,21.864,1.0,0.331508,0.715121,-6.729713,0.181701,2.938114,0.115515],[151.872,492.892,69.085,0.00856,6e-05,0.00404,0.00385,0.01211,0.235,0.00796,0.00832,0.01271,0.02389,0.06051,23.693,1.0,0.407701,0.662668,-4.673241,0.261549,2.702355,0.274407],[158.219,442.557,71.948,0.00476,3e-05,0.00214,0.00207,0.00642,0.148,0.00606,0.00747,0.01312,0.01818,0.01554,26.356,1.0,0.450798,0.653823,-6.051233,0.27328,2.640798,0.170106],[170.756,450.247,79.032,0.00555,3e-05,0.00244,0.00261,0.00731,0.175,0.00757,0.00971,0.01652,0.0227,0.01802,25.69,1.0,0.486738,0.676023,-4.597834,0.372114,2.975889,0.28278],[178.285,442.824,82.063,0.00462,3e-05,0.00157,0.00194,0.00472,0.129,0.00617,0.00744,0.01151,0.01851,0.00856,25.02,1.0,0.470422,0.655239,-4.913137,0.393056,2.816781,0.251972],[217.116,233.481,93.978,0.00404,2e-05,0.00127,0.00128,0.00381,0.124,0.00679,0.00631,0.01075,0.02038,0.00681,24.581,1.0,0.462516,0.58271,-5.517173,0.389295,2.925862,0.220657],[128.94,479.697,88.251,0.00581,5e-05,0.00241,0.00314,0.00723,0.221,0.00849,0.01117,0.01734,0.02548,0.0235,24.743,1.0,0.487756,0.68413,-6.186128,0.279933,2.68624,0.152428],[176.824,215.293,83.961,0.0046,3e-05,0.00209,0.00221,0.00628,0.117,0.00534,0.0063,0.01104,0.01603,0.01161,27.166,1.0,0.400088,0.656182,-4.711007,0.281618,2.655744,0.234809],[138.19,203.522,83.34,0.00704,5e-05,0.00406,0.00398,0.01218,0.441,0.02587,0.02567,0.0322,0.07761,0.01968,18.305,1.0,0.538016,0.74148,-5.418787,0.160267,2.090438,0.229892],[182.018,197.173,79.187,0.00842,5e-05,0.00506,0.00449,0.01517,0.231,0.01372,0.0158,0.01931,0.04115,0.01813,18.784,1.0,0.589956,0.732903,-5.44514,0.142466,2.174306,0.215558],[156.239,195.107,79.82,0.00694,4e-05,0.00403,0.00395,0.01209,0.224,0.01289,0.0142,0.0172,0.03867,0.0202,19.196,1.0,0.618663,0.728421,-5.944191,0.143359,1.929715,0.181988],[145.174,198.109,80.637,0.00733,5e-05,0.00414,0.00422,0.01242,0.233,0.01235,0.01495,0.01944,0.03706,0.01874,18.857,1.0,0.637518,0.735546,-5.594275,0.12795,1.765957,0.222716],[138.145,197.238,81.114,0.00544,4e-05,0.00294,0.00327,0.00883,0.246,0.01484,0.01805,0.02259,0.04451,0.01794,18.178,1.0,0.623209,0.738245,-5.540351,0.087165,1.821297,0.214075],[166.888,198.966,79.512,0.00638,4e-05,0.00368,0.00351,0.01104,0.257,0.01547,0.01859,0.02301,0.04641,0.01796,18.33,1.0,0.585169,0.736964,-5.825257,0.115697,1.996146,0.196535],[119.031,127.533,109.216,0.0044,4e-05,0.00214,0.00192,0.00641,0.098,0.00538,0.0057,0.00811,0.01614,0.01724,26.842,1.0,0.457541,0.699787,-6.890021,0.152941,2.328513,0.112856],[120.078,126.632,105.667,0.0027,2e-05,0.00116,0.00135,0.00349,0.09,0.00476,0.00588,0.00903,0.01428,0.00487,26.369,1.0,0.491345,0.718839,-5.892061,0.195976,2.108873,0.183572],[120.289,128.143,100.209,0.00492,4e-05,0.00269,0.00238,0.00808,0.125,0.00703,0.0082,0.01194,0.0211,0.0161,23.949,1.0,0.46716,0.724045,-6.135296,0.20363,2.539724,0.169923],[120.256,125.306,104.773,0.00407,3e-05,0.00224,0.00205,0.00671,0.138,0.00721,0.00815,0.0131,0.02164,0.01015,26.017,1.0,0.468621,0.735136,-6.112667,0.217013,2.527742,0.170633],[119.056,125.213,86.795,0.00346,3e-05,0.00169,0.0017,0.00508,0.106,0.00633,0.00701,0.00915,0.01898,0.00903,23.389,1.0,0.470972,0.721308,-5.436135,0.254909,2.51632,0.232209],[118.747,123.723,109.836,0.00331,3e-05,0.00168,0.00171,0.00504,0.099,0.0049,0.00621,0.00903,0.01471,0.00504,25.619,1.0,0.482296,0.723096,-6.448134,0.178713,2.034827,0.141422],[106.516,112.777,93.105,0.00589,6e-05,0.00291,0.00319,0.00873,0.441,0.02683,0.03112,0.03651,0.0805,0.03031,17.06,1.0,0.637814,0.744064,-5.301321,0.320385,2.375138,0.24308],[110.453,127.611,105.554,0.00494,4e-05,0.00244,0.00315,0.00731,0.379,0.02229,0.02592,0.03316,0.06688,0.02529,17.707,1.0,0.653427,0.706687,-5.333619,0.322044,2.631793,0.228319],[113.4,133.344,107.816,0.00451,4e-05,0.00219,0.00283,0.00658,0.431,0.02385,0.02973,0.0437,0.07154,0.02278,19.013,1.0,0.6479,0.708144,-4.378916,0.300067,2.445502,0.259451],[113.166,130.27,100.673,0.00502,4e-05,0.00257,0.00312,0.00772,0.476,0.02896,0.03347,0.04134,0.08689,0.0369,16.747,1.0,0.625362,0.708617,-4.654894,0.304107,2.672362,0.274387],[112.239,126.609,104.095,0.00472,4e-05,0.00238,0.0029,0.00715,0.517,0.0307,0.0353,0.04451,0.09211,0.02629,17.366,1.0,0.640945,0.701404,-5.634576,0.306014,2.419253,0.209191],[116.15,131.731,109.815,0.00381,3e-05,0.00181,0.00232,0.00542,0.267,0.01514,0.01812,0.0277,0.04543,0.01827,18.801,1.0,0.624811,0.696049,-5.866357,0.23307,2.445646,0.184985],[170.368,268.796,79.543,0.00571,3e-05,0.00232,0.00269,0.00696,0.281,0.01713,0.01964,0.02824,0.05139,0.02485,18.54,1.0,0.677131,0.685057,-4.796845,0.397749,2.963799,0.277227],[208.083,253.792,91.802,0.00757,4e-05,0.00428,0.00428,0.01285,0.571,0.04016,0.04003,0.04464,0.12047,0.04238,15.648,1.0,0.606344,0.665945,-5.410336,0.288917,2.665133,0.231723],[198.458,219.29,148.691,0.00376,2e-05,0.00182,0.00215,0.00546,0.297,0.02055,0.02076,0.0253,0.06165,0.01728,18.702,1.0,0.606273,0.661735,-5.585259,0.310746,2.465528,0.209863],[202.805,231.508,86.232,0.0037,2e-05,0.00189,0.00211,0.00568,0.18,0.01117,0.01177,0.01506,0.0335,0.0201,18.687,1.0,0.536102,0.632631,-5.898673,0.213353,2.470746,0.189032],[202.544,241.35,164.168,0.00254,1e-05,0.001,0.00133,0.00301,0.228,0.01475,0.01558,0.02006,0.04426,0.01049,20.68,1.0,0.49748,0.630409,-6.132663,0.220617,2.576563,0.159777],[223.361,263.872,87.638,0.00352,2e-05,0.00169,0.00188,0.00506,0.225,0.01379,0.01478,0.01909,0.04137,0.01493,20.366,1.0,0.566849,0.574282,-5.456811,0.345238,2.840556,0.232861],[169.774,191.759,151.451,0.01568,9e-05,0.00863,0.00946,0.02589,0.821,0.03804,0.05426,0.08808,0.11411,0.0753,12.359,1.0,0.56161,0.793509,-3.297668,0.414758,3.413649,0.457533],[183.52,216.814,161.34,0.01466,8e-05,0.00849,0.00819,0.02546,0.618,0.02865,0.04101,0.06359,0.08595,0.06057,14.367,1.0,0.478024,0.768974,-4.276605,0.355736,3.142364,0.336085],[188.62,216.302,165.982,0.01719,9e-05,0.00996,0.01027,0.02987,0.722,0.03474,0.0458,0.06824,0.10422,0.08069,12.298,1.0,0.55287,0.764036,-3.377325,0.335357,3.274865,0.418646],[202.632,565.74,177.258,0.01627,8e-05,0.00919,0.00963,0.02756,0.833,0.03515,0.04265,0.0646,0.10546,0.07889,14.989,1.0,0.427627,0.775708,-4.892495,0.262281,2.910213,0.270173],[186.695,211.961,149.442,0.01872,0.0001,0.01075,0.01154,0.03225,0.784,0.02699,0.03714,0.06259,0.08096,0.10952,12.529,1.0,0.507826,0.762726,-4.484303,0.340256,2.958815,0.301487],[192.818,224.429,168.793,0.03107,0.00016,0.018,0.01958,0.05401,1.302,0.05647,0.0794,0.13778,0.16942,0.21713,8.441,1.0,0.625866,0.76832,-2.434031,0.450493,3.079221,0.527367],[198.116,233.099,174.478,0.02714,0.00014,0.01568,0.01699,0.04705,1.018,0.04284,0.05556,0.08318,0.12851,0.16265,9.449,1.0,0.584164,0.754449,-2.839756,0.356224,3.184027,0.454721],[121.345,139.644,98.25,0.00684,6e-05,0.00388,0.00332,0.01164,0.241,0.0134,0.01399,0.02056,0.04019,0.04179,21.52,1.0,0.566867,0.670475,-4.865194,0.246404,2.01353,0.168581],[119.1,128.442,88.833,0.00692,6e-05,0.00393,0.003,0.01179,0.236,0.01484,0.01405,0.02018,0.04451,0.04611,21.824,1.0,0.65168,0.659333,-4.239028,0.175691,2.45113,0.247455],[117.87,127.349,95.654,0.00647,5e-05,0.00356,0.003,0.01067,0.276,0.01659,0.01804,0.02402,0.04977,0.02631,22.431,1.0,0.6283,0.652025,-3.583722,0.207914,2.439597,0.206256],[122.336,142.369,94.794,0.00727,6e-05,0.00415,0.00339,0.01246,0.223,0.01205,0.01289,0.01771,0.03615,0.03191,22.953,1.0,0.611679,0.623731,-5.4351,0.230532,2.699645,0.220546],[117.963,134.209,100.757,0.01813,0.00015,0.01117,0.00718,0.03351,0.438,0.0261,0.02161,0.02916,0.0783,0.10748,19.075,1.0,0.630547,0.646786,-3.444478,0.303214,2.964568,0.261305],[126.144,154.284,97.543,0.00975,8e-05,0.00593,0.00454,0.01778,0.266,0.015,0.01581,0.02157,0.04499,0.03828,21.534,1.0,0.635015,0.627337,-5.070096,0.280091,2.8923,0.249703],[127.93,138.752,112.173,0.00605,5e-05,0.00321,0.00318,0.00962,0.339,0.0136,0.0165,0.03105,0.04079,0.02663,19.651,1.0,0.654945,0.675865,-5.498456,0.234196,2.103014,0.216638],[114.238,124.393,77.022,0.00581,5e-05,0.00299,0.00316,0.00896,0.406,0.01579,0.01994,0.04114,0.04736,0.02073,20.437,1.0,0.653139,0.694571,-5.185987,0.259229,2.151121,0.244948],[115.322,135.738,107.802,0.00619,5e-05,0.00352,0.00329,0.01057,0.325,0.01644,0.01722,0.02931,0.04933,0.0281,19.388,1.0,0.577802,0.684373,-5.283009,0.226528,2.442906,0.238281],[114.554,126.778,91.121,0.00651,6e-05,0.00366,0.0034,0.01097,0.369,0.01864,0.0194,0.03091,0.05592,0.02707,18.954,1.0,0.685151,0.719576,-5.529833,0.24275,2.408689,0.22052],[112.15,131.669,97.527,0.00519,5e-05,0.00291,0.00284,0.00873,0.155,0.00967,0.01033,0.01363,0.02902,0.01435,21.219,1.0,0.557045,0.673086,-5.617124,0.184896,1.871871,0.212386],[102.273,142.83,85.902,0.00907,9e-05,0.00493,0.00461,0.0148,0.272,0.01579,0.01553,0.02073,0.04736,0.03882,18.447,1.0,0.671378,0.674562,-2.929379,0.396746,2.560422,0.367233],[236.2,244.663,102.137,0.00277,1e-05,0.00154,0.00153,0.00462,0.217,0.0141,0.01426,0.01621,0.04231,0.0062,24.078,0.0,0.469928,0.628232,-6.816086,0.17227,2.235197,0.119652],[237.323,243.709,229.256,0.00303,1e-05,0.00173,0.00159,0.00519,0.116,0.00696,0.00747,0.00882,0.02089,0.00533,24.679,0.0,0.384868,0.62671,-7.018057,0.176316,1.852402,0.091604],[260.105,264.919,237.303,0.00339,1e-05,0.00205,0.00186,0.00616,0.197,0.01186,0.0123,0.01367,0.03557,0.0091,21.083,0.0,0.440988,0.628058,-7.517934,0.160414,1.881767,0.075587],[197.569,217.627,90.794,0.00803,4e-05,0.0049,0.00448,0.0147,0.189,0.01279,0.01272,0.01439,0.03836,0.01337,19.269,0.0,0.372222,0.725216,-5.736781,0.164529,2.88245,0.202879],[240.301,245.135,219.783,0.00517,2e-05,0.00316,0.00283,0.00949,0.212,0.01176,0.01191,0.01344,0.03529,0.00965,21.02,0.0,0.371837,0.646167,-7.169701,0.073298,2.266432,0.100881],[244.99,272.21,239.17,0.00451,2e-05,0.00279,0.00237,0.00837,0.181,0.01084,0.01121,0.01255,0.03253,0.01049,21.528,0.0,0.522812,0.646818,-7.3045,0.171088,2.095237,0.09622],[112.547,133.374,105.715,0.00355,3e-05,0.00166,0.0019,0.00499,0.129,0.00664,0.00786,0.0114,0.01992,0.00435,26.436,0.0,0.413295,0.7567,-6.323531,0.218885,2.193412,0.160376],[110.739,113.597,100.139,0.00356,3e-05,0.0017,0.002,0.0051,0.133,0.00754,0.0095,0.01285,0.02261,0.0043,26.55,0.0,0.36909,0.776158,-6.085567,0.192375,1.889002,0.174152],[113.715,116.443,96.913,0.00349,3e-05,0.00171,0.00203,0.00514,0.133,0.00748,0.00905,0.01148,0.02245,0.00478,26.547,0.0,0.380253,0.7667,-5.943501,0.19215,1.852542,0.179677],[117.004,144.466,99.923,0.00353,3e-05,0.00176,0.00218,0.00528,0.145,0.00881,0.01062,0.01318,0.02643,0.0059,25.445,0.0,0.387482,0.756482,-6.012559,0.229298,1.872946,0.163118],[115.38,123.109,108.634,0.00332,3e-05,0.0016,0.00199,0.0048,0.137,0.00812,0.00933,0.01133,0.02436,0.00401,26.005,0.0,0.405991,0.761255,-5.966779,0.197938,1.974857,0.184067],[116.388,129.038,108.97,0.00346,3e-05,0.00169,0.00213,0.00507,0.155,0.00874,0.01021,0.01331,0.02623,0.00415,26.143,0.0,0.361232,0.763242,-6.016891,0.109256,2.004719,0.174429],[151.737,190.204,129.859,0.00314,2e-05,0.00135,0.00162,0.00406,0.132,0.00728,0.00886,0.0123,0.02184,0.0057,24.151,1.0,0.39661,0.745957,-6.486822,0.197919,2.449763,0.132703],[148.79,158.359,138.99,0.00309,2e-05,0.00152,0.00186,0.00456,0.142,0.00839,0.00956,0.01309,0.02518,0.00488,24.412,1.0,0.402591,0.762508,-6.311987,0.182459,2.251553,0.160306],[148.143,155.982,135.041,0.00392,3e-05,0.00204,0.00231,0.00612,0.131,0.00725,0.00876,0.01263,0.02175,0.0054,23.683,1.0,0.398499,0.778349,-5.711205,0.240875,2.845109,0.19273],[150.44,163.441,144.736,0.00396,3e-05,0.00206,0.00233,0.00619,0.237,0.01321,0.01574,0.02148,0.03964,0.00611,23.133,1.0,0.352396,0.75932,-6.261446,0.183218,2.264226,0.144105],[148.462,161.078,141.998,0.00397,3e-05,0.00202,0.00235,0.00605,0.163,0.0095,0.01103,0.01559,0.02849,0.00639,22.866,1.0,0.408598,0.768845,-5.704053,0.216204,2.679185,0.19771],[149.818,163.417,144.786,0.00336,2e-05,0.00174,0.00198,0.00521,0.198,0.01155,0.01341,0.01666,0.03464,0.00595,23.008,1.0,0.329577,0.75718,-6.27717,0.109397,2.209021,0.156368],[117.226,123.925,106.656,0.00417,4e-05,0.00186,0.0027,0.00558,0.171,0.00864,0.01223,0.01949,0.02592,0.00955,23.079,0.0,0.603515,0.669565,-5.61907,0.191576,2.027228,0.215724],[116.848,217.552,99.503,0.00531,5e-05,0.0026,0.00346,0.0078,0.163,0.0081,0.01144,0.01756,0.02429,0.01179,22.085,0.0,0.663842,0.656516,-5.198864,0.206768,2.120412,0.252404],[116.286,177.291,96.983,0.00314,3e-05,0.00134,0.00192,0.00403,0.136,0.00667,0.0099,0.01691,0.02001,0.00737,24.199,0.0,0.598515,0.654331,-5.592584,0.133917,2.058658,0.214346],[116.556,592.03,86.228,0.00496,4e-05,0.00254,0.00263,0.00762,0.154,0.0082,0.00972,0.01491,0.0246,0.01397,23.958,0.0,0.566424,0.667654,-6.431119,0.15331,2.161936,0.120605],[116.342,581.289,94.246,0.00267,2e-05,0.00115,0.00148,0.00345,0.117,0.00631,0.00789,0.01144,0.01892,0.0068,25.023,0.0,0.528485,0.663884,-6.359018,0.116636,2.152083,0.138868],[114.563,119.167,86.647,0.00327,3e-05,0.00146,0.00184,0.00439,0.106,0.00557,0.00721,0.01095,0.01672,0.00703,24.775,0.0,0.555303,0.659132,-6.710219,0.149694,1.91399,0.121777],[201.774,262.707,78.228,0.00694,3e-05,0.00412,0.00396,0.01235,0.255,0.01454,0.01582,0.01758,0.04363,0.04441,19.368,0.0,0.508479,0.683761,-6.934474,0.15989,2.316346,0.112838],[174.188,230.978,94.261,0.00459,3e-05,0.00263,0.00259,0.0079,0.405,0.02336,0.02498,0.02745,0.07008,0.02764,19.517,0.0,0.448439,0.657899,-6.538586,0.121952,2.657476,0.13305],[209.516,253.017,89.488,0.00564,3e-05,0.00331,0.00292,0.00994,0.263,0.01604,0.01657,0.01879,0.04812,0.0181,19.147,0.0,0.431674,0.683244,-6.195325,0.129303,2.784312,0.168895],[174.688,240.005,74.287,0.0136,8e-05,0.00624,0.00564,0.01873,0.256,0.01268,0.01365,0.01667,0.03804,0.10715,17.883,0.0,0.407567,0.655683,-6.787197,0.158453,2.679772,0.131728],[198.764,396.961,74.904,0.0074,4e-05,0.0037,0.0039,0.01109,0.241,0.01265,0.01321,0.01588,0.03794,0.07223,19.02,0.0,0.451221,0.643956,-6.744577,0.207454,2.138608,0.123306],[214.289,260.277,77.973,0.00567,3e-05,0.00295,0.00317,0.00885,0.19,0.01026,0.01161,0.01373,0.03078,0.04398,21.209,0.0,0.462803,0.664357,-5.724056,0.190667,2.555477,0.148569]],\"hovertemplate\":\"name=%{x}<br>MDVP:Shimmer=%{y}<br>MDVP:Fo(Hz)=%{customdata[0]}<br>MDVP:Fhi(Hz)=%{customdata[1]}<br>MDVP:Flo(Hz)=%{customdata[2]}<br>MDVP:Jitter(%)=%{customdata[3]}<br>MDVP:Jitter(Abs)=%{customdata[4]}<br>MDVP:RAP=%{customdata[5]}<br>MDVP:PPQ=%{customdata[6]}<br>Jitter:DDP=%{customdata[7]}<br>MDVP:Shimmer(dB)=%{customdata[8]}<br>Shimmer:APQ3=%{customdata[9]}<br>Shimmer:APQ5=%{customdata[10]}<br>MDVP:APQ=%{customdata[11]}<br>Shimmer:DDA=%{customdata[12]}<br>NHR=%{customdata[13]}<br>HNR=%{customdata[14]}<br>status=%{marker.color}<br>RPDE=%{customdata[16]}<br>DFA=%{customdata[17]}<br>spread1=%{customdata[18]}<br>spread2=%{customdata[19]}<br>D2=%{customdata[20]}<br>PPE=%{customdata[21]}<extra></extra>\",\"legendgroup\":\"\",\"marker\":{\"color\":[1,1,1,1,1,1,1,1,1,1,1,1,1,1,1,1,1,1,1,1,1,1,1,1,1,1,1,1,1,1,0,0,0,0,0,0,1,1,1,1,1,1,0,0,0,0,0,0,0,0,0,0,0,0,1,1,1,1,1,1,0,0,0,0,0,0,1,1,1,1,1,1,1,1,1,1,1,1,1,1,1,1,1,1,1,1,1,1,1,1,1,1,1,1,1,1,1,1,1,1,1,1,1,1,1,1,1,1,1,1,1,1,1,1,1,1,1,1,1,1,1,1,1,1,1,1,1,1,1,1,1,1,1,1,1,1,1,1,1,1,1,1,1,1,1,1,1,1,1,1,1,1,1,1,1,1,1,1,1,1,1,1,1,1,1,0,0,0,0,0,0,0,0,0,0,0,0,1,1,1,1,1,1,0,0,0,0,0,0,0,0,0,0,0,0],\"coloraxis\":\"coloraxis\",\"pattern\":{\"shape\":\"\"}},\"name\":\"\",\"offsetgroup\":\"\",\"orientation\":\"v\",\"showlegend\":false,\"textposition\":\"auto\",\"x\":[\"phon_R01_S01_1\",\"phon_R01_S01_2\",\"phon_R01_S01_3\",\"phon_R01_S01_4\",\"phon_R01_S01_5\",\"phon_R01_S01_6\",\"phon_R01_S02_1\",\"phon_R01_S02_2\",\"phon_R01_S02_3\",\"phon_R01_S02_4\",\"phon_R01_S02_5\",\"phon_R01_S02_6\",\"phon_R01_S04_1\",\"phon_R01_S04_2\",\"phon_R01_S04_3\",\"phon_R01_S04_4\",\"phon_R01_S04_5\",\"phon_R01_S04_6\",\"phon_R01_S05_1\",\"phon_R01_S05_2\",\"phon_R01_S05_3\",\"phon_R01_S05_4\",\"phon_R01_S05_5\",\"phon_R01_S05_6\",\"phon_R01_S06_1\",\"phon_R01_S06_2\",\"phon_R01_S06_3\",\"phon_R01_S06_4\",\"phon_R01_S06_5\",\"phon_R01_S06_6\",\"phon_R01_S07_1\",\"phon_R01_S07_2\",\"phon_R01_S07_3\",\"phon_R01_S07_4\",\"phon_R01_S07_5\",\"phon_R01_S07_6\",\"phon_R01_S08_1\",\"phon_R01_S08_2\",\"phon_R01_S08_3\",\"phon_R01_S08_4\",\"phon_R01_S08_5\",\"phon_R01_S08_6\",\"phon_R01_S10_1\",\"phon_R01_S10_2\",\"phon_R01_S10_3\",\"phon_R01_S10_4\",\"phon_R01_S10_5\",\"phon_R01_S10_6\",\"phon_R01_S13_1\",\"phon_R01_S13_2\",\"phon_R01_S13_3\",\"phon_R01_S13_4\",\"phon_R01_S13_5\",\"phon_R01_S13_6\",\"phon_R01_S16_1\",\"phon_R01_S16_2\",\"phon_R01_S16_3\",\"phon_R01_S16_4\",\"phon_R01_S16_5\",\"phon_R01_S16_6\",\"phon_R01_S17_1\",\"phon_R01_S17_2\",\"phon_R01_S17_3\",\"phon_R01_S17_4\",\"phon_R01_S17_5\",\"phon_R01_S17_6\",\"phon_R01_S18_1\",\"phon_R01_S18_2\",\"phon_R01_S18_3\",\"phon_R01_S18_4\",\"phon_R01_S18_5\",\"phon_R01_S18_6\",\"phon_R01_S19_1\",\"phon_R01_S19_2\",\"phon_R01_S19_3\",\"phon_R01_S19_4\",\"phon_R01_S19_5\",\"phon_R01_S19_6\",\"phon_R01_S20_1\",\"phon_R01_S20_2\",\"phon_R01_S20_3\",\"phon_R01_S20_4\",\"phon_R01_S20_5\",\"phon_R01_S20_6\",\"phon_R01_S21_1\",\"phon_R01_S21_2\",\"phon_R01_S21_3\",\"phon_R01_S21_4\",\"phon_R01_S21_5\",\"phon_R01_S21_6\",\"phon_R01_S21_7\",\"phon_R01_S22_1\",\"phon_R01_S22_2\",\"phon_R01_S22_3\",\"phon_R01_S22_4\",\"phon_R01_S22_5\",\"phon_R01_S22_6\",\"phon_R01_S24_1\",\"phon_R01_S24_2\",\"phon_R01_S24_3\",\"phon_R01_S24_4\",\"phon_R01_S24_5\",\"phon_R01_S24_6\",\"phon_R01_S25_1\",\"phon_R01_S25_2\",\"phon_R01_S25_3\",\"phon_R01_S25_4\",\"phon_R01_S25_5\",\"phon_R01_S25_6\",\"phon_R01_S26_1\",\"phon_R01_S26_2\",\"phon_R01_S26_3\",\"phon_R01_S26_4\",\"phon_R01_S26_5\",\"phon_R01_S26_6\",\"phon_R01_S27_1\",\"phon_R01_S27_2\",\"phon_R01_S27_3\",\"phon_R01_S27_4\",\"phon_R01_S27_5\",\"phon_R01_S27_6\",\"phon_R01_S27_7\",\"phon_R01_S31_1\",\"phon_R01_S31_2\",\"phon_R01_S31_3\",\"phon_R01_S31_4\",\"phon_R01_S31_5\",\"phon_R01_S31_6\",\"phon_R01_S32_1\",\"phon_R01_S32_2\",\"phon_R01_S32_3\",\"phon_R01_S32_4\",\"phon_R01_S32_5\",\"phon_R01_S32_6\",\"phon_R01_S33_1\",\"phon_R01_S33_2\",\"phon_R01_S33_3\",\"phon_R01_S33_4\",\"phon_R01_S33_5\",\"phon_R01_S33_6\",\"phon_R01_S34_1\",\"phon_R01_S34_2\",\"phon_R01_S34_3\",\"phon_R01_S34_4\",\"phon_R01_S34_5\",\"phon_R01_S34_6\",\"phon_R01_S35_1\",\"phon_R01_S35_2\",\"phon_R01_S35_3\",\"phon_R01_S35_4\",\"phon_R01_S35_5\",\"phon_R01_S35_6\",\"phon_R01_S35_7\",\"phon_R01_S37_1\",\"phon_R01_S37_2\",\"phon_R01_S37_3\",\"phon_R01_S37_4\",\"phon_R01_S37_5\",\"phon_R01_S37_6\",\"phon_R01_S39_1\",\"phon_R01_S39_2\",\"phon_R01_S39_3\",\"phon_R01_S39_4\",\"phon_R01_S39_5\",\"phon_R01_S39_6\",\"phon_R01_S42_1\",\"phon_R01_S42_2\",\"phon_R01_S42_3\",\"phon_R01_S42_4\",\"phon_R01_S42_5\",\"phon_R01_S42_6\",\"phon_R01_S43_1\",\"phon_R01_S43_2\",\"phon_R01_S43_3\",\"phon_R01_S43_4\",\"phon_R01_S43_5\",\"phon_R01_S43_6\",\"phon_R01_S44_1\",\"phon_R01_S44_2\",\"phon_R01_S44_3\",\"phon_R01_S44_4\",\"phon_R01_S44_5\",\"phon_R01_S44_6\",\"phon_R01_S49_1\",\"phon_R01_S49_2\",\"phon_R01_S49_3\",\"phon_R01_S49_4\",\"phon_R01_S49_5\",\"phon_R01_S49_6\",\"phon_R01_S50_1\",\"phon_R01_S50_2\",\"phon_R01_S50_3\",\"phon_R01_S50_4\",\"phon_R01_S50_5\",\"phon_R01_S50_6\"],\"xaxis\":\"x\",\"y\":[0.04374,0.06134,0.05233,0.05492,0.06425,0.04701,0.01608,0.01567,0.02093,0.02838,0.02143,0.02752,0.01259,0.01642,0.01828,0.01503,0.02047,0.03327,0.05517,0.03995,0.0381,0.04137,0.04351,0.04192,0.01659,0.03767,0.01966,0.01919,0.01718,0.01791,0.01098,0.01015,0.01263,0.00954,0.00958,0.01194,0.02126,0.01851,0.01444,0.01663,0.01495,0.01463,0.01752,0.0176,0.01419,0.01494,0.01608,0.01152,0.01613,0.01681,0.02184,0.02033,0.02297,0.02498,0.02719,0.03209,0.03715,0.02293,0.02645,0.03225,0.01861,0.01906,0.01643,0.01644,0.01457,0.01745,0.03198,0.03111,0.05384,0.05428,0.03485,0.04978,0.01706,0.02448,0.02442,0.02215,0.03999,0.02199,0.03202,0.03121,0.04024,0.03156,0.02427,0.02223,0.04795,0.03852,0.03759,0.06511,0.06727,0.04313,0.0664,0.07959,0.0419,0.05925,0.03716,0.03272,0.03381,0.03886,0.04689,0.06734,0.09178,0.0617,0.09419,0.01131,0.0103,0.01346,0.01064,0.0145,0.01024,0.03044,0.02286,0.01761,0.02378,0.0168,0.02105,0.01843,0.01458,0.01725,0.01279,0.01299,0.02008,0.01169,0.04479,0.02503,0.02343,0.02362,0.02791,0.02857,0.01033,0.01022,0.01412,0.01516,0.01201,0.01043,0.04932,0.04128,0.04879,0.05279,0.05643,0.03026,0.03273,0.06725,0.03527,0.01997,0.02662,0.02536,0.08143,0.0605,0.07118,0.0717,0.0583,0.11908,0.08684,0.02534,0.02682,0.03087,0.02293,0.04912,0.02852,0.03235,0.04009,0.03273,0.03658,0.01756,0.02814,0.02448,0.01242,0.0203,0.02177,0.02018,0.01897,0.01358,0.01484,0.01472,0.01657,0.01503,0.01725,0.01469,0.01574,0.0145,0.02551,0.01831,0.02145,0.01909,0.01795,0.01564,0.0166,0.013,0.01185,0.02574,0.04087,0.02751,0.02308,0.02296,0.01884],\"yaxis\":\"y\",\"type\":\"bar\"}],                        {\"template\":{\"data\":{\"bar\":[{\"error_x\":{\"color\":\"#2a3f5f\"},\"error_y\":{\"color\":\"#2a3f5f\"},\"marker\":{\"line\":{\"color\":\"#E5ECF6\",\"width\":0.5},\"pattern\":{\"fillmode\":\"overlay\",\"size\":10,\"solidity\":0.2}},\"type\":\"bar\"}],\"barpolar\":[{\"marker\":{\"line\":{\"color\":\"#E5ECF6\",\"width\":0.5},\"pattern\":{\"fillmode\":\"overlay\",\"size\":10,\"solidity\":0.2}},\"type\":\"barpolar\"}],\"carpet\":[{\"aaxis\":{\"endlinecolor\":\"#2a3f5f\",\"gridcolor\":\"white\",\"linecolor\":\"white\",\"minorgridcolor\":\"white\",\"startlinecolor\":\"#2a3f5f\"},\"baxis\":{\"endlinecolor\":\"#2a3f5f\",\"gridcolor\":\"white\",\"linecolor\":\"white\",\"minorgridcolor\":\"white\",\"startlinecolor\":\"#2a3f5f\"},\"type\":\"carpet\"}],\"choropleth\":[{\"colorbar\":{\"outlinewidth\":0,\"ticks\":\"\"},\"type\":\"choropleth\"}],\"contour\":[{\"colorbar\":{\"outlinewidth\":0,\"ticks\":\"\"},\"colorscale\":[[0.0,\"#0d0887\"],[0.1111111111111111,\"#46039f\"],[0.2222222222222222,\"#7201a8\"],[0.3333333333333333,\"#9c179e\"],[0.4444444444444444,\"#bd3786\"],[0.5555555555555556,\"#d8576b\"],[0.6666666666666666,\"#ed7953\"],[0.7777777777777778,\"#fb9f3a\"],[0.8888888888888888,\"#fdca26\"],[1.0,\"#f0f921\"]],\"type\":\"contour\"}],\"contourcarpet\":[{\"colorbar\":{\"outlinewidth\":0,\"ticks\":\"\"},\"type\":\"contourcarpet\"}],\"heatmap\":[{\"colorbar\":{\"outlinewidth\":0,\"ticks\":\"\"},\"colorscale\":[[0.0,\"#0d0887\"],[0.1111111111111111,\"#46039f\"],[0.2222222222222222,\"#7201a8\"],[0.3333333333333333,\"#9c179e\"],[0.4444444444444444,\"#bd3786\"],[0.5555555555555556,\"#d8576b\"],[0.6666666666666666,\"#ed7953\"],[0.7777777777777778,\"#fb9f3a\"],[0.8888888888888888,\"#fdca26\"],[1.0,\"#f0f921\"]],\"type\":\"heatmap\"}],\"heatmapgl\":[{\"colorbar\":{\"outlinewidth\":0,\"ticks\":\"\"},\"colorscale\":[[0.0,\"#0d0887\"],[0.1111111111111111,\"#46039f\"],[0.2222222222222222,\"#7201a8\"],[0.3333333333333333,\"#9c179e\"],[0.4444444444444444,\"#bd3786\"],[0.5555555555555556,\"#d8576b\"],[0.6666666666666666,\"#ed7953\"],[0.7777777777777778,\"#fb9f3a\"],[0.8888888888888888,\"#fdca26\"],[1.0,\"#f0f921\"]],\"type\":\"heatmapgl\"}],\"histogram\":[{\"marker\":{\"pattern\":{\"fillmode\":\"overlay\",\"size\":10,\"solidity\":0.2}},\"type\":\"histogram\"}],\"histogram2d\":[{\"colorbar\":{\"outlinewidth\":0,\"ticks\":\"\"},\"colorscale\":[[0.0,\"#0d0887\"],[0.1111111111111111,\"#46039f\"],[0.2222222222222222,\"#7201a8\"],[0.3333333333333333,\"#9c179e\"],[0.4444444444444444,\"#bd3786\"],[0.5555555555555556,\"#d8576b\"],[0.6666666666666666,\"#ed7953\"],[0.7777777777777778,\"#fb9f3a\"],[0.8888888888888888,\"#fdca26\"],[1.0,\"#f0f921\"]],\"type\":\"histogram2d\"}],\"histogram2dcontour\":[{\"colorbar\":{\"outlinewidth\":0,\"ticks\":\"\"},\"colorscale\":[[0.0,\"#0d0887\"],[0.1111111111111111,\"#46039f\"],[0.2222222222222222,\"#7201a8\"],[0.3333333333333333,\"#9c179e\"],[0.4444444444444444,\"#bd3786\"],[0.5555555555555556,\"#d8576b\"],[0.6666666666666666,\"#ed7953\"],[0.7777777777777778,\"#fb9f3a\"],[0.8888888888888888,\"#fdca26\"],[1.0,\"#f0f921\"]],\"type\":\"histogram2dcontour\"}],\"mesh3d\":[{\"colorbar\":{\"outlinewidth\":0,\"ticks\":\"\"},\"type\":\"mesh3d\"}],\"parcoords\":[{\"line\":{\"colorbar\":{\"outlinewidth\":0,\"ticks\":\"\"}},\"type\":\"parcoords\"}],\"pie\":[{\"automargin\":true,\"type\":\"pie\"}],\"scatter\":[{\"marker\":{\"colorbar\":{\"outlinewidth\":0,\"ticks\":\"\"}},\"type\":\"scatter\"}],\"scatter3d\":[{\"line\":{\"colorbar\":{\"outlinewidth\":0,\"ticks\":\"\"}},\"marker\":{\"colorbar\":{\"outlinewidth\":0,\"ticks\":\"\"}},\"type\":\"scatter3d\"}],\"scattercarpet\":[{\"marker\":{\"colorbar\":{\"outlinewidth\":0,\"ticks\":\"\"}},\"type\":\"scattercarpet\"}],\"scattergeo\":[{\"marker\":{\"colorbar\":{\"outlinewidth\":0,\"ticks\":\"\"}},\"type\":\"scattergeo\"}],\"scattergl\":[{\"marker\":{\"colorbar\":{\"outlinewidth\":0,\"ticks\":\"\"}},\"type\":\"scattergl\"}],\"scattermapbox\":[{\"marker\":{\"colorbar\":{\"outlinewidth\":0,\"ticks\":\"\"}},\"type\":\"scattermapbox\"}],\"scatterpolar\":[{\"marker\":{\"colorbar\":{\"outlinewidth\":0,\"ticks\":\"\"}},\"type\":\"scatterpolar\"}],\"scatterpolargl\":[{\"marker\":{\"colorbar\":{\"outlinewidth\":0,\"ticks\":\"\"}},\"type\":\"scatterpolargl\"}],\"scatterternary\":[{\"marker\":{\"colorbar\":{\"outlinewidth\":0,\"ticks\":\"\"}},\"type\":\"scatterternary\"}],\"surface\":[{\"colorbar\":{\"outlinewidth\":0,\"ticks\":\"\"},\"colorscale\":[[0.0,\"#0d0887\"],[0.1111111111111111,\"#46039f\"],[0.2222222222222222,\"#7201a8\"],[0.3333333333333333,\"#9c179e\"],[0.4444444444444444,\"#bd3786\"],[0.5555555555555556,\"#d8576b\"],[0.6666666666666666,\"#ed7953\"],[0.7777777777777778,\"#fb9f3a\"],[0.8888888888888888,\"#fdca26\"],[1.0,\"#f0f921\"]],\"type\":\"surface\"}],\"table\":[{\"cells\":{\"fill\":{\"color\":\"#EBF0F8\"},\"line\":{\"color\":\"white\"}},\"header\":{\"fill\":{\"color\":\"#C8D4E3\"},\"line\":{\"color\":\"white\"}},\"type\":\"table\"}]},\"layout\":{\"annotationdefaults\":{\"arrowcolor\":\"#2a3f5f\",\"arrowhead\":0,\"arrowwidth\":1},\"autotypenumbers\":\"strict\",\"coloraxis\":{\"colorbar\":{\"outlinewidth\":0,\"ticks\":\"\"}},\"colorscale\":{\"diverging\":[[0,\"#8e0152\"],[0.1,\"#c51b7d\"],[0.2,\"#de77ae\"],[0.3,\"#f1b6da\"],[0.4,\"#fde0ef\"],[0.5,\"#f7f7f7\"],[0.6,\"#e6f5d0\"],[0.7,\"#b8e186\"],[0.8,\"#7fbc41\"],[0.9,\"#4d9221\"],[1,\"#276419\"]],\"sequential\":[[0.0,\"#0d0887\"],[0.1111111111111111,\"#46039f\"],[0.2222222222222222,\"#7201a8\"],[0.3333333333333333,\"#9c179e\"],[0.4444444444444444,\"#bd3786\"],[0.5555555555555556,\"#d8576b\"],[0.6666666666666666,\"#ed7953\"],[0.7777777777777778,\"#fb9f3a\"],[0.8888888888888888,\"#fdca26\"],[1.0,\"#f0f921\"]],\"sequentialminus\":[[0.0,\"#0d0887\"],[0.1111111111111111,\"#46039f\"],[0.2222222222222222,\"#7201a8\"],[0.3333333333333333,\"#9c179e\"],[0.4444444444444444,\"#bd3786\"],[0.5555555555555556,\"#d8576b\"],[0.6666666666666666,\"#ed7953\"],[0.7777777777777778,\"#fb9f3a\"],[0.8888888888888888,\"#fdca26\"],[1.0,\"#f0f921\"]]},\"colorway\":[\"#636efa\",\"#EF553B\",\"#00cc96\",\"#ab63fa\",\"#FFA15A\",\"#19d3f3\",\"#FF6692\",\"#B6E880\",\"#FF97FF\",\"#FECB52\"],\"font\":{\"color\":\"#2a3f5f\"},\"geo\":{\"bgcolor\":\"white\",\"lakecolor\":\"white\",\"landcolor\":\"#E5ECF6\",\"showlakes\":true,\"showland\":true,\"subunitcolor\":\"white\"},\"hoverlabel\":{\"align\":\"left\"},\"hovermode\":\"closest\",\"mapbox\":{\"style\":\"light\"},\"paper_bgcolor\":\"white\",\"plot_bgcolor\":\"#E5ECF6\",\"polar\":{\"angularaxis\":{\"gridcolor\":\"white\",\"linecolor\":\"white\",\"ticks\":\"\"},\"bgcolor\":\"#E5ECF6\",\"radialaxis\":{\"gridcolor\":\"white\",\"linecolor\":\"white\",\"ticks\":\"\"}},\"scene\":{\"xaxis\":{\"backgroundcolor\":\"#E5ECF6\",\"gridcolor\":\"white\",\"gridwidth\":2,\"linecolor\":\"white\",\"showbackground\":true,\"ticks\":\"\",\"zerolinecolor\":\"white\"},\"yaxis\":{\"backgroundcolor\":\"#E5ECF6\",\"gridcolor\":\"white\",\"gridwidth\":2,\"linecolor\":\"white\",\"showbackground\":true,\"ticks\":\"\",\"zerolinecolor\":\"white\"},\"zaxis\":{\"backgroundcolor\":\"#E5ECF6\",\"gridcolor\":\"white\",\"gridwidth\":2,\"linecolor\":\"white\",\"showbackground\":true,\"ticks\":\"\",\"zerolinecolor\":\"white\"}},\"shapedefaults\":{\"line\":{\"color\":\"#2a3f5f\"}},\"ternary\":{\"aaxis\":{\"gridcolor\":\"white\",\"linecolor\":\"white\",\"ticks\":\"\"},\"baxis\":{\"gridcolor\":\"white\",\"linecolor\":\"white\",\"ticks\":\"\"},\"bgcolor\":\"#E5ECF6\",\"caxis\":{\"gridcolor\":\"white\",\"linecolor\":\"white\",\"ticks\":\"\"}},\"title\":{\"x\":0.05},\"xaxis\":{\"automargin\":true,\"gridcolor\":\"white\",\"linecolor\":\"white\",\"ticks\":\"\",\"title\":{\"standoff\":15},\"zerolinecolor\":\"white\",\"zerolinewidth\":2},\"yaxis\":{\"automargin\":true,\"gridcolor\":\"white\",\"linecolor\":\"white\",\"ticks\":\"\",\"title\":{\"standoff\":15},\"zerolinecolor\":\"white\",\"zerolinewidth\":2}}},\"xaxis\":{\"anchor\":\"y\",\"domain\":[0.0,1.0],\"title\":{\"text\":\"name\"}},\"yaxis\":{\"anchor\":\"x\",\"domain\":[0.0,1.0],\"title\":{\"text\":\"MDVP:Shimmer\"}},\"coloraxis\":{\"colorbar\":{\"title\":{\"text\":\"status\"}},\"colorscale\":[[0.0,\"#0d0887\"],[0.1111111111111111,\"#46039f\"],[0.2222222222222222,\"#7201a8\"],[0.3333333333333333,\"#9c179e\"],[0.4444444444444444,\"#bd3786\"],[0.5555555555555556,\"#d8576b\"],[0.6666666666666666,\"#ed7953\"],[0.7777777777777778,\"#fb9f3a\"],[0.8888888888888888,\"#fdca26\"],[1.0,\"#f0f921\"]]},\"legend\":{\"tracegroupgap\":0},\"title\":{\"text\":\"'MDVP:Shimmer' of each individual with additional data\"},\"barmode\":\"relative\"},                        {\"responsive\": true}                    ).then(function(){\n",
              "                            \n",
              "var gd = document.getElementById('70c2497c-30e6-4a9d-8777-63db1d63a8d9');\n",
              "var x = new MutationObserver(function (mutations, observer) {{\n",
              "        var display = window.getComputedStyle(gd).display;\n",
              "        if (!display || display === 'none') {{\n",
              "            console.log([gd, 'removed!']);\n",
              "            Plotly.purge(gd);\n",
              "            observer.disconnect();\n",
              "        }}\n",
              "}});\n",
              "\n",
              "// Listen for the removal of the full notebook cells\n",
              "var notebookContainer = gd.closest('#notebook-container');\n",
              "if (notebookContainer) {{\n",
              "    x.observe(notebookContainer, {childList: true});\n",
              "}}\n",
              "\n",
              "// Listen for the clearing of the current output cell\n",
              "var outputEl = gd.closest('.output');\n",
              "if (outputEl) {{\n",
              "    x.observe(outputEl, {childList: true});\n",
              "}}\n",
              "\n",
              "                        })                };                            </script>        </div>\n",
              "</body>\n",
              "</html>"
            ]
          },
          "metadata": {}
        }
      ]
    },
    {
      "cell_type": "code",
      "source": [
        "# Featuring Engginering\n",
        "target = df['status']\n",
        "df.drop(['name','status'],axis=1,inplace=True)"
      ],
      "metadata": {
        "id": "Vz858RbstVPI"
      },
      "execution_count": 20,
      "outputs": []
    },
    {
      "cell_type": "code",
      "source": [
        "ms = MinMaxScaler()"
      ],
      "metadata": {
        "id": "soMu5KXptVbW"
      },
      "execution_count": 21,
      "outputs": []
    },
    {
      "cell_type": "code",
      "source": [
        "ms.fit(df)\n",
        "df = ms.transform(df)"
      ],
      "metadata": {
        "id": "QuSZbP43tVen"
      },
      "execution_count": 22,
      "outputs": []
    },
    {
      "cell_type": "code",
      "source": [
        "df = pd.DataFrame(df,columns=ms.feature_names_in_)"
      ],
      "metadata": {
        "id": "jl068yZutVh_"
      },
      "execution_count": 23,
      "outputs": []
    },
    {
      "cell_type": "code",
      "source": [
        "df.describe()"
      ],
      "metadata": {
        "colab": {
          "base_uri": "https://localhost:8080/",
          "height": 394
        },
        "id": "Zh8RWKUxtVlJ",
        "outputId": "55cf0a0a-eca5-4436-ad5e-4e454e7c3d2b"
      },
      "execution_count": 24,
      "outputs": [
        {
          "output_type": "execute_result",
          "data": {
            "text/plain": [
              "       MDVP:Fo(Hz)  MDVP:Fhi(Hz)  MDVP:Flo(Hz)  MDVP:Jitter(%)  \\\n",
              "count   195.000000    195.000000    195.000000      195.000000   \n",
              "mean      0.383623      0.193841      0.292748        0.144233   \n",
              "std       0.240959      0.186761      0.250564        0.154007   \n",
              "min       0.000000      0.000000      0.000000        0.000000   \n",
              "25%       0.170220      0.066786      0.108323        0.056544   \n",
              "50%       0.351961      0.150411      0.223606        0.103558   \n",
              "75%       0.549775      0.249162      0.429160        0.180591   \n",
              "max       1.000000      1.000000      1.000000        1.000000   \n",
              "\n",
              "       MDVP:Jitter(Abs)    MDVP:RAP    MDVP:PPQ  Jitter:DDP  MDVP:Shimmer  \\\n",
              "count        195.000000  195.000000  195.000000  195.000000    195.000000   \n",
              "mean           0.146083    0.126513    0.135246    0.126504      0.184126   \n",
              "std            0.137636    0.142956    0.147970    0.142934      0.172147   \n",
              "min            0.000000    0.000000    0.000000    0.000000      0.000000   \n",
              "25%            0.051383    0.047206    0.050375    0.047279      0.063584   \n",
              "50%            0.090909    0.087669    0.094855    0.087494      0.122604   \n",
              "75%            0.209486    0.151975    0.162647    0.151951      0.258764   \n",
              "max            1.000000    1.000000    1.000000    1.000000      1.000000   \n",
              "\n",
              "       MDVP:Shimmer(dB)  ...    MDVP:APQ  Shimmer:DDA         NHR         HNR  \\\n",
              "count        195.000000  ...  195.000000   195.000000  195.000000  195.000000   \n",
              "mean           0.162080  ...    0.129347     0.214101    0.077019    0.546410   \n",
              "std            0.160129  ...    0.129771     0.195527    0.128652    0.179865   \n",
              "min            0.000000  ...    0.000000     0.000000    0.000000    0.000000   \n",
              "25%            0.052177  ...    0.045103     0.071222    0.016790    0.437170   \n",
              "50%            0.111750  ...    0.084769     0.158685    0.035045    0.554499   \n",
              "75%            0.217749  ...    0.170074     0.302703    0.079543    0.676034   \n",
              "max            1.000000  ...    1.000000     1.000000    1.000000    1.000000   \n",
              "\n",
              "             RPDE         DFA     spread1     spread2          D2         PPE  \n",
              "count  195.000000  195.000000  195.000000  195.000000  195.000000  195.000000  \n",
              "mean     0.564574    0.572963    0.412332    0.495783    0.426421    0.335549  \n",
              "std      0.242525    0.220456    0.197110    0.187758    0.170294    0.186649  \n",
              "min      0.000000    0.000000    0.000000    0.000000    0.000000    0.000000  \n",
              "25%      0.384375    0.400291    0.273893    0.378364    0.300658    0.192433  \n",
              "50%      0.558550    0.589516    0.405738    0.478618    0.417393    0.309661  \n",
              "75%      0.772299    0.747391    0.527720    0.614472    0.539698    0.431709  \n",
              "max      1.000000    1.000000    1.000000    1.000000    1.000000    1.000000  \n",
              "\n",
              "[8 rows x 22 columns]"
            ],
            "text/html": [
              "\n",
              "  <div id=\"df-4534b0e2-446a-4107-9663-167eff349c27\">\n",
              "    <div class=\"colab-df-container\">\n",
              "      <div>\n",
              "<style scoped>\n",
              "    .dataframe tbody tr th:only-of-type {\n",
              "        vertical-align: middle;\n",
              "    }\n",
              "\n",
              "    .dataframe tbody tr th {\n",
              "        vertical-align: top;\n",
              "    }\n",
              "\n",
              "    .dataframe thead th {\n",
              "        text-align: right;\n",
              "    }\n",
              "</style>\n",
              "<table border=\"1\" class=\"dataframe\">\n",
              "  <thead>\n",
              "    <tr style=\"text-align: right;\">\n",
              "      <th></th>\n",
              "      <th>MDVP:Fo(Hz)</th>\n",
              "      <th>MDVP:Fhi(Hz)</th>\n",
              "      <th>MDVP:Flo(Hz)</th>\n",
              "      <th>MDVP:Jitter(%)</th>\n",
              "      <th>MDVP:Jitter(Abs)</th>\n",
              "      <th>MDVP:RAP</th>\n",
              "      <th>MDVP:PPQ</th>\n",
              "      <th>Jitter:DDP</th>\n",
              "      <th>MDVP:Shimmer</th>\n",
              "      <th>MDVP:Shimmer(dB)</th>\n",
              "      <th>...</th>\n",
              "      <th>MDVP:APQ</th>\n",
              "      <th>Shimmer:DDA</th>\n",
              "      <th>NHR</th>\n",
              "      <th>HNR</th>\n",
              "      <th>RPDE</th>\n",
              "      <th>DFA</th>\n",
              "      <th>spread1</th>\n",
              "      <th>spread2</th>\n",
              "      <th>D2</th>\n",
              "      <th>PPE</th>\n",
              "    </tr>\n",
              "  </thead>\n",
              "  <tbody>\n",
              "    <tr>\n",
              "      <th>count</th>\n",
              "      <td>195.000000</td>\n",
              "      <td>195.000000</td>\n",
              "      <td>195.000000</td>\n",
              "      <td>195.000000</td>\n",
              "      <td>195.000000</td>\n",
              "      <td>195.000000</td>\n",
              "      <td>195.000000</td>\n",
              "      <td>195.000000</td>\n",
              "      <td>195.000000</td>\n",
              "      <td>195.000000</td>\n",
              "      <td>...</td>\n",
              "      <td>195.000000</td>\n",
              "      <td>195.000000</td>\n",
              "      <td>195.000000</td>\n",
              "      <td>195.000000</td>\n",
              "      <td>195.000000</td>\n",
              "      <td>195.000000</td>\n",
              "      <td>195.000000</td>\n",
              "      <td>195.000000</td>\n",
              "      <td>195.000000</td>\n",
              "      <td>195.000000</td>\n",
              "    </tr>\n",
              "    <tr>\n",
              "      <th>mean</th>\n",
              "      <td>0.383623</td>\n",
              "      <td>0.193841</td>\n",
              "      <td>0.292748</td>\n",
              "      <td>0.144233</td>\n",
              "      <td>0.146083</td>\n",
              "      <td>0.126513</td>\n",
              "      <td>0.135246</td>\n",
              "      <td>0.126504</td>\n",
              "      <td>0.184126</td>\n",
              "      <td>0.162080</td>\n",
              "      <td>...</td>\n",
              "      <td>0.129347</td>\n",
              "      <td>0.214101</td>\n",
              "      <td>0.077019</td>\n",
              "      <td>0.546410</td>\n",
              "      <td>0.564574</td>\n",
              "      <td>0.572963</td>\n",
              "      <td>0.412332</td>\n",
              "      <td>0.495783</td>\n",
              "      <td>0.426421</td>\n",
              "      <td>0.335549</td>\n",
              "    </tr>\n",
              "    <tr>\n",
              "      <th>std</th>\n",
              "      <td>0.240959</td>\n",
              "      <td>0.186761</td>\n",
              "      <td>0.250564</td>\n",
              "      <td>0.154007</td>\n",
              "      <td>0.137636</td>\n",
              "      <td>0.142956</td>\n",
              "      <td>0.147970</td>\n",
              "      <td>0.142934</td>\n",
              "      <td>0.172147</td>\n",
              "      <td>0.160129</td>\n",
              "      <td>...</td>\n",
              "      <td>0.129771</td>\n",
              "      <td>0.195527</td>\n",
              "      <td>0.128652</td>\n",
              "      <td>0.179865</td>\n",
              "      <td>0.242525</td>\n",
              "      <td>0.220456</td>\n",
              "      <td>0.197110</td>\n",
              "      <td>0.187758</td>\n",
              "      <td>0.170294</td>\n",
              "      <td>0.186649</td>\n",
              "    </tr>\n",
              "    <tr>\n",
              "      <th>min</th>\n",
              "      <td>0.000000</td>\n",
              "      <td>0.000000</td>\n",
              "      <td>0.000000</td>\n",
              "      <td>0.000000</td>\n",
              "      <td>0.000000</td>\n",
              "      <td>0.000000</td>\n",
              "      <td>0.000000</td>\n",
              "      <td>0.000000</td>\n",
              "      <td>0.000000</td>\n",
              "      <td>0.000000</td>\n",
              "      <td>...</td>\n",
              "      <td>0.000000</td>\n",
              "      <td>0.000000</td>\n",
              "      <td>0.000000</td>\n",
              "      <td>0.000000</td>\n",
              "      <td>0.000000</td>\n",
              "      <td>0.000000</td>\n",
              "      <td>0.000000</td>\n",
              "      <td>0.000000</td>\n",
              "      <td>0.000000</td>\n",
              "      <td>0.000000</td>\n",
              "    </tr>\n",
              "    <tr>\n",
              "      <th>25%</th>\n",
              "      <td>0.170220</td>\n",
              "      <td>0.066786</td>\n",
              "      <td>0.108323</td>\n",
              "      <td>0.056544</td>\n",
              "      <td>0.051383</td>\n",
              "      <td>0.047206</td>\n",
              "      <td>0.050375</td>\n",
              "      <td>0.047279</td>\n",
              "      <td>0.063584</td>\n",
              "      <td>0.052177</td>\n",
              "      <td>...</td>\n",
              "      <td>0.045103</td>\n",
              "      <td>0.071222</td>\n",
              "      <td>0.016790</td>\n",
              "      <td>0.437170</td>\n",
              "      <td>0.384375</td>\n",
              "      <td>0.400291</td>\n",
              "      <td>0.273893</td>\n",
              "      <td>0.378364</td>\n",
              "      <td>0.300658</td>\n",
              "      <td>0.192433</td>\n",
              "    </tr>\n",
              "    <tr>\n",
              "      <th>50%</th>\n",
              "      <td>0.351961</td>\n",
              "      <td>0.150411</td>\n",
              "      <td>0.223606</td>\n",
              "      <td>0.103558</td>\n",
              "      <td>0.090909</td>\n",
              "      <td>0.087669</td>\n",
              "      <td>0.094855</td>\n",
              "      <td>0.087494</td>\n",
              "      <td>0.122604</td>\n",
              "      <td>0.111750</td>\n",
              "      <td>...</td>\n",
              "      <td>0.084769</td>\n",
              "      <td>0.158685</td>\n",
              "      <td>0.035045</td>\n",
              "      <td>0.554499</td>\n",
              "      <td>0.558550</td>\n",
              "      <td>0.589516</td>\n",
              "      <td>0.405738</td>\n",
              "      <td>0.478618</td>\n",
              "      <td>0.417393</td>\n",
              "      <td>0.309661</td>\n",
              "    </tr>\n",
              "    <tr>\n",
              "      <th>75%</th>\n",
              "      <td>0.549775</td>\n",
              "      <td>0.249162</td>\n",
              "      <td>0.429160</td>\n",
              "      <td>0.180591</td>\n",
              "      <td>0.209486</td>\n",
              "      <td>0.151975</td>\n",
              "      <td>0.162647</td>\n",
              "      <td>0.151951</td>\n",
              "      <td>0.258764</td>\n",
              "      <td>0.217749</td>\n",
              "      <td>...</td>\n",
              "      <td>0.170074</td>\n",
              "      <td>0.302703</td>\n",
              "      <td>0.079543</td>\n",
              "      <td>0.676034</td>\n",
              "      <td>0.772299</td>\n",
              "      <td>0.747391</td>\n",
              "      <td>0.527720</td>\n",
              "      <td>0.614472</td>\n",
              "      <td>0.539698</td>\n",
              "      <td>0.431709</td>\n",
              "    </tr>\n",
              "    <tr>\n",
              "      <th>max</th>\n",
              "      <td>1.000000</td>\n",
              "      <td>1.000000</td>\n",
              "      <td>1.000000</td>\n",
              "      <td>1.000000</td>\n",
              "      <td>1.000000</td>\n",
              "      <td>1.000000</td>\n",
              "      <td>1.000000</td>\n",
              "      <td>1.000000</td>\n",
              "      <td>1.000000</td>\n",
              "      <td>1.000000</td>\n",
              "      <td>...</td>\n",
              "      <td>1.000000</td>\n",
              "      <td>1.000000</td>\n",
              "      <td>1.000000</td>\n",
              "      <td>1.000000</td>\n",
              "      <td>1.000000</td>\n",
              "      <td>1.000000</td>\n",
              "      <td>1.000000</td>\n",
              "      <td>1.000000</td>\n",
              "      <td>1.000000</td>\n",
              "      <td>1.000000</td>\n",
              "    </tr>\n",
              "  </tbody>\n",
              "</table>\n",
              "<p>8 rows × 22 columns</p>\n",
              "</div>\n",
              "      <button class=\"colab-df-convert\" onclick=\"convertToInteractive('df-4534b0e2-446a-4107-9663-167eff349c27')\"\n",
              "              title=\"Convert this dataframe to an interactive table.\"\n",
              "              style=\"display:none;\">\n",
              "        \n",
              "  <svg xmlns=\"http://www.w3.org/2000/svg\" height=\"24px\"viewBox=\"0 0 24 24\"\n",
              "       width=\"24px\">\n",
              "    <path d=\"M0 0h24v24H0V0z\" fill=\"none\"/>\n",
              "    <path d=\"M18.56 5.44l.94 2.06.94-2.06 2.06-.94-2.06-.94-.94-2.06-.94 2.06-2.06.94zm-11 1L8.5 8.5l.94-2.06 2.06-.94-2.06-.94L8.5 2.5l-.94 2.06-2.06.94zm10 10l.94 2.06.94-2.06 2.06-.94-2.06-.94-.94-2.06-.94 2.06-2.06.94z\"/><path d=\"M17.41 7.96l-1.37-1.37c-.4-.4-.92-.59-1.43-.59-.52 0-1.04.2-1.43.59L10.3 9.45l-7.72 7.72c-.78.78-.78 2.05 0 2.83L4 21.41c.39.39.9.59 1.41.59.51 0 1.02-.2 1.41-.59l7.78-7.78 2.81-2.81c.8-.78.8-2.07 0-2.86zM5.41 20L4 18.59l7.72-7.72 1.47 1.35L5.41 20z\"/>\n",
              "  </svg>\n",
              "      </button>\n",
              "      \n",
              "  <style>\n",
              "    .colab-df-container {\n",
              "      display:flex;\n",
              "      flex-wrap:wrap;\n",
              "      gap: 12px;\n",
              "    }\n",
              "\n",
              "    .colab-df-convert {\n",
              "      background-color: #E8F0FE;\n",
              "      border: none;\n",
              "      border-radius: 50%;\n",
              "      cursor: pointer;\n",
              "      display: none;\n",
              "      fill: #1967D2;\n",
              "      height: 32px;\n",
              "      padding: 0 0 0 0;\n",
              "      width: 32px;\n",
              "    }\n",
              "\n",
              "    .colab-df-convert:hover {\n",
              "      background-color: #E2EBFA;\n",
              "      box-shadow: 0px 1px 2px rgba(60, 64, 67, 0.3), 0px 1px 3px 1px rgba(60, 64, 67, 0.15);\n",
              "      fill: #174EA6;\n",
              "    }\n",
              "\n",
              "    [theme=dark] .colab-df-convert {\n",
              "      background-color: #3B4455;\n",
              "      fill: #D2E3FC;\n",
              "    }\n",
              "\n",
              "    [theme=dark] .colab-df-convert:hover {\n",
              "      background-color: #434B5C;\n",
              "      box-shadow: 0px 1px 3px 1px rgba(0, 0, 0, 0.15);\n",
              "      filter: drop-shadow(0px 1px 2px rgba(0, 0, 0, 0.3));\n",
              "      fill: #FFFFFF;\n",
              "    }\n",
              "  </style>\n",
              "\n",
              "      <script>\n",
              "        const buttonEl =\n",
              "          document.querySelector('#df-4534b0e2-446a-4107-9663-167eff349c27 button.colab-df-convert');\n",
              "        buttonEl.style.display =\n",
              "          google.colab.kernel.accessAllowed ? 'block' : 'none';\n",
              "\n",
              "        async function convertToInteractive(key) {\n",
              "          const element = document.querySelector('#df-4534b0e2-446a-4107-9663-167eff349c27');\n",
              "          const dataTable =\n",
              "            await google.colab.kernel.invokeFunction('convertToInteractive',\n",
              "                                                     [key], {});\n",
              "          if (!dataTable) return;\n",
              "\n",
              "          const docLinkHtml = 'Like what you see? Visit the ' +\n",
              "            '<a target=\"_blank\" href=https://colab.research.google.com/notebooks/data_table.ipynb>data table notebook</a>'\n",
              "            + ' to learn more about interactive tables.';\n",
              "          element.innerHTML = '';\n",
              "          dataTable['output_type'] = 'display_data';\n",
              "          await google.colab.output.renderOutput(dataTable, element);\n",
              "          const docLink = document.createElement('div');\n",
              "          docLink.innerHTML = docLinkHtml;\n",
              "          element.appendChild(docLink);\n",
              "        }\n",
              "      </script>\n",
              "    </div>\n",
              "  </div>\n",
              "  "
            ]
          },
          "metadata": {},
          "execution_count": 24
        }
      ]
    },
    {
      "cell_type": "code",
      "source": [
        "# Feature Selection\n",
        "imports= mutual_info_classif(df,target)\n",
        "fea_imp = pd.Series(imports,df.columns[0:len(df.columns)])\n",
        "fea_imp.sort_values(ascending=False,inplace=True)\n",
        "fea_imp.plot(kind='bar')\n",
        "plt.show()"
      ],
      "metadata": {
        "colab": {
          "base_uri": "https://localhost:8080/",
          "height": 354
        },
        "id": "eGYrtZ0ZtVok",
        "outputId": "6566141c-d2a3-4470-9e69-47685b4a1749"
      },
      "execution_count": 25,
      "outputs": [
        {
          "output_type": "display_data",
          "data": {
            "text/plain": [
              "<Figure size 432x288 with 1 Axes>"
            ],
            "image/png": "[encoded data removed]"
          },
          "metadata": {
            "needs_background": "light"
          }
        }
      ]
    },
    {
      "cell_type": "code",
      "source": [
        "features = fea_imp[:10].index.tolist()\n",
        "X = df[features]"
      ],
      "metadata": {
        "id": "Fcrnv4Z0tVrc"
      },
      "execution_count": 26,
      "outputs": []
    },
    {
      "cell_type": "code",
      "source": [
        "X_train,X_test,y_train,y_test = train_test_split(X,target,\n",
        "                                                 test_size=0.2,\n",
        "                                                 random_state=5)"
      ],
      "metadata": {
        "id": "7t_jjc60tVuX"
      },
      "execution_count": 27,
      "outputs": []
    },
    {
      "cell_type": "code",
      "source": [
        "models = [DecisionTreeClassifier(random_state=5),RandomForestClassifier(random_state=5),LogisticRegression(),GaussianNB(),SVC()]"
      ],
      "metadata": {
        "id": "SVtKFyyKtVxq"
      },
      "execution_count": 28,
      "outputs": []
    },
    {
      "cell_type": "code",
      "source": [
        "for model in models:\n",
        "    model.fit(X_train,y_train)\n",
        "    print('Scores for',model,':\\n')\n",
        "    print('Train:',model.score(X_train,y_train))\n",
        "    print('Test:',model.score(X_test,y_test),'\\n')"
      ],
      "metadata": {
        "colab": {
          "base_uri": "https://localhost:8080/"
        },
        "id": "tPTKkhBItV0X",
        "outputId": "c7047be7-c347-498c-e64b-0fd0e19bd255"
      },
      "execution_count": 29,
      "outputs": [
        {
          "output_type": "stream",
          "name": "stdout",
          "text": [
            "Scores for DecisionTreeClassifier(random_state=5) :\n",
            "\n",
            "Train: 1.0\n",
            "Test: 0.9230769230769231 \n",
            "\n",
            "Scores for RandomForestClassifier(random_state=5) :\n",
            "\n",
            "Train: 1.0\n",
            "Test: 0.8974358974358975 \n",
            "\n",
            "Scores for LogisticRegression() :\n",
            "\n",
            "Train: 0.8782051282051282\n",
            "Test: 0.8205128205128205 \n",
            "\n",
            "Scores for GaussianNB() :\n",
            "\n",
            "Train: 0.7756410256410257\n",
            "Test: 0.7948717948717948 \n",
            "\n",
            "Scores for SVC() :\n",
            "\n",
            "Train: 0.9038461538461539\n",
            "Test: 0.8461538461538461 \n",
            "\n"
          ]
        }
      ]
    },
    {
      "cell_type": "code",
      "source": [
        "# Random Forest Classificer\n",
        "params = {'criterion':['gini','entropy'],\n",
        "         'max_depth':[20,19,18,17,16,15,14,13],\n",
        "         'n_estimators':[100,200,300]}\n"
      ],
      "metadata": {
        "id": "cBmIq7kQusyH"
      },
      "execution_count": 30,
      "outputs": []
    },
    {
      "cell_type": "code",
      "source": [
        "from sklearn.metrics import confusion_matrix,ConfusionMatrixDisplay\n",
        "import warnings\n",
        "warnings.filterwarnings('ignore')\n",
        "%matplotlib inline"
      ],
      "metadata": {
        "id": "qinHYoD5vVzv"
      },
      "execution_count": 31,
      "outputs": []
    },
    {
      "cell_type": "code",
      "source": [
        "grid_cv = GridSearchCV(estimator=RandomForestClassifier(random_state=5),param_grid=params,cv=3,verbose=1)"
      ],
      "metadata": {
        "id": "NylGlxENus2g"
      },
      "execution_count": 32,
      "outputs": []
    },
    {
      "cell_type": "code",
      "source": [
        "grid_cv.fit(X_train,y_train)"
      ],
      "metadata": {
        "colab": {
          "base_uri": "https://localhost:8080/"
        },
        "id": "DntdSO6ous5t",
        "outputId": "c4446a75-8b12-4f9b-e6a0-799baee0bdec"
      },
      "execution_count": 33,
      "outputs": [
        {
          "output_type": "stream",
          "name": "stdout",
          "text": [
            "Fitting 3 folds for each of 48 candidates, totalling 144 fits\n"
          ]
        },
        {
          "output_type": "execute_result",
          "data": {
            "text/plain": [
              "GridSearchCV(cv=3, estimator=RandomForestClassifier(random_state=5),\n",
              "             param_grid={'criterion': ['gini', 'entropy'],\n",
              "                         'max_depth': [20, 19, 18, 17, 16, 15, 14, 13],\n",
              "                         'n_estimators': [100, 200, 300]},\n",
              "             verbose=1)"
            ]
          },
          "metadata": {},
          "execution_count": 33
        }
      ]
    },
    {
      "cell_type": "code",
      "source": [
        "grid_cv.best_params_"
      ],
      "metadata": {
        "id": "fyfFDJP5us8f",
        "colab": {
          "base_uri": "https://localhost:8080/"
        },
        "outputId": "30cbcec2-b630-4126-96bb-fb7f87f608cc"
      },
      "execution_count": 34,
      "outputs": [
        {
          "output_type": "execute_result",
          "data": {
            "text/plain": [
              "{'criterion': 'gini', 'max_depth': 20, 'n_estimators': 200}"
            ]
          },
          "metadata": {},
          "execution_count": 34
        }
      ]
    },
    {
      "cell_type": "code",
      "source": [
        "RF = RandomForestClassifier(n_estimators=300,criterion='entropy',max_depth=20,random_state=5)"
      ],
      "metadata": {
        "id": "R1voQUv2us_2"
      },
      "execution_count": 35,
      "outputs": []
    },
    {
      "cell_type": "code",
      "source": [
        "RF.fit(X_train,y_train)\n",
        "print('Scores:')\n",
        "print('Train:',RF.score(X_train,y_train))\n",
        "print('Test:',RF.score(X_test,y_test))"
      ],
      "metadata": {
        "id": "pZhD9MCBv4n4",
        "colab": {
          "base_uri": "https://localhost:8080/"
        },
        "outputId": "e851b155-87c8-4358-cf91-f2902b601785"
      },
      "execution_count": 36,
      "outputs": [
        {
          "output_type": "stream",
          "name": "stdout",
          "text": [
            "Scores:\n",
            "Train: 1.0\n",
            "Test: 0.9487179487179487\n"
          ]
        }
      ]
    },
    {
      "cell_type": "code",
      "source": [
        "# Decsion Tree Classificer\n",
        "param_grid={\n",
        "    'max_depth':[20,19,18,17,15,14,13,12,11,10],\n",
        "    'max_features':['sqrt','log2']\n",
        "}\n",
        "grid_cv = GridSearchCV(estimator=DecisionTreeClassifier(random_state=5),param_grid=param_grid,cv=5,verbose=1)\n",
        "grid_cv.fit(X_train,y_train)"
      ],
      "metadata": {
        "id": "6oyWFEo-v4vB",
        "colab": {
          "base_uri": "https://localhost:8080/"
        },
        "outputId": "88fd889b-df30-4abf-ff84-d4fef7afddc1"
      },
      "execution_count": 37,
      "outputs": [
        {
          "output_type": "stream",
          "name": "stdout",
          "text": [
            "Fitting 5 folds for each of 20 candidates, totalling 100 fits\n"
          ]
        },
        {
          "output_type": "execute_result",
          "data": {
            "text/plain": [
              "GridSearchCV(cv=5, estimator=DecisionTreeClassifier(random_state=5),\n",
              "             param_grid={'max_depth': [20, 19, 18, 17, 15, 14, 13, 12, 11, 10],\n",
              "                         'max_features': ['sqrt', 'log2']},\n",
              "             verbose=1)"
            ]
          },
          "metadata": {},
          "execution_count": 37
        }
      ]
    },
    {
      "cell_type": "code",
      "source": [
        "grid_cv.best_params_"
      ],
      "metadata": {
        "id": "zDRQjG7zv4y7",
        "colab": {
          "base_uri": "https://localhost:8080/"
        },
        "outputId": "10dfa759-1735-4fc0-d7d9-b8b417c5f6b1"
      },
      "execution_count": 38,
      "outputs": [
        {
          "output_type": "execute_result",
          "data": {
            "text/plain": [
              "{'max_depth': 20, 'max_features': 'sqrt'}"
            ]
          },
          "metadata": {},
          "execution_count": 38
        }
      ]
    },
    {
      "cell_type": "code",
      "source": [
        "DT = DecisionTreeClassifier(max_depth=20,max_features='sqrt',random_state=5)\n",
        "DT.fit(X_train,y_train)\n",
        "print('Scores :\\n')\n",
        "print('Train:',DT.score(X_train,y_train))\n",
        "print('Test: ',DT.score(X_test,y_test))"
      ],
      "metadata": {
        "id": "g8_hwLTXv425",
        "colab": {
          "base_uri": "https://localhost:8080/"
        },
        "outputId": "d0122ae2-763a-4b23-f881-6716a60c3ccc"
      },
      "execution_count": 39,
      "outputs": [
        {
          "output_type": "stream",
          "name": "stdout",
          "text": [
            "Scores :\n",
            "\n",
            "Train: 1.0\n",
            "Test:  0.8974358974358975\n"
          ]
        }
      ]
    },
    {
      "cell_type": "code",
      "source": [
        "# Cofustion Matrix\n",
        "con_mat = confusion_matrix(y_test,RF.predict(X_test))"
      ],
      "metadata": {
        "id": "PyX20630v46I"
      },
      "execution_count": 40,
      "outputs": []
    },
    {
      "cell_type": "code",
      "source": [
        "ConfusionMatrixDisplay(con_mat).plot()\n",
        "plt.show()"
      ],
      "metadata": {
        "id": "ADkpDWi3w9kq",
        "colab": {
          "base_uri": "https://localhost:8080/",
          "height": 279
        },
        "outputId": "82d15970-1fb2-4286-f5da-e6d22a95c647"
      },
      "execution_count": 41,
      "outputs": [
        {
          "output_type": "display_data",
          "data": {
            "text/plain": [
              "<Figure size 432x288 with 2 Axes>"
            ],
            "image/png": "[encoded data removed]"
          },
          "metadata": {
            "needs_background": "light"
          }
        }
      ]
    },
    {
      "cell_type": "code",
      "source": [
        "# Decision Tree using all features\n",
        "X_train,X_test,y_train,y_test = train_test_split(df,target,test_size=0.2,random_state=5)\n",
        "DT = DecisionTreeClassifier(max_depth=20,max_features='sqrt',random_state=5)\n",
        "DT.fit(X_train,y_train)\n",
        "print('Scores:')\n",
        "print('Train:',DT.score(X_train,y_train))\n",
        "print('Test: ',DT.score(X_test,y_test))\n",
        "con_mat = confusion_matrix(y_test,DT.predict(X_test))\n",
        "ConfusionMatrixDisplay(con_mat).plot()"
      ],
      "metadata": {
        "id": "uztL0DwP2poV",
        "colab": {
          "base_uri": "https://localhost:8080/",
          "height": 348
        },
        "outputId": "56b6052a-0c0c-4283-d74f-3bd4aa2811e3"
      },
      "execution_count": 42,
      "outputs": [
        {
          "output_type": "stream",
          "name": "stdout",
          "text": [
            "Scores:\n",
            "Train: 1.0\n",
            "Test:  0.9743589743589743\n"
          ]
        },
        {
          "output_type": "execute_result",
          "data": {
            "text/plain": [
              "<sklearn.metrics._plot.confusion_matrix.ConfusionMatrixDisplay at 0x7f415a7dbe90>"
            ]
          },
          "metadata": {},
          "execution_count": 42
        },
        {
          "output_type": "display_data",
          "data": {
            "text/plain": [
              "<Figure size 432x288 with 2 Axes>"
            ],
            "image/png": "[encoded data removed]"
          },
          "metadata": {
            "needs_background": "light"
          }
        }
      ]
    }
  ]
}